{
  "nbformat": 4,
  "nbformat_minor": 0,
  "metadata": {
    "colab": {
      "provenance": [],
      "authorship_tag": "ABX9TyM7PxAFWbFz4K5drC9kQxHk",
      "include_colab_link": true
    },
    "kernelspec": {
      "name": "python3",
      "display_name": "Python 3"
    },
    "language_info": {
      "name": "python"
    },
    "widgets": {
      "application/vnd.jupyter.widget-state+json": {
        "baad4bec69e443978bd11d5dc3cf3df9": {
          "model_module": "@jupyter-widgets/controls",
          "model_name": "HBoxModel",
          "model_module_version": "1.5.0",
          "state": {
            "_dom_classes": [],
            "_model_module": "@jupyter-widgets/controls",
            "_model_module_version": "1.5.0",
            "_model_name": "HBoxModel",
            "_view_count": null,
            "_view_module": "@jupyter-widgets/controls",
            "_view_module_version": "1.5.0",
            "_view_name": "HBoxView",
            "box_style": "",
            "children": [
              "IPY_MODEL_abab4953449540668175fc746f3c9838",
              "IPY_MODEL_72181bb7f36c4376b336a63e616f0712",
              "IPY_MODEL_265d84b7a39f465caa09d47cd53e5dc0"
            ],
            "layout": "IPY_MODEL_ff89663705994883b4886414dc2824cf"
          }
        },
        "abab4953449540668175fc746f3c9838": {
          "model_module": "@jupyter-widgets/controls",
          "model_name": "HTMLModel",
          "model_module_version": "1.5.0",
          "state": {
            "_dom_classes": [],
            "_model_module": "@jupyter-widgets/controls",
            "_model_module_version": "1.5.0",
            "_model_name": "HTMLModel",
            "_view_count": null,
            "_view_module": "@jupyter-widgets/controls",
            "_view_module_version": "1.5.0",
            "_view_name": "HTMLView",
            "description": "",
            "description_tooltip": null,
            "layout": "IPY_MODEL_2c43013a2fb84b5fbaeae96489e0c75f",
            "placeholder": "​",
            "style": "IPY_MODEL_51097a3ffc344ee8b86940b38704c1d3",
            "value": "Downloading (…)zer_78b3253a26.model: 100%"
          }
        },
        "72181bb7f36c4376b336a63e616f0712": {
          "model_module": "@jupyter-widgets/controls",
          "model_name": "FloatProgressModel",
          "model_module_version": "1.5.0",
          "state": {
            "_dom_classes": [],
            "_model_module": "@jupyter-widgets/controls",
            "_model_module_version": "1.5.0",
            "_model_name": "FloatProgressModel",
            "_view_count": null,
            "_view_module": "@jupyter-widgets/controls",
            "_view_module_version": "1.5.0",
            "_view_name": "ProgressView",
            "bar_style": "success",
            "description": "",
            "description_tooltip": null,
            "layout": "IPY_MODEL_58e1796f220d417e81e3d2a0ceaea166",
            "max": 371391,
            "min": 0,
            "orientation": "horizontal",
            "style": "IPY_MODEL_49dd8d2f139148cfb0da80cd52fdda7e",
            "value": 371391
          }
        },
        "265d84b7a39f465caa09d47cd53e5dc0": {
          "model_module": "@jupyter-widgets/controls",
          "model_name": "HTMLModel",
          "model_module_version": "1.5.0",
          "state": {
            "_dom_classes": [],
            "_model_module": "@jupyter-widgets/controls",
            "_model_module_version": "1.5.0",
            "_model_name": "HTMLModel",
            "_view_count": null,
            "_view_module": "@jupyter-widgets/controls",
            "_view_module_version": "1.5.0",
            "_view_name": "HTMLView",
            "description": "",
            "description_tooltip": null,
            "layout": "IPY_MODEL_fd0ad3a81e014011bf8f9700e62fd22b",
            "placeholder": "​",
            "style": "IPY_MODEL_2e67b521838a4a479d96f42d188bbe3f",
            "value": " 371k/371k [00:00&lt;00:00, 6.31MB/s]"
          }
        },
        "ff89663705994883b4886414dc2824cf": {
          "model_module": "@jupyter-widgets/base",
          "model_name": "LayoutModel",
          "model_module_version": "1.2.0",
          "state": {
            "_model_module": "@jupyter-widgets/base",
            "_model_module_version": "1.2.0",
            "_model_name": "LayoutModel",
            "_view_count": null,
            "_view_module": "@jupyter-widgets/base",
            "_view_module_version": "1.2.0",
            "_view_name": "LayoutView",
            "align_content": null,
            "align_items": null,
            "align_self": null,
            "border": null,
            "bottom": null,
            "display": null,
            "flex": null,
            "flex_flow": null,
            "grid_area": null,
            "grid_auto_columns": null,
            "grid_auto_flow": null,
            "grid_auto_rows": null,
            "grid_column": null,
            "grid_gap": null,
            "grid_row": null,
            "grid_template_areas": null,
            "grid_template_columns": null,
            "grid_template_rows": null,
            "height": null,
            "justify_content": null,
            "justify_items": null,
            "left": null,
            "margin": null,
            "max_height": null,
            "max_width": null,
            "min_height": null,
            "min_width": null,
            "object_fit": null,
            "object_position": null,
            "order": null,
            "overflow": null,
            "overflow_x": null,
            "overflow_y": null,
            "padding": null,
            "right": null,
            "top": null,
            "visibility": null,
            "width": null
          }
        },
        "2c43013a2fb84b5fbaeae96489e0c75f": {
          "model_module": "@jupyter-widgets/base",
          "model_name": "LayoutModel",
          "model_module_version": "1.2.0",
          "state": {
            "_model_module": "@jupyter-widgets/base",
            "_model_module_version": "1.2.0",
            "_model_name": "LayoutModel",
            "_view_count": null,
            "_view_module": "@jupyter-widgets/base",
            "_view_module_version": "1.2.0",
            "_view_name": "LayoutView",
            "align_content": null,
            "align_items": null,
            "align_self": null,
            "border": null,
            "bottom": null,
            "display": null,
            "flex": null,
            "flex_flow": null,
            "grid_area": null,
            "grid_auto_columns": null,
            "grid_auto_flow": null,
            "grid_auto_rows": null,
            "grid_column": null,
            "grid_gap": null,
            "grid_row": null,
            "grid_template_areas": null,
            "grid_template_columns": null,
            "grid_template_rows": null,
            "height": null,
            "justify_content": null,
            "justify_items": null,
            "left": null,
            "margin": null,
            "max_height": null,
            "max_width": null,
            "min_height": null,
            "min_width": null,
            "object_fit": null,
            "object_position": null,
            "order": null,
            "overflow": null,
            "overflow_x": null,
            "overflow_y": null,
            "padding": null,
            "right": null,
            "top": null,
            "visibility": null,
            "width": null
          }
        },
        "51097a3ffc344ee8b86940b38704c1d3": {
          "model_module": "@jupyter-widgets/controls",
          "model_name": "DescriptionStyleModel",
          "model_module_version": "1.5.0",
          "state": {
            "_model_module": "@jupyter-widgets/controls",
            "_model_module_version": "1.5.0",
            "_model_name": "DescriptionStyleModel",
            "_view_count": null,
            "_view_module": "@jupyter-widgets/base",
            "_view_module_version": "1.2.0",
            "_view_name": "StyleView",
            "description_width": ""
          }
        },
        "58e1796f220d417e81e3d2a0ceaea166": {
          "model_module": "@jupyter-widgets/base",
          "model_name": "LayoutModel",
          "model_module_version": "1.2.0",
          "state": {
            "_model_module": "@jupyter-widgets/base",
            "_model_module_version": "1.2.0",
            "_model_name": "LayoutModel",
            "_view_count": null,
            "_view_module": "@jupyter-widgets/base",
            "_view_module_version": "1.2.0",
            "_view_name": "LayoutView",
            "align_content": null,
            "align_items": null,
            "align_self": null,
            "border": null,
            "bottom": null,
            "display": null,
            "flex": null,
            "flex_flow": null,
            "grid_area": null,
            "grid_auto_columns": null,
            "grid_auto_flow": null,
            "grid_auto_rows": null,
            "grid_column": null,
            "grid_gap": null,
            "grid_row": null,
            "grid_template_areas": null,
            "grid_template_columns": null,
            "grid_template_rows": null,
            "height": null,
            "justify_content": null,
            "justify_items": null,
            "left": null,
            "margin": null,
            "max_height": null,
            "max_width": null,
            "min_height": null,
            "min_width": null,
            "object_fit": null,
            "object_position": null,
            "order": null,
            "overflow": null,
            "overflow_x": null,
            "overflow_y": null,
            "padding": null,
            "right": null,
            "top": null,
            "visibility": null,
            "width": null
          }
        },
        "49dd8d2f139148cfb0da80cd52fdda7e": {
          "model_module": "@jupyter-widgets/controls",
          "model_name": "ProgressStyleModel",
          "model_module_version": "1.5.0",
          "state": {
            "_model_module": "@jupyter-widgets/controls",
            "_model_module_version": "1.5.0",
            "_model_name": "ProgressStyleModel",
            "_view_count": null,
            "_view_module": "@jupyter-widgets/base",
            "_view_module_version": "1.2.0",
            "_view_name": "StyleView",
            "bar_color": null,
            "description_width": ""
          }
        },
        "fd0ad3a81e014011bf8f9700e62fd22b": {
          "model_module": "@jupyter-widgets/base",
          "model_name": "LayoutModel",
          "model_module_version": "1.2.0",
          "state": {
            "_model_module": "@jupyter-widgets/base",
            "_model_module_version": "1.2.0",
            "_model_name": "LayoutModel",
            "_view_count": null,
            "_view_module": "@jupyter-widgets/base",
            "_view_module_version": "1.2.0",
            "_view_name": "LayoutView",
            "align_content": null,
            "align_items": null,
            "align_self": null,
            "border": null,
            "bottom": null,
            "display": null,
            "flex": null,
            "flex_flow": null,
            "grid_area": null,
            "grid_auto_columns": null,
            "grid_auto_flow": null,
            "grid_auto_rows": null,
            "grid_column": null,
            "grid_gap": null,
            "grid_row": null,
            "grid_template_areas": null,
            "grid_template_columns": null,
            "grid_template_rows": null,
            "height": null,
            "justify_content": null,
            "justify_items": null,
            "left": null,
            "margin": null,
            "max_height": null,
            "max_width": null,
            "min_height": null,
            "min_width": null,
            "object_fit": null,
            "object_position": null,
            "order": null,
            "overflow": null,
            "overflow_x": null,
            "overflow_y": null,
            "padding": null,
            "right": null,
            "top": null,
            "visibility": null,
            "width": null
          }
        },
        "2e67b521838a4a479d96f42d188bbe3f": {
          "model_module": "@jupyter-widgets/controls",
          "model_name": "DescriptionStyleModel",
          "model_module_version": "1.5.0",
          "state": {
            "_model_module": "@jupyter-widgets/controls",
            "_model_module_version": "1.5.0",
            "_model_name": "DescriptionStyleModel",
            "_view_count": null,
            "_view_module": "@jupyter-widgets/base",
            "_view_module_version": "1.2.0",
            "_view_name": "StyleView",
            "description_width": ""
          }
        },
        "3578d343a0d84b08b31009afbfc9061c": {
          "model_module": "@jupyter-widgets/controls",
          "model_name": "HBoxModel",
          "model_module_version": "1.5.0",
          "state": {
            "_dom_classes": [],
            "_model_module": "@jupyter-widgets/controls",
            "_model_module_version": "1.5.0",
            "_model_name": "HBoxModel",
            "_view_count": null,
            "_view_module": "@jupyter-widgets/controls",
            "_view_module_version": "1.5.0",
            "_view_name": "HBoxView",
            "box_style": "",
            "children": [
              "IPY_MODEL_3688f0056c9547fba6a8a61ef1a22315",
              "IPY_MODEL_20bbcd954b2d457a85eda0b460a0b38e",
              "IPY_MODEL_b52b6ef8170b4b438799caa27abc5b61"
            ],
            "layout": "IPY_MODEL_7c0d6107f1164cd6907c29b0b4c69219"
          }
        },
        "3688f0056c9547fba6a8a61ef1a22315": {
          "model_module": "@jupyter-widgets/controls",
          "model_name": "HTMLModel",
          "model_module_version": "1.5.0",
          "state": {
            "_dom_classes": [],
            "_model_module": "@jupyter-widgets/controls",
            "_model_module_version": "1.5.0",
            "_model_name": "HTMLModel",
            "_view_count": null,
            "_view_module": "@jupyter-widgets/controls",
            "_view_module_version": "1.5.0",
            "_view_name": "HTMLView",
            "description": "",
            "description_tooltip": null,
            "layout": "IPY_MODEL_7d86bef8eab041bf86bd4795f1b6c934",
            "placeholder": "​",
            "style": "IPY_MODEL_b6248eb4192a4f1c98362fc94eda0d28",
            "value": "Downloading (…)solve/main/vocab.txt: 100%"
          }
        },
        "20bbcd954b2d457a85eda0b460a0b38e": {
          "model_module": "@jupyter-widgets/controls",
          "model_name": "FloatProgressModel",
          "model_module_version": "1.5.0",
          "state": {
            "_dom_classes": [],
            "_model_module": "@jupyter-widgets/controls",
            "_model_module_version": "1.5.0",
            "_model_name": "FloatProgressModel",
            "_view_count": null,
            "_view_module": "@jupyter-widgets/controls",
            "_view_module_version": "1.5.0",
            "_view_name": "ProgressView",
            "bar_style": "success",
            "description": "",
            "description_tooltip": null,
            "layout": "IPY_MODEL_e047015e26274f3b991d1966b76e6d36",
            "max": 77779,
            "min": 0,
            "orientation": "horizontal",
            "style": "IPY_MODEL_30c09ebc4c1c4ffabec199bec9455e10",
            "value": 77779
          }
        },
        "b52b6ef8170b4b438799caa27abc5b61": {
          "model_module": "@jupyter-widgets/controls",
          "model_name": "HTMLModel",
          "model_module_version": "1.5.0",
          "state": {
            "_dom_classes": [],
            "_model_module": "@jupyter-widgets/controls",
            "_model_module_version": "1.5.0",
            "_model_name": "HTMLModel",
            "_view_count": null,
            "_view_module": "@jupyter-widgets/controls",
            "_view_module_version": "1.5.0",
            "_view_name": "HTMLView",
            "description": "",
            "description_tooltip": null,
            "layout": "IPY_MODEL_4d7b06ba3ec14988881edd60b2e4ca2d",
            "placeholder": "​",
            "style": "IPY_MODEL_61b512974fba4da2ab9e82a6a065ace3",
            "value": " 77.8k/77.8k [00:00&lt;00:00, 2.88MB/s]"
          }
        },
        "7c0d6107f1164cd6907c29b0b4c69219": {
          "model_module": "@jupyter-widgets/base",
          "model_name": "LayoutModel",
          "model_module_version": "1.2.0",
          "state": {
            "_model_module": "@jupyter-widgets/base",
            "_model_module_version": "1.2.0",
            "_model_name": "LayoutModel",
            "_view_count": null,
            "_view_module": "@jupyter-widgets/base",
            "_view_module_version": "1.2.0",
            "_view_name": "LayoutView",
            "align_content": null,
            "align_items": null,
            "align_self": null,
            "border": null,
            "bottom": null,
            "display": null,
            "flex": null,
            "flex_flow": null,
            "grid_area": null,
            "grid_auto_columns": null,
            "grid_auto_flow": null,
            "grid_auto_rows": null,
            "grid_column": null,
            "grid_gap": null,
            "grid_row": null,
            "grid_template_areas": null,
            "grid_template_columns": null,
            "grid_template_rows": null,
            "height": null,
            "justify_content": null,
            "justify_items": null,
            "left": null,
            "margin": null,
            "max_height": null,
            "max_width": null,
            "min_height": null,
            "min_width": null,
            "object_fit": null,
            "object_position": null,
            "order": null,
            "overflow": null,
            "overflow_x": null,
            "overflow_y": null,
            "padding": null,
            "right": null,
            "top": null,
            "visibility": null,
            "width": null
          }
        },
        "7d86bef8eab041bf86bd4795f1b6c934": {
          "model_module": "@jupyter-widgets/base",
          "model_name": "LayoutModel",
          "model_module_version": "1.2.0",
          "state": {
            "_model_module": "@jupyter-widgets/base",
            "_model_module_version": "1.2.0",
            "_model_name": "LayoutModel",
            "_view_count": null,
            "_view_module": "@jupyter-widgets/base",
            "_view_module_version": "1.2.0",
            "_view_name": "LayoutView",
            "align_content": null,
            "align_items": null,
            "align_self": null,
            "border": null,
            "bottom": null,
            "display": null,
            "flex": null,
            "flex_flow": null,
            "grid_area": null,
            "grid_auto_columns": null,
            "grid_auto_flow": null,
            "grid_auto_rows": null,
            "grid_column": null,
            "grid_gap": null,
            "grid_row": null,
            "grid_template_areas": null,
            "grid_template_columns": null,
            "grid_template_rows": null,
            "height": null,
            "justify_content": null,
            "justify_items": null,
            "left": null,
            "margin": null,
            "max_height": null,
            "max_width": null,
            "min_height": null,
            "min_width": null,
            "object_fit": null,
            "object_position": null,
            "order": null,
            "overflow": null,
            "overflow_x": null,
            "overflow_y": null,
            "padding": null,
            "right": null,
            "top": null,
            "visibility": null,
            "width": null
          }
        },
        "b6248eb4192a4f1c98362fc94eda0d28": {
          "model_module": "@jupyter-widgets/controls",
          "model_name": "DescriptionStyleModel",
          "model_module_version": "1.5.0",
          "state": {
            "_model_module": "@jupyter-widgets/controls",
            "_model_module_version": "1.5.0",
            "_model_name": "DescriptionStyleModel",
            "_view_count": null,
            "_view_module": "@jupyter-widgets/base",
            "_view_module_version": "1.2.0",
            "_view_name": "StyleView",
            "description_width": ""
          }
        },
        "e047015e26274f3b991d1966b76e6d36": {
          "model_module": "@jupyter-widgets/base",
          "model_name": "LayoutModel",
          "model_module_version": "1.2.0",
          "state": {
            "_model_module": "@jupyter-widgets/base",
            "_model_module_version": "1.2.0",
            "_model_name": "LayoutModel",
            "_view_count": null,
            "_view_module": "@jupyter-widgets/base",
            "_view_module_version": "1.2.0",
            "_view_name": "LayoutView",
            "align_content": null,
            "align_items": null,
            "align_self": null,
            "border": null,
            "bottom": null,
            "display": null,
            "flex": null,
            "flex_flow": null,
            "grid_area": null,
            "grid_auto_columns": null,
            "grid_auto_flow": null,
            "grid_auto_rows": null,
            "grid_column": null,
            "grid_gap": null,
            "grid_row": null,
            "grid_template_areas": null,
            "grid_template_columns": null,
            "grid_template_rows": null,
            "height": null,
            "justify_content": null,
            "justify_items": null,
            "left": null,
            "margin": null,
            "max_height": null,
            "max_width": null,
            "min_height": null,
            "min_width": null,
            "object_fit": null,
            "object_position": null,
            "order": null,
            "overflow": null,
            "overflow_x": null,
            "overflow_y": null,
            "padding": null,
            "right": null,
            "top": null,
            "visibility": null,
            "width": null
          }
        },
        "30c09ebc4c1c4ffabec199bec9455e10": {
          "model_module": "@jupyter-widgets/controls",
          "model_name": "ProgressStyleModel",
          "model_module_version": "1.5.0",
          "state": {
            "_model_module": "@jupyter-widgets/controls",
            "_model_module_version": "1.5.0",
            "_model_name": "ProgressStyleModel",
            "_view_count": null,
            "_view_module": "@jupyter-widgets/base",
            "_view_module_version": "1.2.0",
            "_view_name": "StyleView",
            "bar_color": null,
            "description_width": ""
          }
        },
        "4d7b06ba3ec14988881edd60b2e4ca2d": {
          "model_module": "@jupyter-widgets/base",
          "model_name": "LayoutModel",
          "model_module_version": "1.2.0",
          "state": {
            "_model_module": "@jupyter-widgets/base",
            "_model_module_version": "1.2.0",
            "_model_name": "LayoutModel",
            "_view_count": null,
            "_view_module": "@jupyter-widgets/base",
            "_view_module_version": "1.2.0",
            "_view_name": "LayoutView",
            "align_content": null,
            "align_items": null,
            "align_self": null,
            "border": null,
            "bottom": null,
            "display": null,
            "flex": null,
            "flex_flow": null,
            "grid_area": null,
            "grid_auto_columns": null,
            "grid_auto_flow": null,
            "grid_auto_rows": null,
            "grid_column": null,
            "grid_gap": null,
            "grid_row": null,
            "grid_template_areas": null,
            "grid_template_columns": null,
            "grid_template_rows": null,
            "height": null,
            "justify_content": null,
            "justify_items": null,
            "left": null,
            "margin": null,
            "max_height": null,
            "max_width": null,
            "min_height": null,
            "min_width": null,
            "object_fit": null,
            "object_position": null,
            "order": null,
            "overflow": null,
            "overflow_x": null,
            "overflow_y": null,
            "padding": null,
            "right": null,
            "top": null,
            "visibility": null,
            "width": null
          }
        },
        "61b512974fba4da2ab9e82a6a065ace3": {
          "model_module": "@jupyter-widgets/controls",
          "model_name": "DescriptionStyleModel",
          "model_module_version": "1.5.0",
          "state": {
            "_model_module": "@jupyter-widgets/controls",
            "_model_module_version": "1.5.0",
            "_model_name": "DescriptionStyleModel",
            "_view_count": null,
            "_view_module": "@jupyter-widgets/base",
            "_view_module_version": "1.2.0",
            "_view_name": "StyleView",
            "description_width": ""
          }
        },
        "e896e241f0994daeaf0ad900f8ed6134": {
          "model_module": "@jupyter-widgets/controls",
          "model_name": "HBoxModel",
          "model_module_version": "1.5.0",
          "state": {
            "_dom_classes": [],
            "_model_module": "@jupyter-widgets/controls",
            "_model_module_version": "1.5.0",
            "_model_name": "HBoxModel",
            "_view_count": null,
            "_view_module": "@jupyter-widgets/controls",
            "_view_module_version": "1.5.0",
            "_view_name": "HBoxView",
            "box_style": "",
            "children": [
              "IPY_MODEL_b8ce6ac922354ec49d6cbb868905e9f4",
              "IPY_MODEL_228ecb6268c4433e8e34c7d58e412d72",
              "IPY_MODEL_b71b03fbba514ea5bc42120a026fce35"
            ],
            "layout": "IPY_MODEL_a6f088a54f0b4474bf861a2bf4474b20"
          }
        },
        "b8ce6ac922354ec49d6cbb868905e9f4": {
          "model_module": "@jupyter-widgets/controls",
          "model_name": "HTMLModel",
          "model_module_version": "1.5.0",
          "state": {
            "_dom_classes": [],
            "_model_module": "@jupyter-widgets/controls",
            "_model_module_version": "1.5.0",
            "_model_name": "HTMLModel",
            "_view_count": null,
            "_view_module": "@jupyter-widgets/controls",
            "_view_module_version": "1.5.0",
            "_view_name": "HTMLView",
            "description": "",
            "description_tooltip": null,
            "layout": "IPY_MODEL_b648e4c5085344668789c6709d4eae56",
            "placeholder": "​",
            "style": "IPY_MODEL_c66b3e99392e40deabe8bbf26e4817fd",
            "value": "Downloading (…)okenizer_config.json: 100%"
          }
        },
        "228ecb6268c4433e8e34c7d58e412d72": {
          "model_module": "@jupyter-widgets/controls",
          "model_name": "FloatProgressModel",
          "model_module_version": "1.5.0",
          "state": {
            "_dom_classes": [],
            "_model_module": "@jupyter-widgets/controls",
            "_model_module_version": "1.5.0",
            "_model_name": "FloatProgressModel",
            "_view_count": null,
            "_view_module": "@jupyter-widgets/controls",
            "_view_module_version": "1.5.0",
            "_view_name": "ProgressView",
            "bar_style": "success",
            "description": "",
            "description_tooltip": null,
            "layout": "IPY_MODEL_0be572401cb34e8fa86d34e83c3a22c2",
            "max": 51,
            "min": 0,
            "orientation": "horizontal",
            "style": "IPY_MODEL_7b5cc558944546e9adb7333112fdea01",
            "value": 51
          }
        },
        "b71b03fbba514ea5bc42120a026fce35": {
          "model_module": "@jupyter-widgets/controls",
          "model_name": "HTMLModel",
          "model_module_version": "1.5.0",
          "state": {
            "_dom_classes": [],
            "_model_module": "@jupyter-widgets/controls",
            "_model_module_version": "1.5.0",
            "_model_name": "HTMLModel",
            "_view_count": null,
            "_view_module": "@jupyter-widgets/controls",
            "_view_module_version": "1.5.0",
            "_view_name": "HTMLView",
            "description": "",
            "description_tooltip": null,
            "layout": "IPY_MODEL_cc6e16a423604fa391dbc7b5662c9b34",
            "placeholder": "​",
            "style": "IPY_MODEL_f86d8c38cedd4821b1211b6c63eb7689",
            "value": " 51.0/51.0 [00:00&lt;00:00, 765B/s]"
          }
        },
        "a6f088a54f0b4474bf861a2bf4474b20": {
          "model_module": "@jupyter-widgets/base",
          "model_name": "LayoutModel",
          "model_module_version": "1.2.0",
          "state": {
            "_model_module": "@jupyter-widgets/base",
            "_model_module_version": "1.2.0",
            "_model_name": "LayoutModel",
            "_view_count": null,
            "_view_module": "@jupyter-widgets/base",
            "_view_module_version": "1.2.0",
            "_view_name": "LayoutView",
            "align_content": null,
            "align_items": null,
            "align_self": null,
            "border": null,
            "bottom": null,
            "display": null,
            "flex": null,
            "flex_flow": null,
            "grid_area": null,
            "grid_auto_columns": null,
            "grid_auto_flow": null,
            "grid_auto_rows": null,
            "grid_column": null,
            "grid_gap": null,
            "grid_row": null,
            "grid_template_areas": null,
            "grid_template_columns": null,
            "grid_template_rows": null,
            "height": null,
            "justify_content": null,
            "justify_items": null,
            "left": null,
            "margin": null,
            "max_height": null,
            "max_width": null,
            "min_height": null,
            "min_width": null,
            "object_fit": null,
            "object_position": null,
            "order": null,
            "overflow": null,
            "overflow_x": null,
            "overflow_y": null,
            "padding": null,
            "right": null,
            "top": null,
            "visibility": null,
            "width": null
          }
        },
        "b648e4c5085344668789c6709d4eae56": {
          "model_module": "@jupyter-widgets/base",
          "model_name": "LayoutModel",
          "model_module_version": "1.2.0",
          "state": {
            "_model_module": "@jupyter-widgets/base",
            "_model_module_version": "1.2.0",
            "_model_name": "LayoutModel",
            "_view_count": null,
            "_view_module": "@jupyter-widgets/base",
            "_view_module_version": "1.2.0",
            "_view_name": "LayoutView",
            "align_content": null,
            "align_items": null,
            "align_self": null,
            "border": null,
            "bottom": null,
            "display": null,
            "flex": null,
            "flex_flow": null,
            "grid_area": null,
            "grid_auto_columns": null,
            "grid_auto_flow": null,
            "grid_auto_rows": null,
            "grid_column": null,
            "grid_gap": null,
            "grid_row": null,
            "grid_template_areas": null,
            "grid_template_columns": null,
            "grid_template_rows": null,
            "height": null,
            "justify_content": null,
            "justify_items": null,
            "left": null,
            "margin": null,
            "max_height": null,
            "max_width": null,
            "min_height": null,
            "min_width": null,
            "object_fit": null,
            "object_position": null,
            "order": null,
            "overflow": null,
            "overflow_x": null,
            "overflow_y": null,
            "padding": null,
            "right": null,
            "top": null,
            "visibility": null,
            "width": null
          }
        },
        "c66b3e99392e40deabe8bbf26e4817fd": {
          "model_module": "@jupyter-widgets/controls",
          "model_name": "DescriptionStyleModel",
          "model_module_version": "1.5.0",
          "state": {
            "_model_module": "@jupyter-widgets/controls",
            "_model_module_version": "1.5.0",
            "_model_name": "DescriptionStyleModel",
            "_view_count": null,
            "_view_module": "@jupyter-widgets/base",
            "_view_module_version": "1.2.0",
            "_view_name": "StyleView",
            "description_width": ""
          }
        },
        "0be572401cb34e8fa86d34e83c3a22c2": {
          "model_module": "@jupyter-widgets/base",
          "model_name": "LayoutModel",
          "model_module_version": "1.2.0",
          "state": {
            "_model_module": "@jupyter-widgets/base",
            "_model_module_version": "1.2.0",
            "_model_name": "LayoutModel",
            "_view_count": null,
            "_view_module": "@jupyter-widgets/base",
            "_view_module_version": "1.2.0",
            "_view_name": "LayoutView",
            "align_content": null,
            "align_items": null,
            "align_self": null,
            "border": null,
            "bottom": null,
            "display": null,
            "flex": null,
            "flex_flow": null,
            "grid_area": null,
            "grid_auto_columns": null,
            "grid_auto_flow": null,
            "grid_auto_rows": null,
            "grid_column": null,
            "grid_gap": null,
            "grid_row": null,
            "grid_template_areas": null,
            "grid_template_columns": null,
            "grid_template_rows": null,
            "height": null,
            "justify_content": null,
            "justify_items": null,
            "left": null,
            "margin": null,
            "max_height": null,
            "max_width": null,
            "min_height": null,
            "min_width": null,
            "object_fit": null,
            "object_position": null,
            "order": null,
            "overflow": null,
            "overflow_x": null,
            "overflow_y": null,
            "padding": null,
            "right": null,
            "top": null,
            "visibility": null,
            "width": null
          }
        },
        "7b5cc558944546e9adb7333112fdea01": {
          "model_module": "@jupyter-widgets/controls",
          "model_name": "ProgressStyleModel",
          "model_module_version": "1.5.0",
          "state": {
            "_model_module": "@jupyter-widgets/controls",
            "_model_module_version": "1.5.0",
            "_model_name": "ProgressStyleModel",
            "_view_count": null,
            "_view_module": "@jupyter-widgets/base",
            "_view_module_version": "1.2.0",
            "_view_name": "StyleView",
            "bar_color": null,
            "description_width": ""
          }
        },
        "cc6e16a423604fa391dbc7b5662c9b34": {
          "model_module": "@jupyter-widgets/base",
          "model_name": "LayoutModel",
          "model_module_version": "1.2.0",
          "state": {
            "_model_module": "@jupyter-widgets/base",
            "_model_module_version": "1.2.0",
            "_model_name": "LayoutModel",
            "_view_count": null,
            "_view_module": "@jupyter-widgets/base",
            "_view_module_version": "1.2.0",
            "_view_name": "LayoutView",
            "align_content": null,
            "align_items": null,
            "align_self": null,
            "border": null,
            "bottom": null,
            "display": null,
            "flex": null,
            "flex_flow": null,
            "grid_area": null,
            "grid_auto_columns": null,
            "grid_auto_flow": null,
            "grid_auto_rows": null,
            "grid_column": null,
            "grid_gap": null,
            "grid_row": null,
            "grid_template_areas": null,
            "grid_template_columns": null,
            "grid_template_rows": null,
            "height": null,
            "justify_content": null,
            "justify_items": null,
            "left": null,
            "margin": null,
            "max_height": null,
            "max_width": null,
            "min_height": null,
            "min_width": null,
            "object_fit": null,
            "object_position": null,
            "order": null,
            "overflow": null,
            "overflow_x": null,
            "overflow_y": null,
            "padding": null,
            "right": null,
            "top": null,
            "visibility": null,
            "width": null
          }
        },
        "f86d8c38cedd4821b1211b6c63eb7689": {
          "model_module": "@jupyter-widgets/controls",
          "model_name": "DescriptionStyleModel",
          "model_module_version": "1.5.0",
          "state": {
            "_model_module": "@jupyter-widgets/controls",
            "_model_module_version": "1.5.0",
            "_model_name": "DescriptionStyleModel",
            "_view_count": null,
            "_view_module": "@jupyter-widgets/base",
            "_view_module_version": "1.2.0",
            "_view_name": "StyleView",
            "description_width": ""
          }
        },
        "268a6812820f4c7d99074b6ffee6d7f1": {
          "model_module": "@jupyter-widgets/controls",
          "model_name": "HBoxModel",
          "model_module_version": "1.5.0",
          "state": {
            "_dom_classes": [],
            "_model_module": "@jupyter-widgets/controls",
            "_model_module_version": "1.5.0",
            "_model_name": "HBoxModel",
            "_view_count": null,
            "_view_module": "@jupyter-widgets/controls",
            "_view_module_version": "1.5.0",
            "_view_name": "HBoxView",
            "box_style": "",
            "children": [
              "IPY_MODEL_474dc9abb5f942f8a80c51d5fa78b730",
              "IPY_MODEL_2ac7b21e6f1c4a8a995c682568de9081",
              "IPY_MODEL_a4bae9ce358845d39c73c2c02a0a962f"
            ],
            "layout": "IPY_MODEL_139b16e57226480c8f1aa2fc818b9876"
          }
        },
        "474dc9abb5f942f8a80c51d5fa78b730": {
          "model_module": "@jupyter-widgets/controls",
          "model_name": "HTMLModel",
          "model_module_version": "1.5.0",
          "state": {
            "_dom_classes": [],
            "_model_module": "@jupyter-widgets/controls",
            "_model_module_version": "1.5.0",
            "_model_name": "HTMLModel",
            "_view_count": null,
            "_view_module": "@jupyter-widgets/controls",
            "_view_module_version": "1.5.0",
            "_view_name": "HTMLView",
            "description": "",
            "description_tooltip": null,
            "layout": "IPY_MODEL_5740b5e7d02047e58b00b1ab230d1d29",
            "placeholder": "​",
            "style": "IPY_MODEL_f9bd164ea12b436283afbf4b72b9d813",
            "value": "Downloading (…)lve/main/config.json: 100%"
          }
        },
        "2ac7b21e6f1c4a8a995c682568de9081": {
          "model_module": "@jupyter-widgets/controls",
          "model_name": "FloatProgressModel",
          "model_module_version": "1.5.0",
          "state": {
            "_dom_classes": [],
            "_model_module": "@jupyter-widgets/controls",
            "_model_module_version": "1.5.0",
            "_model_name": "FloatProgressModel",
            "_view_count": null,
            "_view_module": "@jupyter-widgets/controls",
            "_view_module_version": "1.5.0",
            "_view_name": "ProgressView",
            "bar_style": "success",
            "description": "",
            "description_tooltip": null,
            "layout": "IPY_MODEL_ee99ddee8f6c48c99bb85ee79e63bf9c",
            "max": 426,
            "min": 0,
            "orientation": "horizontal",
            "style": "IPY_MODEL_d7300f3df9ef460c920da7e6fe23501d",
            "value": 426
          }
        },
        "a4bae9ce358845d39c73c2c02a0a962f": {
          "model_module": "@jupyter-widgets/controls",
          "model_name": "HTMLModel",
          "model_module_version": "1.5.0",
          "state": {
            "_dom_classes": [],
            "_model_module": "@jupyter-widgets/controls",
            "_model_module_version": "1.5.0",
            "_model_name": "HTMLModel",
            "_view_count": null,
            "_view_module": "@jupyter-widgets/controls",
            "_view_module_version": "1.5.0",
            "_view_name": "HTMLView",
            "description": "",
            "description_tooltip": null,
            "layout": "IPY_MODEL_6501f9f0828d40dc9cc2e0293787ae38",
            "placeholder": "​",
            "style": "IPY_MODEL_f5d7941f3477455ba21b3018cc0f1f02",
            "value": " 426/426 [00:00&lt;00:00, 5.04kB/s]"
          }
        },
        "139b16e57226480c8f1aa2fc818b9876": {
          "model_module": "@jupyter-widgets/base",
          "model_name": "LayoutModel",
          "model_module_version": "1.2.0",
          "state": {
            "_model_module": "@jupyter-widgets/base",
            "_model_module_version": "1.2.0",
            "_model_name": "LayoutModel",
            "_view_count": null,
            "_view_module": "@jupyter-widgets/base",
            "_view_module_version": "1.2.0",
            "_view_name": "LayoutView",
            "align_content": null,
            "align_items": null,
            "align_self": null,
            "border": null,
            "bottom": null,
            "display": null,
            "flex": null,
            "flex_flow": null,
            "grid_area": null,
            "grid_auto_columns": null,
            "grid_auto_flow": null,
            "grid_auto_rows": null,
            "grid_column": null,
            "grid_gap": null,
            "grid_row": null,
            "grid_template_areas": null,
            "grid_template_columns": null,
            "grid_template_rows": null,
            "height": null,
            "justify_content": null,
            "justify_items": null,
            "left": null,
            "margin": null,
            "max_height": null,
            "max_width": null,
            "min_height": null,
            "min_width": null,
            "object_fit": null,
            "object_position": null,
            "order": null,
            "overflow": null,
            "overflow_x": null,
            "overflow_y": null,
            "padding": null,
            "right": null,
            "top": null,
            "visibility": null,
            "width": null
          }
        },
        "5740b5e7d02047e58b00b1ab230d1d29": {
          "model_module": "@jupyter-widgets/base",
          "model_name": "LayoutModel",
          "model_module_version": "1.2.0",
          "state": {
            "_model_module": "@jupyter-widgets/base",
            "_model_module_version": "1.2.0",
            "_model_name": "LayoutModel",
            "_view_count": null,
            "_view_module": "@jupyter-widgets/base",
            "_view_module_version": "1.2.0",
            "_view_name": "LayoutView",
            "align_content": null,
            "align_items": null,
            "align_self": null,
            "border": null,
            "bottom": null,
            "display": null,
            "flex": null,
            "flex_flow": null,
            "grid_area": null,
            "grid_auto_columns": null,
            "grid_auto_flow": null,
            "grid_auto_rows": null,
            "grid_column": null,
            "grid_gap": null,
            "grid_row": null,
            "grid_template_areas": null,
            "grid_template_columns": null,
            "grid_template_rows": null,
            "height": null,
            "justify_content": null,
            "justify_items": null,
            "left": null,
            "margin": null,
            "max_height": null,
            "max_width": null,
            "min_height": null,
            "min_width": null,
            "object_fit": null,
            "object_position": null,
            "order": null,
            "overflow": null,
            "overflow_x": null,
            "overflow_y": null,
            "padding": null,
            "right": null,
            "top": null,
            "visibility": null,
            "width": null
          }
        },
        "f9bd164ea12b436283afbf4b72b9d813": {
          "model_module": "@jupyter-widgets/controls",
          "model_name": "DescriptionStyleModel",
          "model_module_version": "1.5.0",
          "state": {
            "_model_module": "@jupyter-widgets/controls",
            "_model_module_version": "1.5.0",
            "_model_name": "DescriptionStyleModel",
            "_view_count": null,
            "_view_module": "@jupyter-widgets/base",
            "_view_module_version": "1.2.0",
            "_view_name": "StyleView",
            "description_width": ""
          }
        },
        "ee99ddee8f6c48c99bb85ee79e63bf9c": {
          "model_module": "@jupyter-widgets/base",
          "model_name": "LayoutModel",
          "model_module_version": "1.2.0",
          "state": {
            "_model_module": "@jupyter-widgets/base",
            "_model_module_version": "1.2.0",
            "_model_name": "LayoutModel",
            "_view_count": null,
            "_view_module": "@jupyter-widgets/base",
            "_view_module_version": "1.2.0",
            "_view_name": "LayoutView",
            "align_content": null,
            "align_items": null,
            "align_self": null,
            "border": null,
            "bottom": null,
            "display": null,
            "flex": null,
            "flex_flow": null,
            "grid_area": null,
            "grid_auto_columns": null,
            "grid_auto_flow": null,
            "grid_auto_rows": null,
            "grid_column": null,
            "grid_gap": null,
            "grid_row": null,
            "grid_template_areas": null,
            "grid_template_columns": null,
            "grid_template_rows": null,
            "height": null,
            "justify_content": null,
            "justify_items": null,
            "left": null,
            "margin": null,
            "max_height": null,
            "max_width": null,
            "min_height": null,
            "min_width": null,
            "object_fit": null,
            "object_position": null,
            "order": null,
            "overflow": null,
            "overflow_x": null,
            "overflow_y": null,
            "padding": null,
            "right": null,
            "top": null,
            "visibility": null,
            "width": null
          }
        },
        "d7300f3df9ef460c920da7e6fe23501d": {
          "model_module": "@jupyter-widgets/controls",
          "model_name": "ProgressStyleModel",
          "model_module_version": "1.5.0",
          "state": {
            "_model_module": "@jupyter-widgets/controls",
            "_model_module_version": "1.5.0",
            "_model_name": "ProgressStyleModel",
            "_view_count": null,
            "_view_module": "@jupyter-widgets/base",
            "_view_module_version": "1.2.0",
            "_view_name": "StyleView",
            "bar_color": null,
            "description_width": ""
          }
        },
        "6501f9f0828d40dc9cc2e0293787ae38": {
          "model_module": "@jupyter-widgets/base",
          "model_name": "LayoutModel",
          "model_module_version": "1.2.0",
          "state": {
            "_model_module": "@jupyter-widgets/base",
            "_model_module_version": "1.2.0",
            "_model_name": "LayoutModel",
            "_view_count": null,
            "_view_module": "@jupyter-widgets/base",
            "_view_module_version": "1.2.0",
            "_view_name": "LayoutView",
            "align_content": null,
            "align_items": null,
            "align_self": null,
            "border": null,
            "bottom": null,
            "display": null,
            "flex": null,
            "flex_flow": null,
            "grid_area": null,
            "grid_auto_columns": null,
            "grid_auto_flow": null,
            "grid_auto_rows": null,
            "grid_column": null,
            "grid_gap": null,
            "grid_row": null,
            "grid_template_areas": null,
            "grid_template_columns": null,
            "grid_template_rows": null,
            "height": null,
            "justify_content": null,
            "justify_items": null,
            "left": null,
            "margin": null,
            "max_height": null,
            "max_width": null,
            "min_height": null,
            "min_width": null,
            "object_fit": null,
            "object_position": null,
            "order": null,
            "overflow": null,
            "overflow_x": null,
            "overflow_y": null,
            "padding": null,
            "right": null,
            "top": null,
            "visibility": null,
            "width": null
          }
        },
        "f5d7941f3477455ba21b3018cc0f1f02": {
          "model_module": "@jupyter-widgets/controls",
          "model_name": "DescriptionStyleModel",
          "model_module_version": "1.5.0",
          "state": {
            "_model_module": "@jupyter-widgets/controls",
            "_model_module_version": "1.5.0",
            "_model_name": "DescriptionStyleModel",
            "_view_count": null,
            "_view_module": "@jupyter-widgets/base",
            "_view_module_version": "1.2.0",
            "_view_name": "StyleView",
            "description_width": ""
          }
        }
      }
    }
  },
  "cells": [
    {
      "cell_type": "markdown",
      "metadata": {
        "id": "view-in-github",
        "colab_type": "text"
      },
      "source": [
        "<a href=\"https://colab.research.google.com/github/leeCodingStudio/Python_NLP/blob/master/10_BERT.ipynb\" target=\"_parent\"><img src=\"https://colab.research.google.com/assets/colab-badge.svg\" alt=\"Open In Colab\"/></a>"
      ]
    },
    {
      "cell_type": "markdown",
      "source": [
        "# 1. BERT 모델\n",
        "* 2018년도 Google의 논문에서 처음 제안된 모델로, Transformer의 인코더 기반의 언어 모델\n",
        "* unlabeled data로 부터 pre-train을 진행한 후, 특정 downstream task에 fine-tuning을 하는 모델\n",
        "* deep bidirectional을 더욱 강조하여 기존의 모델들과의 차별성을 강조\n",
        "* 하나의 output layer만을 pre-trained BERT 모델에 추가하여 NLP의 다양한 주요 task(11개)에서 SOTA를 달성"
      ],
      "metadata": {
        "id": "2tw48MqXHUsQ"
      }
    },
    {
      "cell_type": "markdown",
      "source": [
        "### 1-1. BERT 모델 개요\n",
        "* LM의 pre-training 방법은 BERT 이전에도 많이 연구되고 있었고, 실제로 좋은 성능을 내고 있었음\n",
        "* 특히 문장 단위의 task에서 두각을 보였는데, 이러한 연구들은 두 문장의 관계를 전체적으로 분석하여 예측하는 것을 목표로 함\n",
        "* 문장 뿐만 아니라 토큰 단위의 task(개체명 인식, QA 등)에서도 좋은 성능을 보였음\n",
        "* downstream 작업에 사전 학습된 벡터 표현을 적용하는 방법\n",
        "    - feature based approach\n",
        "        * 대표적으로 ELMo\n",
        "        * pre-trained representations을 하나의 추가적은 feature로 활용해 사용\n",
        "    - fine-tuning approach\n",
        "        * paramerters 수는 최소화하고, 모든 pre-trained 파라미터를 조금만 바꿔서 downstream 작업을 학습\n",
        "\n",
        "> 일반적으로 language representation을 학습하기 위해 uni-directional 언어 모델을 사용하는데 기존의 위 방법이 사전 학습의 성능을 쩔어뜨린하고 주장"
      ],
      "metadata": {
        "id": "nKotwzgJH6Ae"
      }
    },
    {
      "cell_type": "markdown",
      "source": [
        "### 1-2. BERT 모델 구조\n",
        "* Pre-training part와 Fine-tuning part로 나눠짐\n",
        "* Pre-training 에서는 다양한 pre-training tasks의 unlabeled data를 활용해 파라미터를 설정하고 이를 바탕으로 학습된 모델은 Fine-tining에서 downstram tasks의 labeled data를 이용해 fine-tuning\n",
        "* 양방향 Transformer encoder를 여러 층 쌓은 것(multi-layer bidirectional Transformer encoder)\n",
        "    * BERT base: 110M(약 1억1천만) 파라미터\n",
        "    * BERT large: 340M(약 3억4천만) 파라미터\n",
        "* BERT base모델은 OpenAI의 GPT와의 비교를 위해 파라미터 수를 동일하게 만들어 진행"
      ],
      "metadata": {
        "id": "HP_xVO8JJftF"
      }
    },
    {
      "cell_type": "markdown",
      "source": [
        "### 1-3. BERT 입/출력\n",
        "* 총 3가지(Token, Segment, Position)의 Embedding vector를 합쳐서 input으로 사용\n",
        "* 모든 input 시퀀스의 첫번째 토큰은 [CLS] 토큰인데, [CLS] 토큰과 대응되는 최종 hidden state는 분류 문데를 해결하기 위해 sequence representation들을 함축\n",
        "* input 시퀀스는 한 쌍의 문장으로 구성되고, 문장 쌍의 각 문자들을 [SEP] 토큰으로 분리하고 각 문장이 A문장인지, B문장인지 구분하기 위한 임베딩을 사용\n",
        "* Token Embeddings는 WordPiece embedding을 사용\n",
        "* input representation은 이러한 대응되는 토큰(segment + token + position)을 전부 더함"
      ],
      "metadata": {
        "id": "ebRsCiGpMviB"
      }
    },
    {
      "cell_type": "markdown",
      "source": [
        "### 1-4. BERT의 사전 학습\n",
        "* MLM: Masked Language Modeling\n",
        "    - input tokens의 일정 비율을 마스킹하고, 마스킹 된 토큰을 예측하는 과정\n",
        "    - 입력으로 돌아온 단어 토큰 중 일부를 [MASK] token으로 바꿔서 학습\n",
        "    - pre-training과 fine-tuning 사이의 mismatch가 발생([MASK] token이 fine-tuning 과정에서는 나타나지 않기 때문)\n",
        "    - 위 문제를 해결하기 위해 token에서 추가적인 처리\n",
        "        - 80%의 경우: token을 [MASK] token으로 바꿈\n",
        "        - 10%의 경우: token을 random word로 바꿈\n",
        "        - 10%의 경우: token을 원래 단어 그대로 둠\n",
        "* NSP: Next Sentence Prediction\n",
        "    - 많은 NLP의 downstream task(QA, NLI 등) 두 문장 사이의 관계를 이행하는 것이 핵심\n",
        "    - 문장 A와 B를 선택할 때, 50%는 실제 A의 다음 문장인 B를 고르고, 나머지 50%는 랜덤 문장 B를 고름\n",
        "\n",
        "* 사전 학습 과정은 많은 데이터를 필요로 하는데, corpus 구축을 위해 BooksCorpus(약 8억개의 단어)와 English Wikipedia(약 25억개의 단어)를 사용\n",
        "* Wikipedia는 본문망 사용했고, 리스트, 표, 헤더 등은 무시\n",
        "* 긴 인접 시퀀스를 뽑아내기 위해서는 문서 단위의 corpus를 사용하는 것이 문장 단위의 corpus를 사용하는 것 보다 훨씬 유리"
      ],
      "metadata": {
        "id": "1TPg3QqUPo6s"
      }
    },
    {
      "cell_type": "markdown",
      "source": [
        "# 2. BERT 요약\n",
        "* ELMo가 pretraining 관점을 제시했으면, GPT-1은 transformer 구조에 적용해서 transformer가 pretraining에 효과적이라는 것을 밝히고, BERT가 양방향으로 개선\n",
        "* Deep Bidirectional Model을 통해 같은 pretraining 모델로 만든 모든 NLP Task에서 SOTA를 달성\n",
        "* pretraining 모델을 통해 적은 리소스로도 좋은 성능을 낼 수 있음\n",
        "* 대신 사전 학습에 많은 시간과 비용이 필요"
      ],
      "metadata": {
        "id": "mauZFCDOTVbY"
      }
    },
    {
      "cell_type": "markdown",
      "source": [
        "# 3. 간단한 답변 랭킹 모델 만들기\n",
        "출처: https://github.com/songys/Chatbot_data"
      ],
      "metadata": {
        "id": "MpuZvJ_ZWQzn"
      }
    },
    {
      "cell_type": "code",
      "source": [
        "import urllib.request\n",
        "import pandas as pd"
      ],
      "metadata": {
        "id": "NoyV7nphWTnD"
      },
      "execution_count": 4,
      "outputs": []
    },
    {
      "cell_type": "code",
      "source": [
        "urllib.request.urlretrieve(\"https://raw.githubusercontent.com/songys/Chatbot_data/master/ChatbotData.csv\", filename='ChatBotData.csv')"
      ],
      "metadata": {
        "colab": {
          "base_uri": "https://localhost:8080/"
        },
        "id": "uPW2idH0XUN6",
        "outputId": "0aa3e388-3b80-428f-9fe1-4150cca74b41"
      },
      "execution_count": 19,
      "outputs": [
        {
          "output_type": "execute_result",
          "data": {
            "text/plain": [
              "('ChatBotData.csv', <http.client.HTTPMessage at 0x7b8ba617a9b0>)"
            ]
          },
          "metadata": {},
          "execution_count": 19
        }
      ]
    },
    {
      "cell_type": "code",
      "source": [
        "train_dataset = pd.read_csv('ChatBotData.csv')\n",
        "print(len(train_dataset))"
      ],
      "metadata": {
        "colab": {
          "base_uri": "https://localhost:8080/"
        },
        "id": "wjnudCuUXZWg",
        "outputId": "8e4d625f-a6f4-41e3-8be6-09d9a349d834"
      },
      "execution_count": 20,
      "outputs": [
        {
          "output_type": "stream",
          "name": "stdout",
          "text": [
            "11823\n"
          ]
        }
      ]
    },
    {
      "cell_type": "code",
      "source": [
        "train_dataset"
      ],
      "metadata": {
        "colab": {
          "base_uri": "https://localhost:8080/",
          "height": 424
        },
        "id": "ajZ1KCHfXgbD",
        "outputId": "6bb42683-7a78-4030-dcf0-5a8d1cc15066"
      },
      "execution_count": 21,
      "outputs": [
        {
          "output_type": "execute_result",
          "data": {
            "text/plain": [
              "                             Q                         A  label\n",
              "0                       12시 땡!                하루가 또 가네요.      0\n",
              "1                  1지망 학교 떨어졌어                 위로해 드립니다.      0\n",
              "2                 3박4일 놀러가고 싶다               여행은 언제나 좋죠.      0\n",
              "3              3박4일 정도 놀러가고 싶다               여행은 언제나 좋죠.      0\n",
              "4                      PPL 심하네                눈살이 찌푸려지죠.      0\n",
              "...                        ...                       ...    ...\n",
              "11818           훔쳐보는 것도 눈치 보임.        티가 나니까 눈치가 보이는 거죠!      2\n",
              "11819           훔쳐보는 것도 눈치 보임.             훔쳐보는 거 티나나봐요.      2\n",
              "11820              흑기사 해주는 짝남.                    설렜겠어요.      2\n",
              "11821  힘든 연애 좋은 연애라는게 무슨 차이일까?  잘 헤어질 수 있는 사이 여부인 거 같아요.      2\n",
              "11822               힘들어서 결혼할까봐        도피성 결혼은 하지 않길 바라요.      2\n",
              "\n",
              "[11823 rows x 3 columns]"
            ],
            "text/html": [
              "\n",
              "\n",
              "  <div id=\"df-6d273d51-948b-4278-8f7a-1602b22ee6f1\">\n",
              "    <div class=\"colab-df-container\">\n",
              "      <div>\n",
              "<style scoped>\n",
              "    .dataframe tbody tr th:only-of-type {\n",
              "        vertical-align: middle;\n",
              "    }\n",
              "\n",
              "    .dataframe tbody tr th {\n",
              "        vertical-align: top;\n",
              "    }\n",
              "\n",
              "    .dataframe thead th {\n",
              "        text-align: right;\n",
              "    }\n",
              "</style>\n",
              "<table border=\"1\" class=\"dataframe\">\n",
              "  <thead>\n",
              "    <tr style=\"text-align: right;\">\n",
              "      <th></th>\n",
              "      <th>Q</th>\n",
              "      <th>A</th>\n",
              "      <th>label</th>\n",
              "    </tr>\n",
              "  </thead>\n",
              "  <tbody>\n",
              "    <tr>\n",
              "      <th>0</th>\n",
              "      <td>12시 땡!</td>\n",
              "      <td>하루가 또 가네요.</td>\n",
              "      <td>0</td>\n",
              "    </tr>\n",
              "    <tr>\n",
              "      <th>1</th>\n",
              "      <td>1지망 학교 떨어졌어</td>\n",
              "      <td>위로해 드립니다.</td>\n",
              "      <td>0</td>\n",
              "    </tr>\n",
              "    <tr>\n",
              "      <th>2</th>\n",
              "      <td>3박4일 놀러가고 싶다</td>\n",
              "      <td>여행은 언제나 좋죠.</td>\n",
              "      <td>0</td>\n",
              "    </tr>\n",
              "    <tr>\n",
              "      <th>3</th>\n",
              "      <td>3박4일 정도 놀러가고 싶다</td>\n",
              "      <td>여행은 언제나 좋죠.</td>\n",
              "      <td>0</td>\n",
              "    </tr>\n",
              "    <tr>\n",
              "      <th>4</th>\n",
              "      <td>PPL 심하네</td>\n",
              "      <td>눈살이 찌푸려지죠.</td>\n",
              "      <td>0</td>\n",
              "    </tr>\n",
              "    <tr>\n",
              "      <th>...</th>\n",
              "      <td>...</td>\n",
              "      <td>...</td>\n",
              "      <td>...</td>\n",
              "    </tr>\n",
              "    <tr>\n",
              "      <th>11818</th>\n",
              "      <td>훔쳐보는 것도 눈치 보임.</td>\n",
              "      <td>티가 나니까 눈치가 보이는 거죠!</td>\n",
              "      <td>2</td>\n",
              "    </tr>\n",
              "    <tr>\n",
              "      <th>11819</th>\n",
              "      <td>훔쳐보는 것도 눈치 보임.</td>\n",
              "      <td>훔쳐보는 거 티나나봐요.</td>\n",
              "      <td>2</td>\n",
              "    </tr>\n",
              "    <tr>\n",
              "      <th>11820</th>\n",
              "      <td>흑기사 해주는 짝남.</td>\n",
              "      <td>설렜겠어요.</td>\n",
              "      <td>2</td>\n",
              "    </tr>\n",
              "    <tr>\n",
              "      <th>11821</th>\n",
              "      <td>힘든 연애 좋은 연애라는게 무슨 차이일까?</td>\n",
              "      <td>잘 헤어질 수 있는 사이 여부인 거 같아요.</td>\n",
              "      <td>2</td>\n",
              "    </tr>\n",
              "    <tr>\n",
              "      <th>11822</th>\n",
              "      <td>힘들어서 결혼할까봐</td>\n",
              "      <td>도피성 결혼은 하지 않길 바라요.</td>\n",
              "      <td>2</td>\n",
              "    </tr>\n",
              "  </tbody>\n",
              "</table>\n",
              "<p>11823 rows × 3 columns</p>\n",
              "</div>\n",
              "      <button class=\"colab-df-convert\" onclick=\"convertToInteractive('df-6d273d51-948b-4278-8f7a-1602b22ee6f1')\"\n",
              "              title=\"Convert this dataframe to an interactive table.\"\n",
              "              style=\"display:none;\">\n",
              "\n",
              "  <svg xmlns=\"http://www.w3.org/2000/svg\" height=\"24px\"viewBox=\"0 0 24 24\"\n",
              "       width=\"24px\">\n",
              "    <path d=\"M0 0h24v24H0V0z\" fill=\"none\"/>\n",
              "    <path d=\"M18.56 5.44l.94 2.06.94-2.06 2.06-.94-2.06-.94-.94-2.06-.94 2.06-2.06.94zm-11 1L8.5 8.5l.94-2.06 2.06-.94-2.06-.94L8.5 2.5l-.94 2.06-2.06.94zm10 10l.94 2.06.94-2.06 2.06-.94-2.06-.94-.94-2.06-.94 2.06-2.06.94z\"/><path d=\"M17.41 7.96l-1.37-1.37c-.4-.4-.92-.59-1.43-.59-.52 0-1.04.2-1.43.59L10.3 9.45l-7.72 7.72c-.78.78-.78 2.05 0 2.83L4 21.41c.39.39.9.59 1.41.59.51 0 1.02-.2 1.41-.59l7.78-7.78 2.81-2.81c.8-.78.8-2.07 0-2.86zM5.41 20L4 18.59l7.72-7.72 1.47 1.35L5.41 20z\"/>\n",
              "  </svg>\n",
              "      </button>\n",
              "\n",
              "\n",
              "\n",
              "    <div id=\"df-d090b8e0-9fdf-42e6-82f4-9704f2524853\">\n",
              "      <button class=\"colab-df-quickchart\" onclick=\"quickchart('df-d090b8e0-9fdf-42e6-82f4-9704f2524853')\"\n",
              "              title=\"Suggest charts.\"\n",
              "              style=\"display:none;\">\n",
              "\n",
              "<svg xmlns=\"http://www.w3.org/2000/svg\" height=\"24px\"viewBox=\"0 0 24 24\"\n",
              "     width=\"24px\">\n",
              "    <g>\n",
              "        <path d=\"M19 3H5c-1.1 0-2 .9-2 2v14c0 1.1.9 2 2 2h14c1.1 0 2-.9 2-2V5c0-1.1-.9-2-2-2zM9 17H7v-7h2v7zm4 0h-2V7h2v10zm4 0h-2v-4h2v4z\"/>\n",
              "    </g>\n",
              "</svg>\n",
              "      </button>\n",
              "    </div>\n",
              "\n",
              "<style>\n",
              "  .colab-df-quickchart {\n",
              "    background-color: #E8F0FE;\n",
              "    border: none;\n",
              "    border-radius: 50%;\n",
              "    cursor: pointer;\n",
              "    display: none;\n",
              "    fill: #1967D2;\n",
              "    height: 32px;\n",
              "    padding: 0 0 0 0;\n",
              "    width: 32px;\n",
              "  }\n",
              "\n",
              "  .colab-df-quickchart:hover {\n",
              "    background-color: #E2EBFA;\n",
              "    box-shadow: 0px 1px 2px rgba(60, 64, 67, 0.3), 0px 1px 3px 1px rgba(60, 64, 67, 0.15);\n",
              "    fill: #174EA6;\n",
              "  }\n",
              "\n",
              "  [theme=dark] .colab-df-quickchart {\n",
              "    background-color: #3B4455;\n",
              "    fill: #D2E3FC;\n",
              "  }\n",
              "\n",
              "  [theme=dark] .colab-df-quickchart:hover {\n",
              "    background-color: #434B5C;\n",
              "    box-shadow: 0px 1px 3px 1px rgba(0, 0, 0, 0.15);\n",
              "    filter: drop-shadow(0px 1px 2px rgba(0, 0, 0, 0.3));\n",
              "    fill: #FFFFFF;\n",
              "  }\n",
              "</style>\n",
              "\n",
              "    <script>\n",
              "      async function quickchart(key) {\n",
              "        const containerElement = document.querySelector('#' + key);\n",
              "        const charts = await google.colab.kernel.invokeFunction(\n",
              "            'suggestCharts', [key], {});\n",
              "      }\n",
              "    </script>\n",
              "\n",
              "      <script>\n",
              "\n",
              "function displayQuickchartButton(domScope) {\n",
              "  let quickchartButtonEl =\n",
              "    domScope.querySelector('#df-d090b8e0-9fdf-42e6-82f4-9704f2524853 button.colab-df-quickchart');\n",
              "  quickchartButtonEl.style.display =\n",
              "    google.colab.kernel.accessAllowed ? 'block' : 'none';\n",
              "}\n",
              "\n",
              "        displayQuickchartButton(document);\n",
              "      </script>\n",
              "      <style>\n",
              "    .colab-df-container {\n",
              "      display:flex;\n",
              "      flex-wrap:wrap;\n",
              "      gap: 12px;\n",
              "    }\n",
              "\n",
              "    .colab-df-convert {\n",
              "      background-color: #E8F0FE;\n",
              "      border: none;\n",
              "      border-radius: 50%;\n",
              "      cursor: pointer;\n",
              "      display: none;\n",
              "      fill: #1967D2;\n",
              "      height: 32px;\n",
              "      padding: 0 0 0 0;\n",
              "      width: 32px;\n",
              "    }\n",
              "\n",
              "    .colab-df-convert:hover {\n",
              "      background-color: #E2EBFA;\n",
              "      box-shadow: 0px 1px 2px rgba(60, 64, 67, 0.3), 0px 1px 3px 1px rgba(60, 64, 67, 0.15);\n",
              "      fill: #174EA6;\n",
              "    }\n",
              "\n",
              "    [theme=dark] .colab-df-convert {\n",
              "      background-color: #3B4455;\n",
              "      fill: #D2E3FC;\n",
              "    }\n",
              "\n",
              "    [theme=dark] .colab-df-convert:hover {\n",
              "      background-color: #434B5C;\n",
              "      box-shadow: 0px 1px 3px 1px rgba(0, 0, 0, 0.15);\n",
              "      filter: drop-shadow(0px 1px 2px rgba(0, 0, 0, 0.3));\n",
              "      fill: #FFFFFF;\n",
              "    }\n",
              "  </style>\n",
              "\n",
              "      <script>\n",
              "        const buttonEl =\n",
              "          document.querySelector('#df-6d273d51-948b-4278-8f7a-1602b22ee6f1 button.colab-df-convert');\n",
              "        buttonEl.style.display =\n",
              "          google.colab.kernel.accessAllowed ? 'block' : 'none';\n",
              "\n",
              "        async function convertToInteractive(key) {\n",
              "          const element = document.querySelector('#df-6d273d51-948b-4278-8f7a-1602b22ee6f1');\n",
              "          const dataTable =\n",
              "            await google.colab.kernel.invokeFunction('convertToInteractive',\n",
              "                                                     [key], {});\n",
              "          if (!dataTable) return;\n",
              "\n",
              "          const docLinkHtml = 'Like what you see? Visit the ' +\n",
              "            '<a target=\"_blank\" href=https://colab.research.google.com/notebooks/data_table.ipynb>data table notebook</a>'\n",
              "            + ' to learn more about interactive tables.';\n",
              "          element.innerHTML = '';\n",
              "          dataTable['output_type'] = 'display_data';\n",
              "          await google.colab.output.renderOutput(dataTable, element);\n",
              "          const docLink = document.createElement('div');\n",
              "          docLink.innerHTML = docLinkHtml;\n",
              "          element.appendChild(docLink);\n",
              "        }\n",
              "      </script>\n",
              "    </div>\n",
              "  </div>\n"
            ]
          },
          "metadata": {},
          "execution_count": 21
        }
      ]
    },
    {
      "cell_type": "code",
      "source": [
        "# 데이터셋 결측값 확인\n",
        "train_dataset.replace('', float('NaN'), inplace=True)\n",
        "print(train_dataset.isnull().values.any())"
      ],
      "metadata": {
        "colab": {
          "base_uri": "https://localhost:8080/"
        },
        "id": "wSfy_Q_1XouG",
        "outputId": "7ee9fd60-6c7d-4f92-cf86-b80002d834f4"
      },
      "execution_count": 24,
      "outputs": [
        {
          "output_type": "stream",
          "name": "stdout",
          "text": [
            "False\n"
          ]
        }
      ]
    },
    {
      "cell_type": "code",
      "source": [
        "# 데이터셋 중복 제거\n",
        "train_dataset = train_dataset.drop_duplicates(['Q']).reset_index(drop=True)\n",
        "print(len(train_dataset))"
      ],
      "metadata": {
        "colab": {
          "base_uri": "https://localhost:8080/"
        },
        "id": "pwidhh4QXrXf",
        "outputId": "a183df3e-ee03-4703-a659-ec9a4aed31d9"
      },
      "execution_count": 25,
      "outputs": [
        {
          "output_type": "stream",
          "name": "stdout",
          "text": [
            "11662\n"
          ]
        }
      ]
    },
    {
      "cell_type": "code",
      "source": [
        "train_dataset = train_dataset.drop_duplicates(['A']).reset_index(drop=True)\n",
        "print(len(train_dataset))"
      ],
      "metadata": {
        "colab": {
          "base_uri": "https://localhost:8080/"
        },
        "id": "EE2hwDEva9TJ",
        "outputId": "f8b223d4-77ac-4cf3-840c-d8671cb1813f"
      },
      "execution_count": 26,
      "outputs": [
        {
          "output_type": "stream",
          "name": "stdout",
          "text": [
            "7731\n"
          ]
        }
      ]
    },
    {
      "cell_type": "code",
      "source": [
        "import matplotlib.pyplot as plt"
      ],
      "metadata": {
        "id": "YFfF9PNlbCEc"
      },
      "execution_count": 28,
      "outputs": []
    },
    {
      "cell_type": "code",
      "source": [
        "question_list = list(train_dataset['Q'])\n",
        "answer_list = list(train_dataset['A'])\n",
        "\n",
        "print('질문의 최대 길이: ', max(len(question) for question in question_list))\n",
        "print('질문의 평균 길이: ', sum(map(len, question_list))/len(question_list))\n",
        "\n",
        "plt.hist([len(question) for question in question_list], bins=50)\n",
        "plt.xlabel('length of samples')\n",
        "plt.ylabel('number of samples')\n",
        "plt.show()"
      ],
      "metadata": {
        "colab": {
          "base_uri": "https://localhost:8080/",
          "height": 486
        },
        "id": "piG1RnAXXsX3",
        "outputId": "ecf32473-b102-4d92-fcc3-f23bab946546"
      },
      "execution_count": 29,
      "outputs": [
        {
          "output_type": "stream",
          "name": "stdout",
          "text": [
            "질문의 최대 길이:  56\n",
            "질문의 평균 길이:  13.6732634846721\n"
          ]
        },
        {
          "output_type": "display_data",
          "data": {
            "text/plain": [
              "<Figure size 640x480 with 1 Axes>"
            ],
            "image/png": "[encoded data removed]"
          },
          "metadata": {}
        }
      ]
    },
    {
      "cell_type": "code",
      "source": [
        "print('답변의 최대 길이: ', max(len(answer) for answer in answer_list))\n",
        "print('답변의 평균 길이: ', sum(map(len, answer_list))/len(answer_list))\n",
        "\n",
        "plt.hist([len(answer) for answer in answer_list], bins=50)\n",
        "plt.xlabel('length of samples')\n",
        "plt.ylabel('number of samples')\n",
        "plt.show()"
      ],
      "metadata": {
        "colab": {
          "base_uri": "https://localhost:8080/",
          "height": 487
        },
        "id": "i4LugVO5busF",
        "outputId": "a4b063ff-acab-48bb-95b5-d7d7f8863201"
      },
      "execution_count": 32,
      "outputs": [
        {
          "output_type": "stream",
          "name": "stdout",
          "text": [
            "답변의 최대 길이:  76\n",
            "답변의 평균 길이:  15.611563833915406\n"
          ]
        },
        {
          "output_type": "display_data",
          "data": {
            "text/plain": [
              "<Figure size 640x480 with 1 Axes>"
            ],
            "image/png": "[encoded data removed]"
          },
          "metadata": {}
        }
      ]
    },
    {
      "cell_type": "code",
      "source": [
        "import random"
      ],
      "metadata": {
        "id": "Ze68EklYX1pB"
      },
      "execution_count": 33,
      "outputs": []
    },
    {
      "cell_type": "code",
      "source": [
        "print(f'question 개수: {len(question_list)}')\n",
        "print(f'answer 개수: {len(answer_list)}')"
      ],
      "metadata": {
        "colab": {
          "base_uri": "https://localhost:8080/"
        },
        "id": "rztHXEiHe_fd",
        "outputId": "dbc562fd-eff8-486f-8247-a136c5a14ca1"
      },
      "execution_count": 34,
      "outputs": [
        {
          "output_type": "stream",
          "name": "stdout",
          "text": [
            "question 개수: 7731\n",
            "answer 개수: 7731\n"
          ]
        }
      ]
    },
    {
      "cell_type": "code",
      "source": [
        "response_candidates = random.sample(answer_list, 500)"
      ],
      "metadata": {
        "id": "EGqtI5_7fKLJ"
      },
      "execution_count": 35,
      "outputs": []
    },
    {
      "cell_type": "code",
      "source": [
        "response_candidates[:10]"
      ],
      "metadata": {
        "colab": {
          "base_uri": "https://localhost:8080/"
        },
        "id": "hlvzjDwTfVzo",
        "outputId": "40f363d3-3d7d-4ebd-9f62-9569a5280d65"
      },
      "execution_count": 36,
      "outputs": [
        {
          "output_type": "execute_result",
          "data": {
            "text/plain": [
              "['안타깝네요. 증거를 지금이라도 모아봐요.',\n",
              " '사랑이 모두 정답이 될수는 없어요.',\n",
              " '머리랑 마음이 또 다르죠.',\n",
              " '정말 맘고생 많았어요.',\n",
              " '연락이 오길 기다리지마세요.',\n",
              " '사귀다 보면 생각보다 신겨 쓰이는 일이에요.',\n",
              " '좋은 여행 되길 바랍니다.',\n",
              " '태연히 행동 해보세요.',\n",
              " '충분히 고민했을거라 생각해요.',\n",
              " '혼자 사는 것도 나쁘지 않아요.']"
            ]
          },
          "metadata": {},
          "execution_count": 36
        }
      ]
    },
    {
      "cell_type": "markdown",
      "source": [
        "### KoBERT-Transformer 모델 불러오기\n",
        "### SKTBrain에서 공새한 한국어 데이터로 사전학습한 BERT 모델\n",
        "**KoBERT** : https://github.com/SKTBrain/KoBERT\n",
        "\n",
        "**KoBERT-Transformers**: https://github.com/monologg/KoBERT-Transformers"
      ],
      "metadata": {
        "id": "DYqj_74FfYKA"
      }
    },
    {
      "cell_type": "code",
      "source": [
        "!pip install kobert-transformers"
      ],
      "metadata": {
        "colab": {
          "base_uri": "https://localhost:8080/"
        },
        "id": "CPIgNXPHf0ix",
        "outputId": "1e3206c0-7d42-4636-aa7d-c1c9d6294a4c"
      },
      "execution_count": 37,
      "outputs": [
        {
          "output_type": "stream",
          "name": "stdout",
          "text": [
            "Collecting kobert-transformers\n",
            "  Downloading kobert_transformers-0.5.1-py3-none-any.whl (12 kB)\n",
            "Requirement already satisfied: torch>=1.1.0 in /usr/local/lib/python3.10/dist-packages (from kobert-transformers) (2.0.1+cu118)\n",
            "Collecting transformers<5,>=3 (from kobert-transformers)\n",
            "  Downloading transformers-4.30.2-py3-none-any.whl (7.2 MB)\n",
            "\u001b[2K     \u001b[90m━━━━━━━━━━━━━━━━━━━━━━━━━━━━━━━━━━━━━━━━\u001b[0m \u001b[32m7.2/7.2 MB\u001b[0m \u001b[31m55.1 MB/s\u001b[0m eta \u001b[36m0:00:00\u001b[0m\n",
            "\u001b[?25hCollecting sentencepiece>=0.1.91 (from kobert-transformers)\n",
            "  Downloading sentencepiece-0.1.99-cp310-cp310-manylinux_2_17_x86_64.manylinux2014_x86_64.whl (1.3 MB)\n",
            "\u001b[2K     \u001b[90m━━━━━━━━━━━━━━━━━━━━━━━━━━━━━━━━━━━━━━━━\u001b[0m \u001b[32m1.3/1.3 MB\u001b[0m \u001b[31m63.7 MB/s\u001b[0m eta \u001b[36m0:00:00\u001b[0m\n",
            "\u001b[?25hRequirement already satisfied: filelock in /usr/local/lib/python3.10/dist-packages (from torch>=1.1.0->kobert-transformers) (3.12.2)\n",
            "Requirement already satisfied: typing-extensions in /usr/local/lib/python3.10/dist-packages (from torch>=1.1.0->kobert-transformers) (4.7.1)\n",
            "Requirement already satisfied: sympy in /usr/local/lib/python3.10/dist-packages (from torch>=1.1.0->kobert-transformers) (1.11.1)\n",
            "Requirement already satisfied: networkx in /usr/local/lib/python3.10/dist-packages (from torch>=1.1.0->kobert-transformers) (3.1)\n",
            "Requirement already satisfied: jinja2 in /usr/local/lib/python3.10/dist-packages (from torch>=1.1.0->kobert-transformers) (3.1.2)\n",
            "Requirement already satisfied: triton==2.0.0 in /usr/local/lib/python3.10/dist-packages (from torch>=1.1.0->kobert-transformers) (2.0.0)\n",
            "Requirement already satisfied: cmake in /usr/local/lib/python3.10/dist-packages (from triton==2.0.0->torch>=1.1.0->kobert-transformers) (3.25.2)\n",
            "Requirement already satisfied: lit in /usr/local/lib/python3.10/dist-packages (from triton==2.0.0->torch>=1.1.0->kobert-transformers) (16.0.6)\n",
            "Collecting huggingface-hub<1.0,>=0.14.1 (from transformers<5,>=3->kobert-transformers)\n",
            "  Downloading huggingface_hub-0.16.4-py3-none-any.whl (268 kB)\n",
            "\u001b[2K     \u001b[90m━━━━━━━━━━━━━━━━━━━━━━━━━━━━━━━━━━━━━━\u001b[0m \u001b[32m268.8/268.8 kB\u001b[0m \u001b[31m24.4 MB/s\u001b[0m eta \u001b[36m0:00:00\u001b[0m\n",
            "\u001b[?25hRequirement already satisfied: numpy>=1.17 in /usr/local/lib/python3.10/dist-packages (from transformers<5,>=3->kobert-transformers) (1.22.4)\n",
            "Requirement already satisfied: packaging>=20.0 in /usr/local/lib/python3.10/dist-packages (from transformers<5,>=3->kobert-transformers) (23.1)\n",
            "Requirement already satisfied: pyyaml>=5.1 in /usr/local/lib/python3.10/dist-packages (from transformers<5,>=3->kobert-transformers) (6.0)\n",
            "Requirement already satisfied: regex!=2019.12.17 in /usr/local/lib/python3.10/dist-packages (from transformers<5,>=3->kobert-transformers) (2022.10.31)\n",
            "Requirement already satisfied: requests in /usr/local/lib/python3.10/dist-packages (from transformers<5,>=3->kobert-transformers) (2.27.1)\n",
            "Collecting tokenizers!=0.11.3,<0.14,>=0.11.1 (from transformers<5,>=3->kobert-transformers)\n",
            "  Downloading tokenizers-0.13.3-cp310-cp310-manylinux_2_17_x86_64.manylinux2014_x86_64.whl (7.8 MB)\n",
            "\u001b[2K     \u001b[90m━━━━━━━━━━━━━━━━━━━━━━━━━━━━━━━━━━━━━━━━\u001b[0m \u001b[32m7.8/7.8 MB\u001b[0m \u001b[31m55.5 MB/s\u001b[0m eta \u001b[36m0:00:00\u001b[0m\n",
            "\u001b[?25hCollecting safetensors>=0.3.1 (from transformers<5,>=3->kobert-transformers)\n",
            "  Downloading safetensors-0.3.1-cp310-cp310-manylinux_2_17_x86_64.manylinux2014_x86_64.whl (1.3 MB)\n",
            "\u001b[2K     \u001b[90m━━━━━━━━━━━━━━━━━━━━━━━━━━━━━━━━━━━━━━━━\u001b[0m \u001b[32m1.3/1.3 MB\u001b[0m \u001b[31m58.9 MB/s\u001b[0m eta \u001b[36m0:00:00\u001b[0m\n",
            "\u001b[?25hRequirement already satisfied: tqdm>=4.27 in /usr/local/lib/python3.10/dist-packages (from transformers<5,>=3->kobert-transformers) (4.65.0)\n",
            "Requirement already satisfied: fsspec in /usr/local/lib/python3.10/dist-packages (from huggingface-hub<1.0,>=0.14.1->transformers<5,>=3->kobert-transformers) (2023.6.0)\n",
            "Requirement already satisfied: MarkupSafe>=2.0 in /usr/local/lib/python3.10/dist-packages (from jinja2->torch>=1.1.0->kobert-transformers) (2.1.3)\n",
            "Requirement already satisfied: urllib3<1.27,>=1.21.1 in /usr/local/lib/python3.10/dist-packages (from requests->transformers<5,>=3->kobert-transformers) (1.26.16)\n",
            "Requirement already satisfied: certifi>=2017.4.17 in /usr/local/lib/python3.10/dist-packages (from requests->transformers<5,>=3->kobert-transformers) (2023.5.7)\n",
            "Requirement already satisfied: charset-normalizer~=2.0.0 in /usr/local/lib/python3.10/dist-packages (from requests->transformers<5,>=3->kobert-transformers) (2.0.12)\n",
            "Requirement already satisfied: idna<4,>=2.5 in /usr/local/lib/python3.10/dist-packages (from requests->transformers<5,>=3->kobert-transformers) (3.4)\n",
            "Requirement already satisfied: mpmath>=0.19 in /usr/local/lib/python3.10/dist-packages (from sympy->torch>=1.1.0->kobert-transformers) (1.3.0)\n",
            "Installing collected packages: tokenizers, sentencepiece, safetensors, huggingface-hub, transformers, kobert-transformers\n",
            "Successfully installed huggingface-hub-0.16.4 kobert-transformers-0.5.1 safetensors-0.3.1 sentencepiece-0.1.99 tokenizers-0.13.3 transformers-4.30.2\n"
          ]
        }
      ]
    },
    {
      "cell_type": "code",
      "source": [
        "import torch\n",
        "from kobert_transformers import get_kobert_model, get_distilkobert_model"
      ],
      "metadata": {
        "id": "jpLZnVX7f5cm"
      },
      "execution_count": 43,
      "outputs": []
    },
    {
      "cell_type": "code",
      "source": [
        "model = get_kobert_model()"
      ],
      "metadata": {
        "id": "TggP5lblhTF2"
      },
      "execution_count": 53,
      "outputs": []
    },
    {
      "cell_type": "code",
      "source": [
        "model.eval()"
      ],
      "metadata": {
        "colab": {
          "base_uri": "https://localhost:8080/"
        },
        "id": "rXf0pM0ogTVt",
        "outputId": "2f4eb912-fcf0-47fe-cf9c-d3552a20dffa"
      },
      "execution_count": 54,
      "outputs": [
        {
          "output_type": "execute_result",
          "data": {
            "text/plain": [
              "BertModel(\n",
              "  (embeddings): BertEmbeddings(\n",
              "    (word_embeddings): Embedding(8002, 768, padding_idx=1)\n",
              "    (position_embeddings): Embedding(512, 768)\n",
              "    (token_type_embeddings): Embedding(2, 768)\n",
              "    (LayerNorm): LayerNorm((768,), eps=1e-12, elementwise_affine=True)\n",
              "    (dropout): Dropout(p=0.1, inplace=False)\n",
              "  )\n",
              "  (encoder): BertEncoder(\n",
              "    (layer): ModuleList(\n",
              "      (0-11): 12 x BertLayer(\n",
              "        (attention): BertAttention(\n",
              "          (self): BertSelfAttention(\n",
              "            (query): Linear(in_features=768, out_features=768, bias=True)\n",
              "            (key): Linear(in_features=768, out_features=768, bias=True)\n",
              "            (value): Linear(in_features=768, out_features=768, bias=True)\n",
              "            (dropout): Dropout(p=0.1, inplace=False)\n",
              "          )\n",
              "          (output): BertSelfOutput(\n",
              "            (dense): Linear(in_features=768, out_features=768, bias=True)\n",
              "            (LayerNorm): LayerNorm((768,), eps=1e-12, elementwise_affine=True)\n",
              "            (dropout): Dropout(p=0.1, inplace=False)\n",
              "          )\n",
              "        )\n",
              "        (intermediate): BertIntermediate(\n",
              "          (dense): Linear(in_features=768, out_features=3072, bias=True)\n",
              "          (intermediate_act_fn): GELUActivation()\n",
              "        )\n",
              "        (output): BertOutput(\n",
              "          (dense): Linear(in_features=3072, out_features=768, bias=True)\n",
              "          (LayerNorm): LayerNorm((768,), eps=1e-12, elementwise_affine=True)\n",
              "          (dropout): Dropout(p=0.1, inplace=False)\n",
              "        )\n",
              "      )\n",
              "    )\n",
              "  )\n",
              "  (pooler): BertPooler(\n",
              "    (dense): Linear(in_features=768, out_features=768, bias=True)\n",
              "    (activation): Tanh()\n",
              "  )\n",
              ")"
            ]
          },
          "metadata": {},
          "execution_count": 54
        }
      ]
    },
    {
      "cell_type": "code",
      "source": [
        "input_ids = torch.LongTensor([[31, 51, 99], [15, 5, 0]])\n",
        "attention_mask = torch.LongTensor([[1, 1, 1], [1, 1, 0]])\n",
        "token_type_ids = torch.LongTensor([[0, 0, 1], [0, 1, 0]])\n",
        "output = model(input_ids, attention_mask, token_type_ids)\n",
        "output"
      ],
      "metadata": {
        "colab": {
          "base_uri": "https://localhost:8080/"
        },
        "id": "Hj9OYB81gdzt",
        "outputId": "88484a39-8fba-411a-e615-970c6f0a2c23"
      },
      "execution_count": 55,
      "outputs": [
        {
          "output_type": "execute_result",
          "data": {
            "text/plain": [
              "BaseModelOutputWithPoolingAndCrossAttentions(last_hidden_state=tensor([[[-0.2461,  0.2428,  0.2590,  ..., -0.4861, -0.0731,  0.0756],\n",
              "         [-0.2478,  0.2420,  0.2552,  ..., -0.4877, -0.0727,  0.0754],\n",
              "         [-0.2472,  0.2420,  0.2561,  ..., -0.4874, -0.0733,  0.0765]],\n",
              "\n",
              "        [[ 0.0768, -0.1234,  0.1534,  ..., -0.2518, -0.2571,  0.1602],\n",
              "         [-0.2419, -0.2821,  0.1962,  ..., -0.0172, -0.2960,  0.3679],\n",
              "         [ 0.0911, -0.1437,  0.3412,  ...,  0.2526, -0.1780,  0.2619]]],\n",
              "       grad_fn=<NativeLayerNormBackward0>), pooler_output=tensor([[-0.0903, -0.0444,  0.1579,  ...,  0.1010, -0.0819,  0.0529],\n",
              "        [ 0.0742, -0.0116, -0.6845,  ...,  0.0024, -0.0447,  0.0122]],\n",
              "       grad_fn=<TanhBackward0>), hidden_states=None, past_key_values=None, attentions=None, cross_attentions=None)"
            ]
          },
          "metadata": {},
          "execution_count": 55
        }
      ]
    },
    {
      "cell_type": "code",
      "source": [
        "output[0]"
      ],
      "metadata": {
        "colab": {
          "base_uri": "https://localhost:8080/"
        },
        "id": "_OdAJeMxi_oP",
        "outputId": "f95a70ef-6657-453a-f339-169af15bd80a"
      },
      "execution_count": 61,
      "outputs": [
        {
          "output_type": "execute_result",
          "data": {
            "text/plain": [
              "tensor([[[-0.2461,  0.2428,  0.2590,  ..., -0.4861, -0.0731,  0.0756],\n",
              "         [-0.2478,  0.2420,  0.2552,  ..., -0.4877, -0.0727,  0.0754],\n",
              "         [-0.2472,  0.2420,  0.2561,  ..., -0.4874, -0.0733,  0.0765]],\n",
              "\n",
              "        [[ 0.0768, -0.1234,  0.1534,  ..., -0.2518, -0.2571,  0.1602],\n",
              "         [-0.2419, -0.2821,  0.1962,  ..., -0.0172, -0.2960,  0.3679],\n",
              "         [ 0.0911, -0.1437,  0.3412,  ...,  0.2526, -0.1780,  0.2619]]],\n",
              "       grad_fn=<NativeLayerNormBackward0>)"
            ]
          },
          "metadata": {},
          "execution_count": 61
        }
      ]
    },
    {
      "cell_type": "code",
      "source": [
        "from kobert_transformers import get_tokenizer"
      ],
      "metadata": {
        "id": "7Hr7pzE2hJmM"
      },
      "execution_count": 46,
      "outputs": []
    },
    {
      "cell_type": "code",
      "source": [
        "tokenizer = get_tokenizer()"
      ],
      "metadata": {
        "colab": {
          "base_uri": "https://localhost:8080/",
          "height": 200,
          "referenced_widgets": [
            "baad4bec69e443978bd11d5dc3cf3df9",
            "abab4953449540668175fc746f3c9838",
            "72181bb7f36c4376b336a63e616f0712",
            "265d84b7a39f465caa09d47cd53e5dc0",
            "ff89663705994883b4886414dc2824cf",
            "2c43013a2fb84b5fbaeae96489e0c75f",
            "51097a3ffc344ee8b86940b38704c1d3",
            "58e1796f220d417e81e3d2a0ceaea166",
            "49dd8d2f139148cfb0da80cd52fdda7e",
            "fd0ad3a81e014011bf8f9700e62fd22b",
            "2e67b521838a4a479d96f42d188bbe3f",
            "3578d343a0d84b08b31009afbfc9061c",
            "3688f0056c9547fba6a8a61ef1a22315",
            "20bbcd954b2d457a85eda0b460a0b38e",
            "b52b6ef8170b4b438799caa27abc5b61",
            "7c0d6107f1164cd6907c29b0b4c69219",
            "7d86bef8eab041bf86bd4795f1b6c934",
            "b6248eb4192a4f1c98362fc94eda0d28",
            "e047015e26274f3b991d1966b76e6d36",
            "30c09ebc4c1c4ffabec199bec9455e10",
            "4d7b06ba3ec14988881edd60b2e4ca2d",
            "61b512974fba4da2ab9e82a6a065ace3",
            "e896e241f0994daeaf0ad900f8ed6134",
            "b8ce6ac922354ec49d6cbb868905e9f4",
            "228ecb6268c4433e8e34c7d58e412d72",
            "b71b03fbba514ea5bc42120a026fce35",
            "a6f088a54f0b4474bf861a2bf4474b20",
            "b648e4c5085344668789c6709d4eae56",
            "c66b3e99392e40deabe8bbf26e4817fd",
            "0be572401cb34e8fa86d34e83c3a22c2",
            "7b5cc558944546e9adb7333112fdea01",
            "cc6e16a423604fa391dbc7b5662c9b34",
            "f86d8c38cedd4821b1211b6c63eb7689",
            "268a6812820f4c7d99074b6ffee6d7f1",
            "474dc9abb5f942f8a80c51d5fa78b730",
            "2ac7b21e6f1c4a8a995c682568de9081",
            "a4bae9ce358845d39c73c2c02a0a962f",
            "139b16e57226480c8f1aa2fc818b9876",
            "5740b5e7d02047e58b00b1ab230d1d29",
            "f9bd164ea12b436283afbf4b72b9d813",
            "ee99ddee8f6c48c99bb85ee79e63bf9c",
            "d7300f3df9ef460c920da7e6fe23501d",
            "6501f9f0828d40dc9cc2e0293787ae38",
            "f5d7941f3477455ba21b3018cc0f1f02"
          ]
        },
        "id": "Pl62-7e-hOTQ",
        "outputId": "d2153941-bf46-4b40-9e18-8dc2bd376522"
      },
      "execution_count": 47,
      "outputs": [
        {
          "output_type": "display_data",
          "data": {
            "text/plain": [
              "Downloading (…)zer_78b3253a26.model:   0%|          | 0.00/371k [00:00<?, ?B/s]"
            ],
            "application/vnd.jupyter.widget-view+json": {
              "version_major": 2,
              "version_minor": 0,
              "model_id": "baad4bec69e443978bd11d5dc3cf3df9"
            }
          },
          "metadata": {}
        },
        {
          "output_type": "display_data",
          "data": {
            "text/plain": [
              "Downloading (…)solve/main/vocab.txt:   0%|          | 0.00/77.8k [00:00<?, ?B/s]"
            ],
            "application/vnd.jupyter.widget-view+json": {
              "version_major": 2,
              "version_minor": 0,
              "model_id": "3578d343a0d84b08b31009afbfc9061c"
            }
          },
          "metadata": {}
        },
        {
          "output_type": "display_data",
          "data": {
            "text/plain": [
              "Downloading (…)okenizer_config.json:   0%|          | 0.00/51.0 [00:00<?, ?B/s]"
            ],
            "application/vnd.jupyter.widget-view+json": {
              "version_major": 2,
              "version_minor": 0,
              "model_id": "e896e241f0994daeaf0ad900f8ed6134"
            }
          },
          "metadata": {}
        },
        {
          "output_type": "display_data",
          "data": {
            "text/plain": [
              "Downloading (…)lve/main/config.json:   0%|          | 0.00/426 [00:00<?, ?B/s]"
            ],
            "application/vnd.jupyter.widget-view+json": {
              "version_major": 2,
              "version_minor": 0,
              "model_id": "268a6812820f4c7d99074b6ffee6d7f1"
            }
          },
          "metadata": {}
        },
        {
          "output_type": "stream",
          "name": "stderr",
          "text": [
            "The tokenizer class you load from this checkpoint is not the same type as the class this function is called from. It may result in unexpected tokenization. \n",
            "The tokenizer class you load from this checkpoint is 'BertTokenizer'. \n",
            "The class this function is called from is 'KoBertTokenizer'.\n"
          ]
        }
      ]
    },
    {
      "cell_type": "code",
      "source": [
        "tokenizer.tokenize('[CLS] 한국어 모델을 공유합니다. [SEP]')"
      ],
      "metadata": {
        "colab": {
          "base_uri": "https://localhost:8080/"
        },
        "id": "LnFIwwUShRyA",
        "outputId": "221e6906-8bdf-4342-e451-5184c42bb76e"
      },
      "execution_count": 51,
      "outputs": [
        {
          "output_type": "execute_result",
          "data": {
            "text/plain": [
              "['[CLS]', '▁한국', '어', '▁모델', '을', '▁공유', '합니다', '.', '[SEP]']"
            ]
          },
          "metadata": {},
          "execution_count": 51
        }
      ]
    },
    {
      "cell_type": "code",
      "source": [
        "tokenizer.convert_tokens_to_ids(['[CLS]', '▁한국', '어', '▁모델', '을', '▁공유', '합니다', '.', '[SEP]'])"
      ],
      "metadata": {
        "colab": {
          "base_uri": "https://localhost:8080/"
        },
        "id": "oqWrW63KhdJ_",
        "outputId": "c7ab8a92-48ac-4a87-a5ed-7cef443816eb"
      },
      "execution_count": 58,
      "outputs": [
        {
          "output_type": "execute_result",
          "data": {
            "text/plain": [
              "[2, 4958, 6855, 2046, 7088, 1050, 7843, 54, 3]"
            ]
          },
          "metadata": {},
          "execution_count": 58
        }
      ]
    },
    {
      "cell_type": "code",
      "source": [
        "import numpy as np\n",
        "from sklearn.metrics.pairwise import cosine_similarity"
      ],
      "metadata": {
        "id": "AeGeICaphoF5"
      },
      "execution_count": 59,
      "outputs": []
    },
    {
      "cell_type": "code",
      "source": [
        "def get_cls_token(sentence):\n",
        "    model.eval()\n",
        "    tokenized_sent = tokenizer(\n",
        "        sentence,\n",
        "        return_tensors='pt',\n",
        "        truncation=True,\n",
        "        add_special_tokens=True,\n",
        "        max_length=128\n",
        "    )\n",
        "    input_ids = tokenized_sent['input_ids']\n",
        "    attention_mask = tokenized_sent['attention_mask']\n",
        "    token_type_ids = tokenized_sent['token_type_ids']\n",
        "    with torch.no_grad():\n",
        "        output = model(input_ids, attention_mask, token_type_ids)\n",
        "    cls_output = output[1]\n",
        "    cls_token = cls_output.detach().cpu().numpy()\n",
        "    return cls_token"
      ],
      "metadata": {
        "id": "Cq7V2OLriCSJ"
      },
      "execution_count": 67,
      "outputs": []
    },
    {
      "cell_type": "code",
      "source": [
        "def predict(query, candidates):\n",
        "    candidates_cls = []\n",
        "    for cand in candidates:\n",
        "        cand_cls = get_cls_token(cand)\n",
        "        candidates_cls.append(cand_cls)\n",
        "    candidates_cls = np.array(candidates_cls).squeeze(axis=1)\n",
        "    query_cls = get_cls_token(query)\n",
        "    similarity_list = cosine_similarity(query_cls, candidates_cls)\n",
        "    target_idx = np.argmax(similarity_list)\n",
        "    return candidates[target_idx]"
      ],
      "metadata": {
        "id": "dp0T4sEViSn6"
      },
      "execution_count": 68,
      "outputs": []
    },
    {
      "cell_type": "code",
      "source": [
        "query = '너 요즘 바뻐?'\n",
        "query_cls_hidden = get_cls_token(query)\n",
        "print(query_cls_hidden)\n",
        "print(query_cls_hidden.shape)"
      ],
      "metadata": {
        "colab": {
          "base_uri": "https://localhost:8080/"
        },
        "id": "eL_6zS2kj7Jp",
        "outputId": "b2cc3868-a609-4409-c8e3-9dc37bf9dcdf"
      },
      "execution_count": 69,
      "outputs": [
        {
          "output_type": "stream",
          "name": "stdout",
          "text": [
            "[[ 1.97712686e-02 -4.20350656e-02 -8.08150396e-02  1.43184792e-02\n",
            "  -8.87244284e-01  9.76347804e-01 -3.12679619e-01  1.08309001e-01\n",
            "  -7.70816207e-02 -7.28073344e-02 -5.49437761e-01 -1.36874225e-02\n",
            "  -4.49551875e-03  1.16062753e-01 -6.47512078e-03  6.94795251e-01\n",
            "  -9.89945292e-01  6.73853531e-02 -4.00665700e-02 -2.03489568e-02\n",
            "   6.67853653e-02 -2.53229076e-03 -4.10425514e-02  5.43793917e-01\n",
            "   3.53782102e-02  7.47534931e-01 -9.01233375e-01 -9.19028968e-02\n",
            "  -8.82182658e-01  9.46917832e-02  9.30823743e-01  6.68540180e-01\n",
            "  -4.72913012e-02 -4.87457700e-02 -8.58902276e-01 -1.67718023e-01\n",
            "  -3.68323103e-02 -1.58498865e-02 -9.75222409e-01 -5.68215996e-02\n",
            "  -4.96404991e-02  2.40122643e-03  3.73748466e-02  9.78760481e-01\n",
            "  -9.96391356e-01  6.99634925e-02 -5.84157288e-01  2.57410798e-02\n",
            "  -9.95675206e-01  9.74204183e-01 -2.00891510e-01 -9.99807358e-01\n",
            "  -9.80349720e-01  1.94250289e-02 -7.49887675e-02 -7.94397116e-01\n",
            "   1.02787115e-01  6.21608198e-01 -1.45016257e-02  8.89345035e-02\n",
            "   1.19152609e-02  5.47532775e-02  9.20245707e-01 -9.87935603e-01\n",
            "   3.01292688e-02 -2.65660342e-02 -1.06672823e-01 -3.09796836e-02\n",
            "   9.87809803e-03  1.64681561e-02  9.40921783e-01 -1.11121545e-02\n",
            "   2.79974818e-01 -6.98985830e-02 -5.59643507e-01 -2.04323381e-02\n",
            "  -1.22432746e-01 -1.63029637e-02  1.21791765e-01  5.74307404e-02\n",
            "   1.61552262e-02 -9.55803871e-01 -5.35652220e-01  4.11142349e-01\n",
            "  -4.79983203e-02  5.45244478e-02  6.68844581e-02 -5.60483709e-03\n",
            "   9.91440356e-01 -6.08555794e-01 -2.80754305e-02 -1.51853645e-02\n",
            "   4.41351347e-02  4.45505418e-02 -9.37977374e-01  3.68432887e-02\n",
            "  -3.91986258e-02  3.95908728e-02  1.30553180e-02  8.80397081e-01\n",
            "   2.85759736e-02 -6.91245422e-02 -4.83701304e-02  7.50415623e-02\n",
            "  -9.57032561e-01  3.85181233e-02 -4.11867686e-02  7.57834502e-03\n",
            "  -2.58947704e-02  2.30288096e-02 -6.81483187e-03 -4.77751344e-02\n",
            "   9.02028978e-01  5.78373037e-02 -5.13115942e-01  4.66835760e-02\n",
            "  -1.21096531e-02 -7.28294328e-02  8.30217451e-03  7.80005828e-02\n",
            "   1.20663255e-01  6.35054111e-02 -9.91669655e-01  8.69436026e-01\n",
            "  -9.99854863e-01 -9.14234854e-03 -8.98460507e-01  3.41066644e-02\n",
            "  -1.39556751e-02 -2.11755675e-03  5.12874275e-02  3.34920734e-02\n",
            "   1.09835798e-02  4.99966703e-02  6.09446652e-02  4.96051162e-02\n",
            "  -9.28291023e-01 -5.49920909e-02  8.07364509e-02  7.13707507e-02\n",
            "   3.20894308e-02  5.07209972e-02  3.52416873e-01  9.20596957e-01\n",
            "  -1.33979181e-02  2.50120815e-02  1.47373984e-02  7.09045455e-02\n",
            "  -1.00761196e-02  9.00735240e-03 -9.46521699e-01  6.42012879e-02\n",
            "  -8.47015977e-01  2.35851780e-02  1.11326121e-03  3.85401882e-02\n",
            "   8.96188095e-02 -3.28979827e-02 -2.55992524e-02 -8.79032433e-01\n",
            "   7.56769702e-02  4.37905006e-02 -2.70840041e-02  9.90387022e-01\n",
            "  -1.68378185e-02  1.21676736e-01  5.42990305e-02  4.73825961e-01\n",
            "  -3.73174399e-02  9.82729532e-03 -5.52667454e-02 -8.36797524e-03\n",
            "  -9.21916842e-01 -7.08967924e-01  1.21669851e-01  9.99682784e-01\n",
            "  -1.97477359e-02 -8.77339840e-01  3.16804014e-02 -1.83018073e-02\n",
            "  -5.06146718e-03  9.76287425e-01  2.90160209e-01 -9.99827921e-01\n",
            "   3.17350924e-02  3.96242291e-02 -1.32720862e-02 -3.51913124e-02\n",
            "   5.21909967e-02  1.99955646e-02 -1.75941493e-02  1.05277762e-01\n",
            "  -6.90918118e-02 -8.85317847e-02 -1.31769195e-01 -4.25230190e-02\n",
            "   2.88107157e-01  4.25480725e-03  1.61117706e-02 -6.21331781e-02\n",
            "   2.75977943e-02  4.47717100e-01  2.58003846e-02 -3.00958101e-02\n",
            "   8.87380481e-01 -3.50626260e-02  1.04203206e-02  3.23608406e-02\n",
            "  -5.06323397e-01  9.14470911e-01 -2.15907674e-03  3.48478965e-02\n",
            "   8.74281347e-01  8.57237041e-01 -5.60339205e-02  4.88039665e-02\n",
            "  -2.96012815e-02  5.85433960e-01  8.85599554e-01 -9.69411671e-01\n",
            "  -8.37742984e-01 -9.04358923e-03  5.83447795e-03 -2.27306709e-02\n",
            "  -6.48913439e-03  2.71145374e-01  7.31240571e-01 -9.81174767e-01\n",
            "  -3.50158215e-02  7.24899629e-03 -9.91511464e-01 -2.15140115e-02\n",
            "   3.07669397e-02 -2.28972971e-01  4.12351251e-01 -2.97829956e-01\n",
            "   2.97683060e-01 -1.22985933e-02 -4.94735837e-02 -2.75764521e-02\n",
            "   9.01489854e-01 -8.02892540e-03  8.63082767e-01 -8.56264457e-02\n",
            "   4.14135635e-01  8.60826224e-02 -4.89611700e-02  9.95140016e-01\n",
            "   1.66754365e-01  9.85895157e-01  1.45100756e-02  5.71456067e-02\n",
            "  -6.46065921e-02  2.03104615e-02  1.82742663e-02  8.81142393e-02\n",
            "   9.78763700e-01  6.46322668e-02  9.87488270e-01 -8.65316808e-01\n",
            "   2.63852905e-02  2.06853095e-02 -4.01435141e-03 -4.11329977e-02\n",
            "   6.69814870e-02 -2.93426607e-02  7.46286437e-02 -4.72679436e-01\n",
            "  -5.91187954e-01  5.13812751e-02  2.87640933e-02 -7.29547590e-02\n",
            "   4.40406576e-02 -2.94400483e-01  6.77515388e-01 -8.84745479e-01\n",
            "   9.12754536e-02  5.19075897e-03  7.55682886e-02  2.60925367e-02\n",
            "  -5.04910909e-02  1.58710003e-01 -9.80808735e-01 -3.30212228e-02\n",
            "   4.70192023e-02 -2.77179573e-02 -6.82025254e-02 -8.56657103e-02\n",
            "   5.77225238e-02  2.73138210e-02  9.69972134e-01  7.23451674e-02\n",
            "   5.73495805e-01 -5.53214066e-02 -3.43015306e-02 -5.73314987e-02\n",
            "  -3.60760421e-01  9.92592335e-01 -4.29719239e-02 -2.54395884e-03\n",
            "  -3.73231783e-03  1.75964192e-01 -1.12269009e-02  2.51382426e-03\n",
            "   9.99624670e-01 -9.35694110e-03 -5.24946690e-01  4.96206462e-01\n",
            "   8.27659965e-02 -1.16833746e-01 -4.28614587e-01  3.59543599e-02\n",
            "  -3.91330011e-02  9.48929548e-01  9.99915421e-01 -6.58894307e-04\n",
            "   1.53926685e-02  4.19992395e-02  9.35816541e-02 -1.50320724e-01\n",
            "  -3.90121387e-03  1.39818126e-02  3.35921608e-02  3.17463838e-02\n",
            "   6.70463964e-02 -2.85734795e-02 -6.41714156e-01  1.05718933e-02\n",
            "   1.15118856e-02  1.43086705e-02 -4.05126475e-02 -8.23391229e-03\n",
            "  -8.90455067e-01 -1.34508967e-01 -9.31038022e-01  4.81921219e-04\n",
            "   1.24618085e-02  3.91753577e-02  2.55453009e-02  8.59406233e-01\n",
            "  -2.67723296e-02 -4.12802063e-02  7.50546932e-01 -9.87331122e-02\n",
            "  -9.46730435e-01 -9.98687983e-01 -3.62062082e-02  8.82269263e-01\n",
            "  -2.75548338e-03  3.37444395e-02 -3.71669382e-02 -1.42455265e-01\n",
            "  -3.06474626e-01  2.31448133e-02  1.50695606e-03 -4.18973938e-02\n",
            "  -6.22345269e-01  9.99812782e-01 -5.05036525e-02  2.84895916e-02\n",
            "  -3.53690051e-02  9.13175289e-03 -5.22863746e-01 -9.89726126e-01\n",
            "   7.09966421e-02 -2.42635924e-02 -9.89548385e-01  6.83806464e-02\n",
            "   4.07988206e-02  1.08705340e-02 -4.37119544e-01 -5.63813210e-01\n",
            "   4.74739075e-02  3.54076065e-02 -7.31701329e-02 -4.36487012e-02\n",
            "  -9.32106495e-01  4.00953829e-01 -1.69779547e-02  3.44160385e-02\n",
            "  -9.99760509e-01 -8.16055760e-02  9.42515254e-01  5.87241352e-02\n",
            "   7.71811679e-02  2.63805557e-02 -9.58483201e-03  1.69935040e-02\n",
            "  -3.50716114e-02 -2.74949917e-03 -7.07111001e-01  9.99636531e-01\n",
            "  -1.39362991e-01 -1.13253608e-01 -1.54854292e-02  2.27557030e-02\n",
            "  -3.57569866e-02  4.39597070e-02 -4.65914048e-02  1.51156662e-02\n",
            "   8.78148433e-03 -3.01217958e-02 -1.23016601e-02  9.32075977e-01\n",
            "  -6.01027906e-01  9.51776803e-01  1.83693722e-01  5.11921942e-02\n",
            "  -4.39717531e-01  7.78894648e-02  2.72273226e-03 -9.82761145e-01\n",
            "  -9.57825184e-01 -2.36347094e-02  2.47249845e-02 -5.78276753e-01\n",
            "   3.44470004e-03 -9.28235520e-03 -4.05462086e-02 -5.06315641e-02\n",
            "   1.81933586e-02 -8.90301228e-01  5.07990755e-02 -8.97732079e-01\n",
            "   8.36622119e-01 -9.70130861e-02 -6.55984953e-02 -5.59528232e-01\n",
            "  -3.37564759e-02 -1.53997242e-01 -3.12335849e-01 -9.79732350e-03\n",
            "  -3.76110762e-01 -6.79448366e-01 -5.14980197e-01  4.50537540e-02\n",
            "   8.84905875e-01 -2.19864249e-01  8.45167458e-01  9.02457833e-01\n",
            "   5.73191822e-01 -1.03603192e-02  4.08219248e-02  9.99873698e-01\n",
            "  -5.77480793e-01  7.31348842e-02 -6.93641305e-02  5.33511043e-01\n",
            "   8.34202409e-01  6.06251322e-02 -9.22108650e-01 -4.53240238e-02\n",
            "  -9.21294987e-01 -1.56663556e-03  1.53640127e-02  5.07251685e-03\n",
            "  -6.68962225e-02 -3.83358359e-01 -8.48755892e-03  6.85555100e-01\n",
            "  -8.37420858e-03 -4.52448875e-02  5.83141595e-02 -1.70860831e-02\n",
            "  -5.92008941e-02  9.21067297e-01  9.18299332e-02 -8.46074104e-01\n",
            "  -1.67632401e-01 -9.61074114e-01  1.10302772e-02 -5.71848713e-02\n",
            "   4.48717847e-02  7.93937147e-01 -2.97717024e-02 -7.98422933e-01\n",
            "  -3.50071527e-02 -2.32628584e-02  9.07549739e-01  1.07617840e-01\n",
            "  -9.99721169e-01 -9.81233180e-01 -8.30599010e-01  1.21828495e-02\n",
            "   7.36793876e-01 -8.75474811e-01  5.85044473e-02  3.26856710e-02\n",
            "  -1.54623797e-03 -9.97475147e-01  7.12855831e-02 -1.55170271e-02\n",
            "   2.20191497e-02 -6.73397910e-03 -8.83155882e-01  3.59170139e-02\n",
            "   4.71343279e-01  3.00890133e-02  2.49721464e-02 -1.51230261e-01\n",
            "  -9.28689361e-01 -4.23124582e-02 -2.99454704e-02 -6.59474611e-01\n",
            "  -1.81930140e-02  2.39341483e-01  1.19231351e-01 -7.52601743e-01\n",
            "   9.88331318e-01  7.62676820e-03  7.32322186e-02 -3.86127979e-01\n",
            "  -1.04531394e-02 -5.44525385e-02 -8.44074070e-01  8.42035592e-01\n",
            "   1.12028763e-01 -1.75491627e-02  2.72481679e-03 -5.30968122e-02\n",
            "  -4.97397082e-03  1.58805046e-02 -3.42542864e-02 -7.41725385e-01\n",
            "  -4.15326655e-02  7.68830299e-01  1.60676762e-02 -1.04533322e-02\n",
            "   3.49776261e-02  5.09096682e-02 -9.76349711e-01 -8.50231349e-02\n",
            "  -9.76854980e-01  2.29704715e-02  8.29891384e-01  2.15301756e-02\n",
            "  -5.02061881e-02  1.86863542e-02 -5.37561029e-02 -9.99018133e-01\n",
            "  -1.97572690e-02 -9.99930263e-01  1.22419959e-02  6.10845685e-01\n",
            "  -9.94518250e-02 -4.60792035e-02  6.06065273e-01  2.74291057e-02\n",
            "  -8.19775522e-01 -8.31643105e-01 -1.38606638e-01 -9.99899149e-01\n",
            "  -9.27114248e-01 -8.00279498e-01 -2.65904292e-02  5.39314866e-01\n",
            "   1.15309991e-02  5.63823581e-01  4.38051447e-02 -5.28342985e-02\n",
            "  -2.29860917e-02 -9.44950953e-02  2.46265158e-02 -2.15100087e-02\n",
            "  -8.75434279e-01  2.61015873e-02  7.20122755e-02 -6.39877245e-02\n",
            "   3.65058780e-02 -4.86739069e-01 -1.56598398e-04 -2.36861873e-02\n",
            "   1.02454529e-03 -9.59654152e-01  2.87306700e-02  3.06227454e-03\n",
            "   1.77779570e-02 -3.77629489e-01  3.26561704e-02 -3.10274512e-02\n",
            "   3.51714417e-02 -9.44145322e-01 -8.99597555e-02 -1.04208075e-01\n",
            "   6.93175554e-01 -7.50541538e-02  6.90494403e-02 -8.82190228e-01\n",
            "   2.50913389e-02  6.54611826e-01  5.60183823e-01  7.07554519e-01\n",
            "   9.60617781e-01  6.14134558e-02  5.77286065e-01 -2.83782817e-02\n",
            "  -3.36266398e-01  3.31814885e-02  8.99018168e-01  1.10603698e-01\n",
            "  -5.64125143e-02  5.42355254e-02 -9.56353784e-01 -8.88355374e-02\n",
            "  -9.99193132e-01 -2.48066895e-02 -9.57826972e-01 -9.72862005e-01\n",
            "   2.94864941e-02  3.90534215e-02 -7.86748946e-01 -4.07382578e-01\n",
            "  -5.29809184e-02 -3.25192958e-02  2.30216999e-02 -3.80927115e-03\n",
            "   5.05167097e-02 -8.55317116e-01 -2.33487133e-03  4.45174187e-01\n",
            "  -3.50024849e-02  1.75286981e-03  4.00325749e-03 -9.21898410e-02\n",
            "   3.99731752e-03 -1.36185333e-01 -4.03721519e-02  9.40170705e-01\n",
            "   8.97302032e-02 -9.09734964e-01  7.61120081e-01 -2.85653793e-03\n",
            "  -6.37132585e-01 -6.98854253e-02 -4.47482951e-02  4.74471133e-03\n",
            "   9.08056140e-01 -2.85296198e-02  9.99938309e-01  9.73304212e-01\n",
            "  -8.72908831e-01  5.02233446e-01  4.86812443e-02  2.82573223e-01\n",
            "   6.34036809e-02 -9.62208569e-01 -5.02869189e-02 -8.60814095e-01\n",
            "  -6.44549355e-02  2.71886345e-02  9.14090127e-02 -1.74800158e-01\n",
            "  -9.93987024e-01  3.31035675e-03  3.66920717e-02 -1.21775903e-01\n",
            "  -8.67323816e-01 -7.44413137e-02 -9.99465227e-01 -1.81429219e-02\n",
            "   8.87998164e-01  8.39024246e-01  5.19102626e-02 -1.27681950e-02\n",
            "   9.94056821e-01  6.85030162e-01 -8.53933930e-01  3.65198925e-02\n",
            "  -1.86123257e-03 -9.46935825e-03 -9.58351493e-01  4.58785705e-02\n",
            "  -7.18914643e-02 -8.44064448e-03  5.83787076e-02  3.54283229e-02\n",
            "  -5.40311672e-02  5.03920376e-01  1.63402393e-01  7.98747167e-02\n",
            "   9.56079438e-02  8.89035106e-01 -6.37682676e-02 -3.11780423e-02\n",
            "   5.65435737e-03 -6.76189959e-01  2.26582512e-02  9.99777913e-01\n",
            "   5.42106211e-01  8.81658018e-01  9.93905306e-01  5.51105244e-03\n",
            "   3.81119438e-02  8.49794149e-01  5.89373708e-01 -1.22708017e-02\n",
            "  -1.56028092e-01 -9.92524326e-01 -2.87821013e-02 -1.58514440e-01\n",
            "   9.09859657e-01  2.19297037e-01 -9.99814630e-01  1.32726338e-02\n",
            "   9.70062315e-01  9.70911145e-01 -6.44348443e-01  8.52031946e-01\n",
            "  -9.63064015e-01 -5.76023698e-01 -5.83868250e-02  2.64066234e-02\n",
            "  -7.20684350e-01  2.16158084e-03 -4.64602932e-03  9.99902904e-01\n",
            "   4.17144261e-02  4.54902276e-02  3.64559367e-02  5.55259828e-03\n",
            "   9.59032774e-03 -7.67509686e-03  5.07940575e-02  8.90136123e-01\n",
            "   2.93284263e-02 -6.64203092e-02 -2.92305555e-02 -9.98543262e-01\n",
            "  -2.52464801e-01 -4.86114502e-01 -2.66075823e-02 -1.43679734e-02\n",
            "  -9.95312929e-01 -5.84236123e-02  4.27999906e-03 -8.46150890e-02\n",
            "  -2.91191936e-01  4.45333533e-02 -5.85757196e-02  1.04175992e-01\n",
            "  -3.75012099e-03 -1.49845872e-02  1.33885713e-02 -5.59754819e-02\n",
            "  -6.55457899e-02  9.34130967e-01 -7.00237095e-01  4.75338362e-02\n",
            "   2.88320193e-03  9.87558126e-01 -2.82196980e-03  6.53676987e-02\n",
            "  -5.88703454e-01 -9.38618541e-01 -8.60266924e-01  8.97187293e-01\n",
            "   1.31906364e-02 -6.95280254e-01 -4.05457728e-02 -9.66625988e-01\n",
            "   2.19611265e-02  8.83074343e-01 -5.53830385e-01 -9.96755064e-03\n",
            "  -9.90602791e-01  1.55075684e-01 -7.11186007e-02 -2.03615054e-02]]\n",
            "(1, 768)\n"
          ]
        }
      ]
    },
    {
      "cell_type": "code",
      "source": [
        "sample_query = '너 요즘 바뻐?'\n",
        "sample_candidates = ['바쁘면 가라', '아니 별로 안바뻐', '3인조 여성 그룹', '오늘은 안바뻐']\n",
        "\n",
        "predicted_answer = predict(query, sample_candidates)\n",
        "print(f'결과: {predicted_answer}')"
      ],
      "metadata": {
        "colab": {
          "base_uri": "https://localhost:8080/"
        },
        "id": "reftaT15kNYO",
        "outputId": "c884fca7-4b35-400d-fe02-050e61e29736"
      },
      "execution_count": 70,
      "outputs": [
        {
          "output_type": "stream",
          "name": "stdout",
          "text": [
            "결과: 아니 별로 안바뻐\n"
          ]
        }
      ]
    },
    {
      "cell_type": "code",
      "source": [
        "user_query = '나 오늘 헤어졌어'\n",
        "predicted_answer = predict(user_query, response_candidates)\n",
        "print(f'결과: {predicted_answer}')"
      ],
      "metadata": {
        "colab": {
          "base_uri": "https://localhost:8080/"
        },
        "id": "IciTe-juksjJ",
        "outputId": "b4780986-992f-47f1-c32c-6fa535f50f8b"
      },
      "execution_count": 71,
      "outputs": [
        {
          "output_type": "stream",
          "name": "stdout",
          "text": [
            "결과: 별거 없다가도 전부가 되는게 사랑이에요\n"
          ]
        }
      ]
    },
    {
      "cell_type": "code",
      "source": [
        "response_candidates = random.sample(answer_list, 100)"
      ],
      "metadata": {
        "id": "2nEJdVZNlDn1"
      },
      "execution_count": 73,
      "outputs": []
    },
    {
      "cell_type": "code",
      "source": [
        "user_query = '나 오늘 너무 힘들어'\n",
        "predicted_answer = predict(user_query, response_candidates)\n",
        "print(f'결과: {predicted_answer}')"
      ],
      "metadata": {
        "colab": {
          "base_uri": "https://localhost:8080/"
        },
        "id": "UkkBIcfmlhqA",
        "outputId": "8effa7b4-8104-4326-ef6c-a103917476f2"
      },
      "execution_count": 74,
      "outputs": [
        {
          "output_type": "stream",
          "name": "stdout",
          "text": [
            "결과: 사랑 앞에 자존심은 소용이 없어요.\n"
          ]
        }
      ]
    },
    {
      "cell_type": "code",
      "source": [
        "end = 1\n",
        "while end == 1:\n",
        "    sentence = input('하고싶은 말을 입력하세요: ')\n",
        "    if len(sentence) == 0:\n",
        "        break\n",
        "    predicted_answer = predict(sentence, response_candidates)\n",
        "    print(predicted_answer)\n",
        "    print('\\n')"
      ],
      "metadata": {
        "colab": {
          "base_uri": "https://localhost:8080/"
        },
        "id": "s9XNfmVulmD8",
        "outputId": "ece73e93-a27c-4a1b-ace6-a3820a88291b"
      },
      "execution_count": 75,
      "outputs": [
        {
          "name": "stdout",
          "output_type": "stream",
          "text": [
            "하고싶은 말을 입력하세요: 야 너 뭐해?\n",
            "그런 사람이 있으면 저 좀 소개시켜주세요.\n",
            "\n",
            "\n",
            "하고싶은 말을 입력하세요: 그만해\n",
            "바쁘게 지냈나봐요.\n",
            "\n",
            "\n",
            "하고싶은 말을 입력하세요: \n"
          ]
        }
      ]
    },
    {
      "cell_type": "code",
      "source": [],
      "metadata": {
        "id": "IghaHj5_mHty"
      },
      "execution_count": null,
      "outputs": []
    }
  ]
}