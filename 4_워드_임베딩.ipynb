{
  "nbformat": 4,
  "nbformat_minor": 0,
  "metadata": {
    "colab": {
      "provenance": [],
      "authorship_tag": "ABX9TyNDWUEz4I0i0hALSWXgicrX",
      "include_colab_link": true
    },
    "kernelspec": {
      "name": "python3",
      "display_name": "Python 3"
    },
    "language_info": {
      "name": "python"
    }
  },
  "cells": [
    {
      "cell_type": "markdown",
      "metadata": {
        "id": "view-in-github",
        "colab_type": "text"
      },
      "source": [
        "<a href=\"https://colab.research.google.com/github/leeCodingStudio/Python_NLP/blob/master/4_%EC%9B%8C%EB%93%9C_%EC%9E%84%EB%B2%A0%EB%94%A9.ipynb\" target=\"_parent\"><img src=\"https://colab.research.google.com/assets/colab-badge.svg\" alt=\"Open In Colab\"/></a>"
      ]
    },
    {
      "cell_type": "markdown",
      "source": [
        "# 1. 워드 임베딩(Word Embedding)\n",
        "* 단어를 컴퓨터가 이해하고, 효율적으로 처리할 수 있도록 단어를 벡터화하는 기술\n",
        "* 단어를 밀집 벡터의 형태로 표현하는 방법\n",
        "* 워드 임베딩 과정을 통해 나온 결과를 임베딩 벡터\n",
        "* 워드 임베딩을 거쳐 잘 표현된 단어 벡터들은 계산이 가능하며, 모델에 입력으로 사용할 수 있음"
      ],
      "metadata": {
        "id": "HLwi5x4cGnK4"
      }
    },
    {
      "cell_type": "markdown",
      "source": [
        "### 1-1. 인코딩(Encoding)\n",
        "* 기계는 자연어를 이해할 수 없기 때문에 데이터를 기계가 이해할 수 있도록 숫자 등으로 변환해주는 작업\n",
        "* 자연어를 수치화된 벡터로 변환하는 작업"
      ],
      "metadata": {
        "id": "RxxYA-zFHvBO"
      }
    },
    {
      "cell_type": "markdown",
      "source": [
        "### 1-2. 희소 표현(Sparse Representation)\n",
        "* 원-핫 인코딩을 통해서 나온 원-핫 벡터들은 표현하고자 하는 단어의 인덱스의 값만 1이고, 나머지 인덱스에는 전부 0으로 표현되는 벡터 표현 방법\n",
        "* 벡터 또는 행렬의 값이 대부분이 0으로 표현되는 방법을 희소 표현이라고 함\n",
        "* 원-핫 인코딩에 의해 만들어지는 벡터를 희소 벡터라고 함"
      ],
      "metadata": {
        "id": "IAHriwavIbsF"
      }
    },
    {
      "cell_type": "markdown",
      "source": [
        "### 1-3. 희소 벡터의 문제점\n",
        "* 희소 벡터의 특징은 단어의 개수가 늘어나면 벡터의 차원이 한없이 커진다는 것\n",
        "* 원-핫 벡터는 벡터 표현 방식이 매우 단순하여, 단순히 단어의 출현 여부만을 벡터에 표시할 수 있음\n",
        "* 희소 벡터를 이용하여 문장 또는 텍스트 간의 유사도를 계산해보면 원하는 유사도를 얻기 힘듬"
      ],
      "metadata": {
        "id": "jqyt-g1LLGMK"
      }
    },
    {
      "cell_type": "markdown",
      "source": [
        "### 1-4. 밀집 표현(Dense Represenstation)\n",
        "* 벡터의 차원이 조밀해졌다는 의미\n",
        "* 사용자가 설정한 값으로 모든 단어의 벡터 표현의 차원을 맞추는 표현 방식\n",
        "* 자연어를 밀집 표현으로 변환하는 인코딩 과정에서 0과 1의 binary 값이 아니라 연속적인 실수 값을 가질 수 있음"
      ],
      "metadata": {
        "id": "uoPkXWJwLfDa"
      }
    },
    {
      "cell_type": "markdown",
      "source": [
        "### 1-5. 밀집 표현의 장점\n",
        "* 적은 차원으로 대상을 표현할 수 있음\n",
        "* 더 큰 일반화 능력을 가지고 있음"
      ],
      "metadata": {
        "id": "U3ZwNuu9L9mu"
      }
    },
    {
      "cell_type": "markdown",
      "source": [
        "### 1-6. 원-핫 벡터와 워드 인베딩의 차이\n",
        "\n",
        "|종류|원-핫 백터|워드 임베딩|\n",
        "|------|---|---|\n",
        "|차원|고차원(단어의 집합의 크기)|저차원으로 표현 가능|\n",
        "|종류|희소 백터|밀집 백터|\n",
        "|표현방법|수동|학습 코퍼스에서 학습|\n",
        "|값의 유형|0,1|실수|"
      ],
      "metadata": {
        "id": "3Gsy9detMyoZ"
      }
    },
    {
      "cell_type": "markdown",
      "source": [
        "### 1-7. 차원 축소(Dimensionality Reduction)\n",
        "* 희소 벡터를 밀집 벡터의 형태로 변환하는 방법\n",
        "* 머신러닝에서 많은 피터들로 구성된 고차원의 데이터에서 중요한 피처들만 뽑아 저차원의 데이터(행렬)로 변환하기 위해 사용\n",
        "    - PCA(Principal Component Analysis)\n",
        "    - 잠재 의미 분석(Latent Semantic Analysis)\n",
        "    - 잠재 디리클레 할당(Latent Dirichlet Allocation, LDA)\n",
        "    - SVD(Sigular Value Decomposition, SVD)"
      ],
      "metadata": {
        "id": "Da0S6WpOOlpy"
      }
    },
    {
      "cell_type": "markdown",
      "source": [
        "# 2. Word2Vec"
      ],
      "metadata": {
        "id": "bPL0j49nS3sN"
      }
    },
    {
      "cell_type": "markdown",
      "source": [
        "### 2-1. 분산 표현(Distributed Representation)\n",
        "* 분포 가설이라는 가정 하에 만들어진 표현 방법\n",
        "* 분포 가설: \"비슷한 문맥에서 등장하는 단어들은 비슷한 의미를 가진다\"는 가설\n",
        "* 분포 가설의 목표는 단어 주변의 단어들, window 크기에 따라 정의되는 문맥의 의미를 이용해 단어를 벡터로 표현(분산 표현) 하는 것\n",
        "* 분산 표현으로 표현된 벡터들은 원-핫 벡터처럼 차원이 단어 집합의 크기일 필요가 없으므로, 벡터의 차원이 상대적으로 저차원으로 줄어듬\n",
        "* 밀집 표현을 분산 표현이라 부르기도 함\n",
        "* 희소 표현에서는 각각의 차원이 각각의 독립적인 정보를 갖고 있지만, 밀집에서는 하나의 차원이 여러 속성들이 버무려진 정보를 갖고 있음\n",
        "* 밀집 표현을 이용한 대표적인 학습 방법이 WOrd2Vec 임"
      ],
      "metadata": {
        "id": "tGavNbyrTmvi"
      }
    },
    {
      "cell_type": "markdown",
      "source": [
        "### 2-2. Word2Vec이란?\n",
        "* 분포 가설 하에 표현한 분산 표현을 따르는 워드 임베딩 모델\n",
        "* Google이 2013년도 처음 공개\n",
        "* 중심 단어와 주변의 단어들을 사용하여 단어를 예측하는 방식으로 임베딩을 만듬\n",
        "* WOrd2Vec의 학습 방식에는 두가지 방식\n",
        "    - CBOW(Continuous Bag of Words)\n",
        "    - Skip-gram"
      ],
      "metadata": {
        "id": "p53ZEx8DUEJL"
      }
    },
    {
      "cell_type": "markdown",
      "source": [
        "### 2-3. CBOW(Continuous Bag of Words)\n",
        "* [Word2Vec](https://wikidocs.net/22660)\n",
        "* 주변에 있는 단어들을 보고 중간에 있는 단어를 예측하는 방법\n",
        "* 주변 단어(context)는 타겟 단어(target word)의 직전 n개 단어와 직후 n개 단어를 의미하며, 이 범위를 window라 부르고, n을 window size라고 함\n",
        "* 문장 하나에 대해 한 번만 학습을 진행하는 것은 아깝기 때문에 sliding window 방식을 사용하여 하나의 문장을 가지고 여러 개의 학습 데이터셋을 만듬\n",
        "* Word2Vec은 최초 입력으로 one-hot-vector를 받는데, 1*V 크기의 one-hot-vector의 각 요소와 hidden layer N개의 각 노드는 1대1 대응이 이워져야 하므로 가중치 행렬 W의 크기는 VXN이 됨\n",
        "* 학습 코퍼스에 단어가 10,000개 있고 hidden layer의 노드를 300개로 지정하면, 가중치 행렬 W는 10,000 * 300 행렬 형태가 됨\n",
        "* 각각의 가중치 행렬은 랜덤한 값으로 초기화되어 있고, 학습 시 target word를 맞추는 과정에서 W가 계속해서 조정됨\n",
        "* 예를들어 4개의 단어들이 target word 예측에 사용될 때 각각의 단어들에 해당하는 W의 임베딩 벡터들의 평균을 사용함\n",
        "* 평균 벡터는 두 번째 가중치 행렬 W' 와 곱해지며 곱해진 경과로는 target word의 원 핫 벡터와 크기가 동일한 벡터를 얻을 수 있음\n",
        "* 최종 출력 값 벡터는 다중 클래스 분류 문제를 위한 일종의 스코어 벡터이며 0과 1사이의 값을 가지는데 이는 중심 단어일 확률을 나타냄\n",
        "* 스코어 벡터 값은 정답 레이블에 해당하는 target word의 원-핫 벡터 내 1의 값에 가까워져야 함\n",
        "* 스코어 벡터와 원-핫 벡터의 오차를 줄이기 위해 손실 함수(cross-entropy) 함수를 사용함"
      ],
      "metadata": {
        "id": "1mAOvdo1WgBN"
      }
    },
    {
      "cell_type": "markdown",
      "source": [
        "### 2-4. Skip-gram\n",
        "* 중심 단어에서 주변 단어를 예측\n",
        "* 중심 단어를 sliding window 하면서 학습 데이터를 증강\n",
        "* 중심 단어를 가지고 주변 단어를 예측하는 방법이기 때문에 projecttion layer에서 벡터들 간의 평균을 구하는 과정이 없으며 대신 output layer를 통해 벡터가 window size의 2n개 만큼 나옴"
      ],
      "metadata": {
        "id": "KAVwUADhXJoA"
      }
    },
    {
      "cell_type": "markdown",
      "source": [
        "### 2-5. CBOW vs Skip-gram\n",
        "* Skip-gram이 CBOW에 비해 여러 문맥을 고려하기 때문에 Skip-gram의 성능이 일반적으로 더 좋음\n",
        "* Skip-gram이 단어 당 학습 횟수가 더 많고, 임베딩의 조정 기회가 많으므로 더 정교한 임베딩 학습이 가능\n",
        "\n",
        "```\n",
        "작고 귀여운 강아지 문 앞에 앉아 있다\n",
        "```\n",
        "\n",
        "|     | CBOW |  |\n",
        "| --- | --------- | ----------------- |\n",
        "| Input  | Output | 학습기회 |\n",
        "| 귀여운, 강아지 | 작고 | 1 |\n",
        "| 작고, 강아지, 문 | 귀여운 | 1 |\n",
        "| 작고, 귀여운, 문, 앞에 | 강아지 | 1 |\n",
        "| 귀여운, 강아지, 앞에, 앉아 | 문 | 1 |\n",
        "| 강아지, 문, 앉아, 있다 | 앞에 | 1 |\n",
        "| 앞에, 앉아 | 있다 | 1 |\n",
        "\n",
        "|     | Skip-gram |  |\n",
        "| --- | --------- | ----------------- |\n",
        "| Input  | Output | 학습기회 |\n",
        "| 작고 | 귀여운, 강아지 | 2 |\n",
        "| 귀여운 | 작고, 강아지, 문 | 3 |\n",
        "| 강아지 | 작고, 귀여운, 문, 앞에 | 4 |\n",
        "| 문 | 귀여운, 강아지, 앞에, 앉아 | 4 |\n",
        "| 앞에 | 강아지, 문, 앉아, 있다 | 4 |\n",
        "| 앉아 | 문, 앞에, 있다 | 3 |\n",
        "| 있다 | 앞에, 앉아 | 2 |"
      ],
      "metadata": {
        "id": "0nD9dTQNhZH5"
      }
    },
    {
      "cell_type": "markdown",
      "source": [
        "### 2-6. Word2Vec의 한계점\n",
        "* 단어의 형태학적 특성을 반영하지 못함\n",
        "- 예) teach, teacher, tearchers 와 같이 세 단어는 의미적으로 유사한 단어지만 각 단어를 개별단어로 처리하여 세 단어 모두 벡터 값이 다르게 구성됨\n",
        "* 단어 빈도 수의 영향을 많이 받아 희소한 단어를 임베딩하기 어려움\n",
        "* OOV(Out of Vocabulary)의 처리가 어려움\n",
        "- 새로운 단어가 등장하면 데이터 전체를 다시 학습시켜야 함\n",
        "* 단어 사전의 크기가 클수록 학습하는데 오래거림\n",
        "- 단어 사전의 크기가 수 만개 이상인 경우, Word2Vec은 학습하기에 무거운 모델이 됨"
      ],
      "metadata": {
        "id": "YV7Ktahtkopy"
      }
    },
    {
      "cell_type": "markdown",
      "source": [
        "### 2-7. Word2Vec의 학습 트릭\n",
        "* Subsampling Frequent Words\n",
        "    - 자연어 코퍼스에서 자주 등장하는 단어의 학습향을 확률적인 방법으로 줄이는 것\n",
        "    - 등장 빈도가 높을수록 단어가 업데이트 될 기회가 많기 때문\n",
        "\n",
        "    * $$ P(w_i) = 1 - \\sqrt\\frac{t}{f(w_i)}$$\n",
        "\n",
        "    - f(Wi)는 해당 단어가 말뭉치에 등장할 비율(해당 단어 빈도/전체 단어수)\n",
        "    - t는 사용자가 지정해주는 값으로, 연구팀에서는 0.0001을 권장\n",
        "    - 예) 만약 f(Wi)가 0.01로 나타나는 빈고 높은 단어는 위 식으로 계산한 P(Wi)가 0.9684이므로, 100번의 학습 기회 가운데 96번 정도는 학습에서 제외하게 됨\n",
        "    - 등장 비율이 적어 P(Wi)가 0에 가깝다면 해당 단어가 나올 때마다 빼놓지 않고 학습\n",
        "    - 학습량을 효과적으로 줄여 계산량을 감소시키는 전략\n",
        "* Negative Sampling\n",
        "    - 학습하는 중심 단어와 주변 단어들 외에, 이 단어들과 별 연관 없는 수많은 단어의 임베딩까지 업데이트하는 것은 비효율적임\n",
        "    - 무작위로 네거티브 샘플들을 선택하여, 하나의 중심 단어에 대해 [주변단어 + 네거티브 샘플들]로만 구성된 작은 단어 집합을 만들어서 학습하면 훨씬 효뉼적으로 학습할 수 있을 것\n",
        "    - positive samplle 은 1로, negative sample은 0으로 간주하는 binary classification 형식의 학습 방법을 사용\n",
        "    - 모델을 학습할 때 기존의 Skip-gram과 다르게, target words에 대해서 단어 사전의 subset에 대해서만 학습을 진행할 수 있으므로 효율적으로 학습\n",
        "\n",
        "  * $P(w_i)_n = (\\frac{f(w_i)}{ \\sum_{j=1}^{n} f(w_i)})^3 / _4$\n",
        "\n"
      ],
      "metadata": {
        "id": "hqbmLKmRld2S"
      }
    },
    {
      "cell_type": "markdown",
      "source": [
        "# 3. FastText\n",
        "* 분포 가설하에 표현한 분산 표현을 따르는 또 다른 임베딩 모델\n",
        "* 2017년 페이스북에서 공개한 워드 임베딩 기법"
      ],
      "metadata": {
        "id": "uH0WSbDNmUmD"
      }
    },
    {
      "cell_type": "markdown",
      "source": [
        "### 3-1. FastText 동작 원리\n",
        "* <, >는 단어의 경계를 나타내기 위한 특수 기호\n",
        "* 단어를 먼저 <, >로 감싼 후, 설정한 n-gram의 값에 따라 앞에서부터 단어를 쪼갬\n",
        "* 마지막에 본 단어를 설명하기 위해 <, >으로 감싸진 전체 단어를 하나 추가함\n",
        "* n-gram 설정은 최소값과 최대값을 설정할 수 있음"
      ],
      "metadata": {
        "id": "ICdKBHnPcJhd"
      }
    },
    {
      "cell_type": "markdown",
      "source": [
        "### 3-2. FastText의 장점\n",
        "* 오타나 모르는 단어에 대한 대응\n",
        "* 단어 집합 내 빈도 수가 적었던 단어에 대한 대응\n",
        "* 자연어 코퍼스 내 노이즈에 대응"
      ],
      "metadata": {
        "id": "Y1YlPymlcie6"
      }
    },
    {
      "cell_type": "markdown",
      "source": [
        "### 과제.\n",
        "임베딩 방법론 중 \"GloVe\"의 작동원리에 대해 이해해보자"
      ],
      "metadata": {
        "id": "klztP29kfp6M"
      }
    },
    {
      "cell_type": "markdown",
      "source": [
        "# 4. 워드 임베딩 구축하기"
      ],
      "metadata": {
        "id": "KZA4n_pqgXap"
      }
    },
    {
      "cell_type": "code",
      "source": [
        "import pandas as pd\n",
        "import numpy as np\n",
        "from sklearn.datasets import fetch_20newsgroups"
      ],
      "metadata": {
        "id": "EKfcNvRcgw6e"
      },
      "execution_count": null,
      "outputs": []
    },
    {
      "cell_type": "code",
      "source": [
        "dataset = fetch_20newsgroups(shuffle=True, random_state=10, remove=('headers', 'footers', 'quotes'))\n",
        "# dataset\n",
        "# dataset.data\n",
        "dataset = dataset.data"
      ],
      "metadata": {
        "id": "LD36edY0g46U"
      },
      "execution_count": null,
      "outputs": []
    },
    {
      "cell_type": "code",
      "source": [
        "dataset[0]"
      ],
      "metadata": {
        "colab": {
          "base_uri": "https://localhost:8080/",
          "height": 54
        },
        "id": "1sPAketIhIOC",
        "outputId": "2c0ed4a7-9ab7-4cbe-c9f5-b730725e9863"
      },
      "execution_count": null,
      "outputs": [
        {
          "output_type": "execute_result",
          "data": {
            "text/plain": [
              "'Someone in Canada asked me to send him some public domain DES file\\nencryption code I have.  Is it legal for me to send it?\\n\\nThanx.\\n--\\nEschew Obfuscation\\n\\nRob deFriesse                    Mail:  rj@ri.cadre.com\\nCadre Technologies Inc.          Phone:  (401) 351-5950\\n222 Richmond St.                 Fax:    (401) 351-7380\\nProvidence, RI  02903'"
            ],
            "application/vnd.google.colaboratory.intrinsic+json": {
              "type": "string"
            }
          },
          "metadata": {},
          "execution_count": 124
        }
      ]
    },
    {
      "cell_type": "code",
      "source": [
        "# 데이터셋 총 개수\n",
        "len(dataset)"
      ],
      "metadata": {
        "colab": {
          "base_uri": "https://localhost:8080/"
        },
        "id": "wzxwluTRhohD",
        "outputId": "c8da7345-d861-4624-d837-c9de99e60322"
      },
      "execution_count": null,
      "outputs": [
        {
          "output_type": "execute_result",
          "data": {
            "text/plain": [
              "11314"
            ]
          },
          "metadata": {},
          "execution_count": 125
        }
      ]
    },
    {
      "cell_type": "code",
      "source": [
        "news_df = pd.DataFrame({'document':dataset})\n",
        "news_df"
      ],
      "metadata": {
        "colab": {
          "base_uri": "https://localhost:8080/",
          "height": 423
        },
        "id": "T2kudh6OhrT0",
        "outputId": "d50cd5b9-6d19-4d96-f8e4-3a4300e11a1c"
      },
      "execution_count": null,
      "outputs": [
        {
          "output_type": "execute_result",
          "data": {
            "text/plain": [
              "                                                document\n",
              "0      Someone in Canada asked me to send him some pu...\n",
              "1      \\n\\nI see . . . you're not running Ultrix!\\n\\n...\n",
              "2      \\nFor the first Move incident (no bomb, severa...\n",
              "3      Okay, I'm trying to install NCSA telnet on a c...\n",
              "4      Hi everyone. I recently posted about how I rec...\n",
              "...                                                  ...\n",
              "11309  We have a minivas-2 and we want to record to a...\n",
              "11310  Videonics Title maker System\\n================...\n",
              "11311  \\n\\nAnas, of course ! The YAHUD needed blood f...\n",
              "11312  From: push@media.mit.edu (Pushpinder Singh)\\nS...\n",
              "11313  Does anyone has a table about the size of the ...\n",
              "\n",
              "[11314 rows x 1 columns]"
            ],
            "text/html": [
              "\n",
              "  <div id=\"df-0276147e-1f99-43b1-9232-9324a5904c13\">\n",
              "    <div class=\"colab-df-container\">\n",
              "      <div>\n",
              "<style scoped>\n",
              "    .dataframe tbody tr th:only-of-type {\n",
              "        vertical-align: middle;\n",
              "    }\n",
              "\n",
              "    .dataframe tbody tr th {\n",
              "        vertical-align: top;\n",
              "    }\n",
              "\n",
              "    .dataframe thead th {\n",
              "        text-align: right;\n",
              "    }\n",
              "</style>\n",
              "<table border=\"1\" class=\"dataframe\">\n",
              "  <thead>\n",
              "    <tr style=\"text-align: right;\">\n",
              "      <th></th>\n",
              "      <th>document</th>\n",
              "    </tr>\n",
              "  </thead>\n",
              "  <tbody>\n",
              "    <tr>\n",
              "      <th>0</th>\n",
              "      <td>Someone in Canada asked me to send him some pu...</td>\n",
              "    </tr>\n",
              "    <tr>\n",
              "      <th>1</th>\n",
              "      <td>\\n\\nI see . . . you're not running Ultrix!\\n\\n...</td>\n",
              "    </tr>\n",
              "    <tr>\n",
              "      <th>2</th>\n",
              "      <td>\\nFor the first Move incident (no bomb, severa...</td>\n",
              "    </tr>\n",
              "    <tr>\n",
              "      <th>3</th>\n",
              "      <td>Okay, I'm trying to install NCSA telnet on a c...</td>\n",
              "    </tr>\n",
              "    <tr>\n",
              "      <th>4</th>\n",
              "      <td>Hi everyone. I recently posted about how I rec...</td>\n",
              "    </tr>\n",
              "    <tr>\n",
              "      <th>...</th>\n",
              "      <td>...</td>\n",
              "    </tr>\n",
              "    <tr>\n",
              "      <th>11309</th>\n",
              "      <td>We have a minivas-2 and we want to record to a...</td>\n",
              "    </tr>\n",
              "    <tr>\n",
              "      <th>11310</th>\n",
              "      <td>Videonics Title maker System\\n================...</td>\n",
              "    </tr>\n",
              "    <tr>\n",
              "      <th>11311</th>\n",
              "      <td>\\n\\nAnas, of course ! The YAHUD needed blood f...</td>\n",
              "    </tr>\n",
              "    <tr>\n",
              "      <th>11312</th>\n",
              "      <td>From: push@media.mit.edu (Pushpinder Singh)\\nS...</td>\n",
              "    </tr>\n",
              "    <tr>\n",
              "      <th>11313</th>\n",
              "      <td>Does anyone has a table about the size of the ...</td>\n",
              "    </tr>\n",
              "  </tbody>\n",
              "</table>\n",
              "<p>11314 rows × 1 columns</p>\n",
              "</div>\n",
              "      <button class=\"colab-df-convert\" onclick=\"convertToInteractive('df-0276147e-1f99-43b1-9232-9324a5904c13')\"\n",
              "              title=\"Convert this dataframe to an interactive table.\"\n",
              "              style=\"display:none;\">\n",
              "        \n",
              "  <svg xmlns=\"http://www.w3.org/2000/svg\" height=\"24px\"viewBox=\"0 0 24 24\"\n",
              "       width=\"24px\">\n",
              "    <path d=\"M0 0h24v24H0V0z\" fill=\"none\"/>\n",
              "    <path d=\"M18.56 5.44l.94 2.06.94-2.06 2.06-.94-2.06-.94-.94-2.06-.94 2.06-2.06.94zm-11 1L8.5 8.5l.94-2.06 2.06-.94-2.06-.94L8.5 2.5l-.94 2.06-2.06.94zm10 10l.94 2.06.94-2.06 2.06-.94-2.06-.94-.94-2.06-.94 2.06-2.06.94z\"/><path d=\"M17.41 7.96l-1.37-1.37c-.4-.4-.92-.59-1.43-.59-.52 0-1.04.2-1.43.59L10.3 9.45l-7.72 7.72c-.78.78-.78 2.05 0 2.83L4 21.41c.39.39.9.59 1.41.59.51 0 1.02-.2 1.41-.59l7.78-7.78 2.81-2.81c.8-.78.8-2.07 0-2.86zM5.41 20L4 18.59l7.72-7.72 1.47 1.35L5.41 20z\"/>\n",
              "  </svg>\n",
              "      </button>\n",
              "      \n",
              "  <style>\n",
              "    .colab-df-container {\n",
              "      display:flex;\n",
              "      flex-wrap:wrap;\n",
              "      gap: 12px;\n",
              "    }\n",
              "\n",
              "    .colab-df-convert {\n",
              "      background-color: #E8F0FE;\n",
              "      border: none;\n",
              "      border-radius: 50%;\n",
              "      cursor: pointer;\n",
              "      display: none;\n",
              "      fill: #1967D2;\n",
              "      height: 32px;\n",
              "      padding: 0 0 0 0;\n",
              "      width: 32px;\n",
              "    }\n",
              "\n",
              "    .colab-df-convert:hover {\n",
              "      background-color: #E2EBFA;\n",
              "      box-shadow: 0px 1px 2px rgba(60, 64, 67, 0.3), 0px 1px 3px 1px rgba(60, 64, 67, 0.15);\n",
              "      fill: #174EA6;\n",
              "    }\n",
              "\n",
              "    [theme=dark] .colab-df-convert {\n",
              "      background-color: #3B4455;\n",
              "      fill: #D2E3FC;\n",
              "    }\n",
              "\n",
              "    [theme=dark] .colab-df-convert:hover {\n",
              "      background-color: #434B5C;\n",
              "      box-shadow: 0px 1px 3px 1px rgba(0, 0, 0, 0.15);\n",
              "      filter: drop-shadow(0px 1px 2px rgba(0, 0, 0, 0.3));\n",
              "      fill: #FFFFFF;\n",
              "    }\n",
              "  </style>\n",
              "\n",
              "      <script>\n",
              "        const buttonEl =\n",
              "          document.querySelector('#df-0276147e-1f99-43b1-9232-9324a5904c13 button.colab-df-convert');\n",
              "        buttonEl.style.display =\n",
              "          google.colab.kernel.accessAllowed ? 'block' : 'none';\n",
              "\n",
              "        async function convertToInteractive(key) {\n",
              "          const element = document.querySelector('#df-0276147e-1f99-43b1-9232-9324a5904c13');\n",
              "          const dataTable =\n",
              "            await google.colab.kernel.invokeFunction('convertToInteractive',\n",
              "                                                     [key], {});\n",
              "          if (!dataTable) return;\n",
              "\n",
              "          const docLinkHtml = 'Like what you see? Visit the ' +\n",
              "            '<a target=\"_blank\" href=https://colab.research.google.com/notebooks/data_table.ipynb>data table notebook</a>'\n",
              "            + ' to learn more about interactive tables.';\n",
              "          element.innerHTML = '';\n",
              "          dataTable['output_type'] = 'display_data';\n",
              "          await google.colab.output.renderOutput(dataTable, element);\n",
              "          const docLink = document.createElement('div');\n",
              "          docLink.innerHTML = docLinkHtml;\n",
              "          element.appendChild(docLink);\n",
              "        }\n",
              "      </script>\n",
              "    </div>\n",
              "  </div>\n",
              "  "
            ]
          },
          "metadata": {},
          "execution_count": 126
        }
      ]
    },
    {
      "cell_type": "code",
      "source": [
        "# 데이터셋에 결측값이 있는지 확인하기\n",
        "news_df.replace('', float('NaN'), inplace=True)\n",
        "print(news_df.isnull().values.any())"
      ],
      "metadata": {
        "colab": {
          "base_uri": "https://localhost:8080/"
        },
        "id": "Mqk-v82WiInw",
        "outputId": "7a227b27-e7c1-48de-a91b-c968eb2a5e33"
      },
      "execution_count": null,
      "outputs": [
        {
          "output_type": "stream",
          "name": "stdout",
          "text": [
            "True\n"
          ]
        }
      ]
    },
    {
      "cell_type": "code",
      "source": [
        "# 데이터셋의 결측값을 제거 후 데이터셋 총 개수\n",
        "news_df = news_df.dropna().reset_index(drop=True)\n",
        "print(f'필터링된 데이터셋 총 개수: {len(news_df)}')"
      ],
      "metadata": {
        "colab": {
          "base_uri": "https://localhost:8080/"
        },
        "id": "Jh7wsX1RiLeW",
        "outputId": "a2c4bd3b-9c98-433e-97d5-b060071df6a1"
      },
      "execution_count": null,
      "outputs": [
        {
          "output_type": "stream",
          "name": "stdout",
          "text": [
            "필터링된 데이터셋 총 개수: 11096\n"
          ]
        }
      ]
    },
    {
      "cell_type": "code",
      "source": [
        "news_df"
      ],
      "metadata": {
        "colab": {
          "base_uri": "https://localhost:8080/",
          "height": 423
        },
        "id": "0o-VuB26rUJi",
        "outputId": "60a561da-2b5d-4c88-c1c5-e77506b79bf2"
      },
      "execution_count": null,
      "outputs": [
        {
          "output_type": "execute_result",
          "data": {
            "text/plain": [
              "                                                document\n",
              "0      Someone in Canada asked me to send him some pu...\n",
              "1      \\n\\nI see . . . you're not running Ultrix!\\n\\n...\n",
              "2      \\nFor the first Move incident (no bomb, severa...\n",
              "3      Okay, I'm trying to install NCSA telnet on a c...\n",
              "4      Hi everyone. I recently posted about how I rec...\n",
              "...                                                  ...\n",
              "11091  We have a minivas-2 and we want to record to a...\n",
              "11092  Videonics Title maker System\\n================...\n",
              "11093  \\n\\nAnas, of course ! The YAHUD needed blood f...\n",
              "11094  From: push@media.mit.edu (Pushpinder Singh)\\nS...\n",
              "11095  Does anyone has a table about the size of the ...\n",
              "\n",
              "[11096 rows x 1 columns]"
            ],
            "text/html": [
              "\n",
              "  <div id=\"df-ddae488e-eeed-4911-bb8a-5c2bdda9f943\">\n",
              "    <div class=\"colab-df-container\">\n",
              "      <div>\n",
              "<style scoped>\n",
              "    .dataframe tbody tr th:only-of-type {\n",
              "        vertical-align: middle;\n",
              "    }\n",
              "\n",
              "    .dataframe tbody tr th {\n",
              "        vertical-align: top;\n",
              "    }\n",
              "\n",
              "    .dataframe thead th {\n",
              "        text-align: right;\n",
              "    }\n",
              "</style>\n",
              "<table border=\"1\" class=\"dataframe\">\n",
              "  <thead>\n",
              "    <tr style=\"text-align: right;\">\n",
              "      <th></th>\n",
              "      <th>document</th>\n",
              "    </tr>\n",
              "  </thead>\n",
              "  <tbody>\n",
              "    <tr>\n",
              "      <th>0</th>\n",
              "      <td>Someone in Canada asked me to send him some pu...</td>\n",
              "    </tr>\n",
              "    <tr>\n",
              "      <th>1</th>\n",
              "      <td>\\n\\nI see . . . you're not running Ultrix!\\n\\n...</td>\n",
              "    </tr>\n",
              "    <tr>\n",
              "      <th>2</th>\n",
              "      <td>\\nFor the first Move incident (no bomb, severa...</td>\n",
              "    </tr>\n",
              "    <tr>\n",
              "      <th>3</th>\n",
              "      <td>Okay, I'm trying to install NCSA telnet on a c...</td>\n",
              "    </tr>\n",
              "    <tr>\n",
              "      <th>4</th>\n",
              "      <td>Hi everyone. I recently posted about how I rec...</td>\n",
              "    </tr>\n",
              "    <tr>\n",
              "      <th>...</th>\n",
              "      <td>...</td>\n",
              "    </tr>\n",
              "    <tr>\n",
              "      <th>11091</th>\n",
              "      <td>We have a minivas-2 and we want to record to a...</td>\n",
              "    </tr>\n",
              "    <tr>\n",
              "      <th>11092</th>\n",
              "      <td>Videonics Title maker System\\n================...</td>\n",
              "    </tr>\n",
              "    <tr>\n",
              "      <th>11093</th>\n",
              "      <td>\\n\\nAnas, of course ! The YAHUD needed blood f...</td>\n",
              "    </tr>\n",
              "    <tr>\n",
              "      <th>11094</th>\n",
              "      <td>From: push@media.mit.edu (Pushpinder Singh)\\nS...</td>\n",
              "    </tr>\n",
              "    <tr>\n",
              "      <th>11095</th>\n",
              "      <td>Does anyone has a table about the size of the ...</td>\n",
              "    </tr>\n",
              "  </tbody>\n",
              "</table>\n",
              "<p>11096 rows × 1 columns</p>\n",
              "</div>\n",
              "      <button class=\"colab-df-convert\" onclick=\"convertToInteractive('df-ddae488e-eeed-4911-bb8a-5c2bdda9f943')\"\n",
              "              title=\"Convert this dataframe to an interactive table.\"\n",
              "              style=\"display:none;\">\n",
              "        \n",
              "  <svg xmlns=\"http://www.w3.org/2000/svg\" height=\"24px\"viewBox=\"0 0 24 24\"\n",
              "       width=\"24px\">\n",
              "    <path d=\"M0 0h24v24H0V0z\" fill=\"none\"/>\n",
              "    <path d=\"M18.56 5.44l.94 2.06.94-2.06 2.06-.94-2.06-.94-.94-2.06-.94 2.06-2.06.94zm-11 1L8.5 8.5l.94-2.06 2.06-.94-2.06-.94L8.5 2.5l-.94 2.06-2.06.94zm10 10l.94 2.06.94-2.06 2.06-.94-2.06-.94-.94-2.06-.94 2.06-2.06.94z\"/><path d=\"M17.41 7.96l-1.37-1.37c-.4-.4-.92-.59-1.43-.59-.52 0-1.04.2-1.43.59L10.3 9.45l-7.72 7.72c-.78.78-.78 2.05 0 2.83L4 21.41c.39.39.9.59 1.41.59.51 0 1.02-.2 1.41-.59l7.78-7.78 2.81-2.81c.8-.78.8-2.07 0-2.86zM5.41 20L4 18.59l7.72-7.72 1.47 1.35L5.41 20z\"/>\n",
              "  </svg>\n",
              "      </button>\n",
              "      \n",
              "  <style>\n",
              "    .colab-df-container {\n",
              "      display:flex;\n",
              "      flex-wrap:wrap;\n",
              "      gap: 12px;\n",
              "    }\n",
              "\n",
              "    .colab-df-convert {\n",
              "      background-color: #E8F0FE;\n",
              "      border: none;\n",
              "      border-radius: 50%;\n",
              "      cursor: pointer;\n",
              "      display: none;\n",
              "      fill: #1967D2;\n",
              "      height: 32px;\n",
              "      padding: 0 0 0 0;\n",
              "      width: 32px;\n",
              "    }\n",
              "\n",
              "    .colab-df-convert:hover {\n",
              "      background-color: #E2EBFA;\n",
              "      box-shadow: 0px 1px 2px rgba(60, 64, 67, 0.3), 0px 1px 3px 1px rgba(60, 64, 67, 0.15);\n",
              "      fill: #174EA6;\n",
              "    }\n",
              "\n",
              "    [theme=dark] .colab-df-convert {\n",
              "      background-color: #3B4455;\n",
              "      fill: #D2E3FC;\n",
              "    }\n",
              "\n",
              "    [theme=dark] .colab-df-convert:hover {\n",
              "      background-color: #434B5C;\n",
              "      box-shadow: 0px 1px 3px 1px rgba(0, 0, 0, 0.15);\n",
              "      filter: drop-shadow(0px 1px 2px rgba(0, 0, 0, 0.3));\n",
              "      fill: #FFFFFF;\n",
              "    }\n",
              "  </style>\n",
              "\n",
              "      <script>\n",
              "        const buttonEl =\n",
              "          document.querySelector('#df-ddae488e-eeed-4911-bb8a-5c2bdda9f943 button.colab-df-convert');\n",
              "        buttonEl.style.display =\n",
              "          google.colab.kernel.accessAllowed ? 'block' : 'none';\n",
              "\n",
              "        async function convertToInteractive(key) {\n",
              "          const element = document.querySelector('#df-ddae488e-eeed-4911-bb8a-5c2bdda9f943');\n",
              "          const dataTable =\n",
              "            await google.colab.kernel.invokeFunction('convertToInteractive',\n",
              "                                                     [key], {});\n",
              "          if (!dataTable) return;\n",
              "\n",
              "          const docLinkHtml = 'Like what you see? Visit the ' +\n",
              "            '<a target=\"_blank\" href=https://colab.research.google.com/notebooks/data_table.ipynb>data table notebook</a>'\n",
              "            + ' to learn more about interactive tables.';\n",
              "          element.innerHTML = '';\n",
              "          dataTable['output_type'] = 'display_data';\n",
              "          await google.colab.output.renderOutput(dataTable, element);\n",
              "          const docLink = document.createElement('div');\n",
              "          docLink.innerHTML = docLinkHtml;\n",
              "          element.appendChild(docLink);\n",
              "        }\n",
              "      </script>\n",
              "    </div>\n",
              "  </div>\n",
              "  "
            ]
          },
          "metadata": {},
          "execution_count": 129
        }
      ]
    },
    {
      "cell_type": "code",
      "source": [
        "# 열을 기준으로 중복된 데이터를 제거\n",
        "processed_news_df = news_df.drop_duplicates(['document']).reset_index(drop=True)\n",
        "processed_news_df"
      ],
      "metadata": {
        "colab": {
          "base_uri": "https://localhost:8080/",
          "height": 423
        },
        "id": "5jLfoDV3iN42",
        "outputId": "0bc7f614-6fd0-4c74-fcb9-944705376796"
      },
      "execution_count": null,
      "outputs": [
        {
          "output_type": "execute_result",
          "data": {
            "text/plain": [
              "                                                document\n",
              "0      Someone in Canada asked me to send him some pu...\n",
              "1      \\n\\nI see . . . you're not running Ultrix!\\n\\n...\n",
              "2      \\nFor the first Move incident (no bomb, severa...\n",
              "3      Okay, I'm trying to install NCSA telnet on a c...\n",
              "4      Hi everyone. I recently posted about how I rec...\n",
              "...                                                  ...\n",
              "10988  We have a minivas-2 and we want to record to a...\n",
              "10989  Videonics Title maker System\\n================...\n",
              "10990  \\n\\nAnas, of course ! The YAHUD needed blood f...\n",
              "10991  From: push@media.mit.edu (Pushpinder Singh)\\nS...\n",
              "10992  Does anyone has a table about the size of the ...\n",
              "\n",
              "[10993 rows x 1 columns]"
            ],
            "text/html": [
              "\n",
              "  <div id=\"df-50835107-5437-40f6-8d2f-8beb75ae7a3b\">\n",
              "    <div class=\"colab-df-container\">\n",
              "      <div>\n",
              "<style scoped>\n",
              "    .dataframe tbody tr th:only-of-type {\n",
              "        vertical-align: middle;\n",
              "    }\n",
              "\n",
              "    .dataframe tbody tr th {\n",
              "        vertical-align: top;\n",
              "    }\n",
              "\n",
              "    .dataframe thead th {\n",
              "        text-align: right;\n",
              "    }\n",
              "</style>\n",
              "<table border=\"1\" class=\"dataframe\">\n",
              "  <thead>\n",
              "    <tr style=\"text-align: right;\">\n",
              "      <th></th>\n",
              "      <th>document</th>\n",
              "    </tr>\n",
              "  </thead>\n",
              "  <tbody>\n",
              "    <tr>\n",
              "      <th>0</th>\n",
              "      <td>Someone in Canada asked me to send him some pu...</td>\n",
              "    </tr>\n",
              "    <tr>\n",
              "      <th>1</th>\n",
              "      <td>\\n\\nI see . . . you're not running Ultrix!\\n\\n...</td>\n",
              "    </tr>\n",
              "    <tr>\n",
              "      <th>2</th>\n",
              "      <td>\\nFor the first Move incident (no bomb, severa...</td>\n",
              "    </tr>\n",
              "    <tr>\n",
              "      <th>3</th>\n",
              "      <td>Okay, I'm trying to install NCSA telnet on a c...</td>\n",
              "    </tr>\n",
              "    <tr>\n",
              "      <th>4</th>\n",
              "      <td>Hi everyone. I recently posted about how I rec...</td>\n",
              "    </tr>\n",
              "    <tr>\n",
              "      <th>...</th>\n",
              "      <td>...</td>\n",
              "    </tr>\n",
              "    <tr>\n",
              "      <th>10988</th>\n",
              "      <td>We have a minivas-2 and we want to record to a...</td>\n",
              "    </tr>\n",
              "    <tr>\n",
              "      <th>10989</th>\n",
              "      <td>Videonics Title maker System\\n================...</td>\n",
              "    </tr>\n",
              "    <tr>\n",
              "      <th>10990</th>\n",
              "      <td>\\n\\nAnas, of course ! The YAHUD needed blood f...</td>\n",
              "    </tr>\n",
              "    <tr>\n",
              "      <th>10991</th>\n",
              "      <td>From: push@media.mit.edu (Pushpinder Singh)\\nS...</td>\n",
              "    </tr>\n",
              "    <tr>\n",
              "      <th>10992</th>\n",
              "      <td>Does anyone has a table about the size of the ...</td>\n",
              "    </tr>\n",
              "  </tbody>\n",
              "</table>\n",
              "<p>10993 rows × 1 columns</p>\n",
              "</div>\n",
              "      <button class=\"colab-df-convert\" onclick=\"convertToInteractive('df-50835107-5437-40f6-8d2f-8beb75ae7a3b')\"\n",
              "              title=\"Convert this dataframe to an interactive table.\"\n",
              "              style=\"display:none;\">\n",
              "        \n",
              "  <svg xmlns=\"http://www.w3.org/2000/svg\" height=\"24px\"viewBox=\"0 0 24 24\"\n",
              "       width=\"24px\">\n",
              "    <path d=\"M0 0h24v24H0V0z\" fill=\"none\"/>\n",
              "    <path d=\"M18.56 5.44l.94 2.06.94-2.06 2.06-.94-2.06-.94-.94-2.06-.94 2.06-2.06.94zm-11 1L8.5 8.5l.94-2.06 2.06-.94-2.06-.94L8.5 2.5l-.94 2.06-2.06.94zm10 10l.94 2.06.94-2.06 2.06-.94-2.06-.94-.94-2.06-.94 2.06-2.06.94z\"/><path d=\"M17.41 7.96l-1.37-1.37c-.4-.4-.92-.59-1.43-.59-.52 0-1.04.2-1.43.59L10.3 9.45l-7.72 7.72c-.78.78-.78 2.05 0 2.83L4 21.41c.39.39.9.59 1.41.59.51 0 1.02-.2 1.41-.59l7.78-7.78 2.81-2.81c.8-.78.8-2.07 0-2.86zM5.41 20L4 18.59l7.72-7.72 1.47 1.35L5.41 20z\"/>\n",
              "  </svg>\n",
              "      </button>\n",
              "      \n",
              "  <style>\n",
              "    .colab-df-container {\n",
              "      display:flex;\n",
              "      flex-wrap:wrap;\n",
              "      gap: 12px;\n",
              "    }\n",
              "\n",
              "    .colab-df-convert {\n",
              "      background-color: #E8F0FE;\n",
              "      border: none;\n",
              "      border-radius: 50%;\n",
              "      cursor: pointer;\n",
              "      display: none;\n",
              "      fill: #1967D2;\n",
              "      height: 32px;\n",
              "      padding: 0 0 0 0;\n",
              "      width: 32px;\n",
              "    }\n",
              "\n",
              "    .colab-df-convert:hover {\n",
              "      background-color: #E2EBFA;\n",
              "      box-shadow: 0px 1px 2px rgba(60, 64, 67, 0.3), 0px 1px 3px 1px rgba(60, 64, 67, 0.15);\n",
              "      fill: #174EA6;\n",
              "    }\n",
              "\n",
              "    [theme=dark] .colab-df-convert {\n",
              "      background-color: #3B4455;\n",
              "      fill: #D2E3FC;\n",
              "    }\n",
              "\n",
              "    [theme=dark] .colab-df-convert:hover {\n",
              "      background-color: #434B5C;\n",
              "      box-shadow: 0px 1px 3px 1px rgba(0, 0, 0, 0.15);\n",
              "      filter: drop-shadow(0px 1px 2px rgba(0, 0, 0, 0.3));\n",
              "      fill: #FFFFFF;\n",
              "    }\n",
              "  </style>\n",
              "\n",
              "      <script>\n",
              "        const buttonEl =\n",
              "          document.querySelector('#df-50835107-5437-40f6-8d2f-8beb75ae7a3b button.colab-df-convert');\n",
              "        buttonEl.style.display =\n",
              "          google.colab.kernel.accessAllowed ? 'block' : 'none';\n",
              "\n",
              "        async function convertToInteractive(key) {\n",
              "          const element = document.querySelector('#df-50835107-5437-40f6-8d2f-8beb75ae7a3b');\n",
              "          const dataTable =\n",
              "            await google.colab.kernel.invokeFunction('convertToInteractive',\n",
              "                                                     [key], {});\n",
              "          if (!dataTable) return;\n",
              "\n",
              "          const docLinkHtml = 'Like what you see? Visit the ' +\n",
              "            '<a target=\"_blank\" href=https://colab.research.google.com/notebooks/data_table.ipynb>data table notebook</a>'\n",
              "            + ' to learn more about interactive tables.';\n",
              "          element.innerHTML = '';\n",
              "          dataTable['output_type'] = 'display_data';\n",
              "          await google.colab.output.renderOutput(dataTable, element);\n",
              "          const docLink = document.createElement('div');\n",
              "          docLink.innerHTML = docLinkHtml;\n",
              "          element.appendChild(docLink);\n",
              "        }\n",
              "      </script>\n",
              "    </div>\n",
              "  </div>\n",
              "  "
            ]
          },
          "metadata": {},
          "execution_count": 130
        }
      ]
    },
    {
      "cell_type": "code",
      "source": [
        "# 데이터셋에 특수 문자를 제거\n",
        "processed_news_df['document'] = processed_news_df['document'].str.replace('[^a-zA-Z]', ' ')\n",
        "processed_news_df"
      ],
      "metadata": {
        "colab": {
          "base_uri": "https://localhost:8080/",
          "height": 460
        },
        "id": "jkDpWpYsiQYu",
        "outputId": "fcdb9557-7710-4a73-84dd-15a213aeec81"
      },
      "execution_count": null,
      "outputs": [
        {
          "output_type": "stream",
          "name": "stderr",
          "text": [
            "<ipython-input-131-767603303ad8>:2: FutureWarning: The default value of regex will change from True to False in a future version.\n",
            "  processed_news_df['document'] = processed_news_df['document'].str.replace('[^a-zA-Z]', ' ')\n"
          ]
        },
        {
          "output_type": "execute_result",
          "data": {
            "text/plain": [
              "                                                document\n",
              "0      Someone in Canada asked me to send him some pu...\n",
              "1        I see       you re not running Ultrix       ...\n",
              "2       For the first Move incident  no bomb  several...\n",
              "3      Okay  I m trying to install NCSA telnet on a c...\n",
              "4      Hi everyone  I recently posted about how I rec...\n",
              "...                                                  ...\n",
              "10988  We have a minivas   and we want to record to a...\n",
              "10989  Videonics Title maker System                  ...\n",
              "10990    Anas  of course   The YAHUD needed blood for...\n",
              "10991  From  push media mit edu  Pushpinder Singh  Su...\n",
              "10992  Does anyone has a table about the size of the ...\n",
              "\n",
              "[10993 rows x 1 columns]"
            ],
            "text/html": [
              "\n",
              "  <div id=\"df-23d195c0-a1dc-4064-9bbb-eaf2b79e97ad\">\n",
              "    <div class=\"colab-df-container\">\n",
              "      <div>\n",
              "<style scoped>\n",
              "    .dataframe tbody tr th:only-of-type {\n",
              "        vertical-align: middle;\n",
              "    }\n",
              "\n",
              "    .dataframe tbody tr th {\n",
              "        vertical-align: top;\n",
              "    }\n",
              "\n",
              "    .dataframe thead th {\n",
              "        text-align: right;\n",
              "    }\n",
              "</style>\n",
              "<table border=\"1\" class=\"dataframe\">\n",
              "  <thead>\n",
              "    <tr style=\"text-align: right;\">\n",
              "      <th></th>\n",
              "      <th>document</th>\n",
              "    </tr>\n",
              "  </thead>\n",
              "  <tbody>\n",
              "    <tr>\n",
              "      <th>0</th>\n",
              "      <td>Someone in Canada asked me to send him some pu...</td>\n",
              "    </tr>\n",
              "    <tr>\n",
              "      <th>1</th>\n",
              "      <td>I see       you re not running Ultrix       ...</td>\n",
              "    </tr>\n",
              "    <tr>\n",
              "      <th>2</th>\n",
              "      <td>For the first Move incident  no bomb  several...</td>\n",
              "    </tr>\n",
              "    <tr>\n",
              "      <th>3</th>\n",
              "      <td>Okay  I m trying to install NCSA telnet on a c...</td>\n",
              "    </tr>\n",
              "    <tr>\n",
              "      <th>4</th>\n",
              "      <td>Hi everyone  I recently posted about how I rec...</td>\n",
              "    </tr>\n",
              "    <tr>\n",
              "      <th>...</th>\n",
              "      <td>...</td>\n",
              "    </tr>\n",
              "    <tr>\n",
              "      <th>10988</th>\n",
              "      <td>We have a minivas   and we want to record to a...</td>\n",
              "    </tr>\n",
              "    <tr>\n",
              "      <th>10989</th>\n",
              "      <td>Videonics Title maker System                  ...</td>\n",
              "    </tr>\n",
              "    <tr>\n",
              "      <th>10990</th>\n",
              "      <td>Anas  of course   The YAHUD needed blood for...</td>\n",
              "    </tr>\n",
              "    <tr>\n",
              "      <th>10991</th>\n",
              "      <td>From  push media mit edu  Pushpinder Singh  Su...</td>\n",
              "    </tr>\n",
              "    <tr>\n",
              "      <th>10992</th>\n",
              "      <td>Does anyone has a table about the size of the ...</td>\n",
              "    </tr>\n",
              "  </tbody>\n",
              "</table>\n",
              "<p>10993 rows × 1 columns</p>\n",
              "</div>\n",
              "      <button class=\"colab-df-convert\" onclick=\"convertToInteractive('df-23d195c0-a1dc-4064-9bbb-eaf2b79e97ad')\"\n",
              "              title=\"Convert this dataframe to an interactive table.\"\n",
              "              style=\"display:none;\">\n",
              "        \n",
              "  <svg xmlns=\"http://www.w3.org/2000/svg\" height=\"24px\"viewBox=\"0 0 24 24\"\n",
              "       width=\"24px\">\n",
              "    <path d=\"M0 0h24v24H0V0z\" fill=\"none\"/>\n",
              "    <path d=\"M18.56 5.44l.94 2.06.94-2.06 2.06-.94-2.06-.94-.94-2.06-.94 2.06-2.06.94zm-11 1L8.5 8.5l.94-2.06 2.06-.94-2.06-.94L8.5 2.5l-.94 2.06-2.06.94zm10 10l.94 2.06.94-2.06 2.06-.94-2.06-.94-.94-2.06-.94 2.06-2.06.94z\"/><path d=\"M17.41 7.96l-1.37-1.37c-.4-.4-.92-.59-1.43-.59-.52 0-1.04.2-1.43.59L10.3 9.45l-7.72 7.72c-.78.78-.78 2.05 0 2.83L4 21.41c.39.39.9.59 1.41.59.51 0 1.02-.2 1.41-.59l7.78-7.78 2.81-2.81c.8-.78.8-2.07 0-2.86zM5.41 20L4 18.59l7.72-7.72 1.47 1.35L5.41 20z\"/>\n",
              "  </svg>\n",
              "      </button>\n",
              "      \n",
              "  <style>\n",
              "    .colab-df-container {\n",
              "      display:flex;\n",
              "      flex-wrap:wrap;\n",
              "      gap: 12px;\n",
              "    }\n",
              "\n",
              "    .colab-df-convert {\n",
              "      background-color: #E8F0FE;\n",
              "      border: none;\n",
              "      border-radius: 50%;\n",
              "      cursor: pointer;\n",
              "      display: none;\n",
              "      fill: #1967D2;\n",
              "      height: 32px;\n",
              "      padding: 0 0 0 0;\n",
              "      width: 32px;\n",
              "    }\n",
              "\n",
              "    .colab-df-convert:hover {\n",
              "      background-color: #E2EBFA;\n",
              "      box-shadow: 0px 1px 2px rgba(60, 64, 67, 0.3), 0px 1px 3px 1px rgba(60, 64, 67, 0.15);\n",
              "      fill: #174EA6;\n",
              "    }\n",
              "\n",
              "    [theme=dark] .colab-df-convert {\n",
              "      background-color: #3B4455;\n",
              "      fill: #D2E3FC;\n",
              "    }\n",
              "\n",
              "    [theme=dark] .colab-df-convert:hover {\n",
              "      background-color: #434B5C;\n",
              "      box-shadow: 0px 1px 3px 1px rgba(0, 0, 0, 0.15);\n",
              "      filter: drop-shadow(0px 1px 2px rgba(0, 0, 0, 0.3));\n",
              "      fill: #FFFFFF;\n",
              "    }\n",
              "  </style>\n",
              "\n",
              "      <script>\n",
              "        const buttonEl =\n",
              "          document.querySelector('#df-23d195c0-a1dc-4064-9bbb-eaf2b79e97ad button.colab-df-convert');\n",
              "        buttonEl.style.display =\n",
              "          google.colab.kernel.accessAllowed ? 'block' : 'none';\n",
              "\n",
              "        async function convertToInteractive(key) {\n",
              "          const element = document.querySelector('#df-23d195c0-a1dc-4064-9bbb-eaf2b79e97ad');\n",
              "          const dataTable =\n",
              "            await google.colab.kernel.invokeFunction('convertToInteractive',\n",
              "                                                     [key], {});\n",
              "          if (!dataTable) return;\n",
              "\n",
              "          const docLinkHtml = 'Like what you see? Visit the ' +\n",
              "            '<a target=\"_blank\" href=https://colab.research.google.com/notebooks/data_table.ipynb>data table notebook</a>'\n",
              "            + ' to learn more about interactive tables.';\n",
              "          element.innerHTML = '';\n",
              "          dataTable['output_type'] = 'display_data';\n",
              "          await google.colab.output.renderOutput(dataTable, element);\n",
              "          const docLink = document.createElement('div');\n",
              "          docLink.innerHTML = docLinkHtml;\n",
              "          element.appendChild(docLink);\n",
              "        }\n",
              "      </script>\n",
              "    </div>\n",
              "  </div>\n",
              "  "
            ]
          },
          "metadata": {},
          "execution_count": 131
        }
      ]
    },
    {
      "cell_type": "code",
      "source": [
        "# 데이터셋에 길이가 너무 짧은 단어를 제거(단어의 길이가 2이하)\n",
        "processed_news_df['document'] = processed_news_df['document'].apply(lambda x: ' '.join([token for token in x.split() if len(token) > 2]))\n",
        "processed_news_df"
      ],
      "metadata": {
        "colab": {
          "base_uri": "https://localhost:8080/",
          "height": 423
        },
        "id": "mO5sAZOyieQS",
        "outputId": "58c41988-c964-4f80-c6b9-f806c77c5255"
      },
      "execution_count": null,
      "outputs": [
        {
          "output_type": "execute_result",
          "data": {
            "text/plain": [
              "                                                document\n",
              "0      Someone Canada asked send him some public doma...\n",
              "1                       see you not running Ultrix Steve\n",
              "2      For the first Move incident bomb several membe...\n",
              "3      Okay trying install NCSA telnet couple okay wh...\n",
              "4      everyone recently posted about how received ba...\n",
              "...                                                  ...\n",
              "10988  have minivas and want record Abekas have most ...\n",
              "10989  Videonics Title maker System about monthes old...\n",
              "10990  Anas course The YAHUD needed blood for the mat...\n",
              "10991  From push media mit edu Pushpinder Singh Subje...\n",
              "10992  Does anyone has table about the size the wire ...\n",
              "\n",
              "[10993 rows x 1 columns]"
            ],
            "text/html": [
              "\n",
              "  <div id=\"df-d9310f0c-7937-4c2a-881f-7fd54858e2cc\">\n",
              "    <div class=\"colab-df-container\">\n",
              "      <div>\n",
              "<style scoped>\n",
              "    .dataframe tbody tr th:only-of-type {\n",
              "        vertical-align: middle;\n",
              "    }\n",
              "\n",
              "    .dataframe tbody tr th {\n",
              "        vertical-align: top;\n",
              "    }\n",
              "\n",
              "    .dataframe thead th {\n",
              "        text-align: right;\n",
              "    }\n",
              "</style>\n",
              "<table border=\"1\" class=\"dataframe\">\n",
              "  <thead>\n",
              "    <tr style=\"text-align: right;\">\n",
              "      <th></th>\n",
              "      <th>document</th>\n",
              "    </tr>\n",
              "  </thead>\n",
              "  <tbody>\n",
              "    <tr>\n",
              "      <th>0</th>\n",
              "      <td>Someone Canada asked send him some public doma...</td>\n",
              "    </tr>\n",
              "    <tr>\n",
              "      <th>1</th>\n",
              "      <td>see you not running Ultrix Steve</td>\n",
              "    </tr>\n",
              "    <tr>\n",
              "      <th>2</th>\n",
              "      <td>For the first Move incident bomb several membe...</td>\n",
              "    </tr>\n",
              "    <tr>\n",
              "      <th>3</th>\n",
              "      <td>Okay trying install NCSA telnet couple okay wh...</td>\n",
              "    </tr>\n",
              "    <tr>\n",
              "      <th>4</th>\n",
              "      <td>everyone recently posted about how received ba...</td>\n",
              "    </tr>\n",
              "    <tr>\n",
              "      <th>...</th>\n",
              "      <td>...</td>\n",
              "    </tr>\n",
              "    <tr>\n",
              "      <th>10988</th>\n",
              "      <td>have minivas and want record Abekas have most ...</td>\n",
              "    </tr>\n",
              "    <tr>\n",
              "      <th>10989</th>\n",
              "      <td>Videonics Title maker System about monthes old...</td>\n",
              "    </tr>\n",
              "    <tr>\n",
              "      <th>10990</th>\n",
              "      <td>Anas course The YAHUD needed blood for the mat...</td>\n",
              "    </tr>\n",
              "    <tr>\n",
              "      <th>10991</th>\n",
              "      <td>From push media mit edu Pushpinder Singh Subje...</td>\n",
              "    </tr>\n",
              "    <tr>\n",
              "      <th>10992</th>\n",
              "      <td>Does anyone has table about the size the wire ...</td>\n",
              "    </tr>\n",
              "  </tbody>\n",
              "</table>\n",
              "<p>10993 rows × 1 columns</p>\n",
              "</div>\n",
              "      <button class=\"colab-df-convert\" onclick=\"convertToInteractive('df-d9310f0c-7937-4c2a-881f-7fd54858e2cc')\"\n",
              "              title=\"Convert this dataframe to an interactive table.\"\n",
              "              style=\"display:none;\">\n",
              "        \n",
              "  <svg xmlns=\"http://www.w3.org/2000/svg\" height=\"24px\"viewBox=\"0 0 24 24\"\n",
              "       width=\"24px\">\n",
              "    <path d=\"M0 0h24v24H0V0z\" fill=\"none\"/>\n",
              "    <path d=\"M18.56 5.44l.94 2.06.94-2.06 2.06-.94-2.06-.94-.94-2.06-.94 2.06-2.06.94zm-11 1L8.5 8.5l.94-2.06 2.06-.94-2.06-.94L8.5 2.5l-.94 2.06-2.06.94zm10 10l.94 2.06.94-2.06 2.06-.94-2.06-.94-.94-2.06-.94 2.06-2.06.94z\"/><path d=\"M17.41 7.96l-1.37-1.37c-.4-.4-.92-.59-1.43-.59-.52 0-1.04.2-1.43.59L10.3 9.45l-7.72 7.72c-.78.78-.78 2.05 0 2.83L4 21.41c.39.39.9.59 1.41.59.51 0 1.02-.2 1.41-.59l7.78-7.78 2.81-2.81c.8-.78.8-2.07 0-2.86zM5.41 20L4 18.59l7.72-7.72 1.47 1.35L5.41 20z\"/>\n",
              "  </svg>\n",
              "      </button>\n",
              "      \n",
              "  <style>\n",
              "    .colab-df-container {\n",
              "      display:flex;\n",
              "      flex-wrap:wrap;\n",
              "      gap: 12px;\n",
              "    }\n",
              "\n",
              "    .colab-df-convert {\n",
              "      background-color: #E8F0FE;\n",
              "      border: none;\n",
              "      border-radius: 50%;\n",
              "      cursor: pointer;\n",
              "      display: none;\n",
              "      fill: #1967D2;\n",
              "      height: 32px;\n",
              "      padding: 0 0 0 0;\n",
              "      width: 32px;\n",
              "    }\n",
              "\n",
              "    .colab-df-convert:hover {\n",
              "      background-color: #E2EBFA;\n",
              "      box-shadow: 0px 1px 2px rgba(60, 64, 67, 0.3), 0px 1px 3px 1px rgba(60, 64, 67, 0.15);\n",
              "      fill: #174EA6;\n",
              "    }\n",
              "\n",
              "    [theme=dark] .colab-df-convert {\n",
              "      background-color: #3B4455;\n",
              "      fill: #D2E3FC;\n",
              "    }\n",
              "\n",
              "    [theme=dark] .colab-df-convert:hover {\n",
              "      background-color: #434B5C;\n",
              "      box-shadow: 0px 1px 3px 1px rgba(0, 0, 0, 0.15);\n",
              "      filter: drop-shadow(0px 1px 2px rgba(0, 0, 0, 0.3));\n",
              "      fill: #FFFFFF;\n",
              "    }\n",
              "  </style>\n",
              "\n",
              "      <script>\n",
              "        const buttonEl =\n",
              "          document.querySelector('#df-d9310f0c-7937-4c2a-881f-7fd54858e2cc button.colab-df-convert');\n",
              "        buttonEl.style.display =\n",
              "          google.colab.kernel.accessAllowed ? 'block' : 'none';\n",
              "\n",
              "        async function convertToInteractive(key) {\n",
              "          const element = document.querySelector('#df-d9310f0c-7937-4c2a-881f-7fd54858e2cc');\n",
              "          const dataTable =\n",
              "            await google.colab.kernel.invokeFunction('convertToInteractive',\n",
              "                                                     [key], {});\n",
              "          if (!dataTable) return;\n",
              "\n",
              "          const docLinkHtml = 'Like what you see? Visit the ' +\n",
              "            '<a target=\"_blank\" href=https://colab.research.google.com/notebooks/data_table.ipynb>data table notebook</a>'\n",
              "            + ' to learn more about interactive tables.';\n",
              "          element.innerHTML = '';\n",
              "          dataTable['output_type'] = 'display_data';\n",
              "          await google.colab.output.renderOutput(dataTable, element);\n",
              "          const docLink = document.createElement('div');\n",
              "          docLink.innerHTML = docLinkHtml;\n",
              "          element.appendChild(docLink);\n",
              "        }\n",
              "      </script>\n",
              "    </div>\n",
              "  </div>\n",
              "  "
            ]
          },
          "metadata": {},
          "execution_count": 132
        }
      ]
    },
    {
      "cell_type": "code",
      "source": [
        "# 전체 길이가 200 이하이거나 전체 단어 개수가 5개 이하인 데이터를 필터링\n",
        "processed_news_df = processed_news_df[processed_news_df.document.apply(lambda x: len(str(x)) > 200 and len(str(x).split()) > 5)].reset_index(drop=True)\n",
        "processed_news_df"
      ],
      "metadata": {
        "colab": {
          "base_uri": "https://localhost:8080/",
          "height": 423
        },
        "id": "hTRJEAIVijIN",
        "outputId": "c1dc111f-6026-4b50-b162-38f22de6e1f1"
      },
      "execution_count": null,
      "outputs": [
        {
          "output_type": "execute_result",
          "data": {
            "text/plain": [
              "                                               document\n",
              "0     Okay trying install NCSA telnet couple okay wh...\n",
              "1     everyone recently posted about how received ba...\n",
              "2     one should EVER rely just magazine determine w...\n",
              "3     Rick Anderson replied letter with article ELp ...\n",
              "4     Description External Tank option for SSF redes...\n",
              "...                                                 ...\n",
              "8194  loved Dan Kelly was USA when first got hooked ...\n",
              "8195  have minivas and want record Abekas have most ...\n",
              "8196  Videonics Title maker System about monthes old...\n",
              "8197  Anas course The YAHUD needed blood for the mat...\n",
              "8198  From push media mit edu Pushpinder Singh Subje...\n",
              "\n",
              "[8199 rows x 1 columns]"
            ],
            "text/html": [
              "\n",
              "  <div id=\"df-d104fcae-737c-4d9f-8b6c-a54459b7f679\">\n",
              "    <div class=\"colab-df-container\">\n",
              "      <div>\n",
              "<style scoped>\n",
              "    .dataframe tbody tr th:only-of-type {\n",
              "        vertical-align: middle;\n",
              "    }\n",
              "\n",
              "    .dataframe tbody tr th {\n",
              "        vertical-align: top;\n",
              "    }\n",
              "\n",
              "    .dataframe thead th {\n",
              "        text-align: right;\n",
              "    }\n",
              "</style>\n",
              "<table border=\"1\" class=\"dataframe\">\n",
              "  <thead>\n",
              "    <tr style=\"text-align: right;\">\n",
              "      <th></th>\n",
              "      <th>document</th>\n",
              "    </tr>\n",
              "  </thead>\n",
              "  <tbody>\n",
              "    <tr>\n",
              "      <th>0</th>\n",
              "      <td>Okay trying install NCSA telnet couple okay wh...</td>\n",
              "    </tr>\n",
              "    <tr>\n",
              "      <th>1</th>\n",
              "      <td>everyone recently posted about how received ba...</td>\n",
              "    </tr>\n",
              "    <tr>\n",
              "      <th>2</th>\n",
              "      <td>one should EVER rely just magazine determine w...</td>\n",
              "    </tr>\n",
              "    <tr>\n",
              "      <th>3</th>\n",
              "      <td>Rick Anderson replied letter with article ELp ...</td>\n",
              "    </tr>\n",
              "    <tr>\n",
              "      <th>4</th>\n",
              "      <td>Description External Tank option for SSF redes...</td>\n",
              "    </tr>\n",
              "    <tr>\n",
              "      <th>...</th>\n",
              "      <td>...</td>\n",
              "    </tr>\n",
              "    <tr>\n",
              "      <th>8194</th>\n",
              "      <td>loved Dan Kelly was USA when first got hooked ...</td>\n",
              "    </tr>\n",
              "    <tr>\n",
              "      <th>8195</th>\n",
              "      <td>have minivas and want record Abekas have most ...</td>\n",
              "    </tr>\n",
              "    <tr>\n",
              "      <th>8196</th>\n",
              "      <td>Videonics Title maker System about monthes old...</td>\n",
              "    </tr>\n",
              "    <tr>\n",
              "      <th>8197</th>\n",
              "      <td>Anas course The YAHUD needed blood for the mat...</td>\n",
              "    </tr>\n",
              "    <tr>\n",
              "      <th>8198</th>\n",
              "      <td>From push media mit edu Pushpinder Singh Subje...</td>\n",
              "    </tr>\n",
              "  </tbody>\n",
              "</table>\n",
              "<p>8199 rows × 1 columns</p>\n",
              "</div>\n",
              "      <button class=\"colab-df-convert\" onclick=\"convertToInteractive('df-d104fcae-737c-4d9f-8b6c-a54459b7f679')\"\n",
              "              title=\"Convert this dataframe to an interactive table.\"\n",
              "              style=\"display:none;\">\n",
              "        \n",
              "  <svg xmlns=\"http://www.w3.org/2000/svg\" height=\"24px\"viewBox=\"0 0 24 24\"\n",
              "       width=\"24px\">\n",
              "    <path d=\"M0 0h24v24H0V0z\" fill=\"none\"/>\n",
              "    <path d=\"M18.56 5.44l.94 2.06.94-2.06 2.06-.94-2.06-.94-.94-2.06-.94 2.06-2.06.94zm-11 1L8.5 8.5l.94-2.06 2.06-.94-2.06-.94L8.5 2.5l-.94 2.06-2.06.94zm10 10l.94 2.06.94-2.06 2.06-.94-2.06-.94-.94-2.06-.94 2.06-2.06.94z\"/><path d=\"M17.41 7.96l-1.37-1.37c-.4-.4-.92-.59-1.43-.59-.52 0-1.04.2-1.43.59L10.3 9.45l-7.72 7.72c-.78.78-.78 2.05 0 2.83L4 21.41c.39.39.9.59 1.41.59.51 0 1.02-.2 1.41-.59l7.78-7.78 2.81-2.81c.8-.78.8-2.07 0-2.86zM5.41 20L4 18.59l7.72-7.72 1.47 1.35L5.41 20z\"/>\n",
              "  </svg>\n",
              "      </button>\n",
              "      \n",
              "  <style>\n",
              "    .colab-df-container {\n",
              "      display:flex;\n",
              "      flex-wrap:wrap;\n",
              "      gap: 12px;\n",
              "    }\n",
              "\n",
              "    .colab-df-convert {\n",
              "      background-color: #E8F0FE;\n",
              "      border: none;\n",
              "      border-radius: 50%;\n",
              "      cursor: pointer;\n",
              "      display: none;\n",
              "      fill: #1967D2;\n",
              "      height: 32px;\n",
              "      padding: 0 0 0 0;\n",
              "      width: 32px;\n",
              "    }\n",
              "\n",
              "    .colab-df-convert:hover {\n",
              "      background-color: #E2EBFA;\n",
              "      box-shadow: 0px 1px 2px rgba(60, 64, 67, 0.3), 0px 1px 3px 1px rgba(60, 64, 67, 0.15);\n",
              "      fill: #174EA6;\n",
              "    }\n",
              "\n",
              "    [theme=dark] .colab-df-convert {\n",
              "      background-color: #3B4455;\n",
              "      fill: #D2E3FC;\n",
              "    }\n",
              "\n",
              "    [theme=dark] .colab-df-convert:hover {\n",
              "      background-color: #434B5C;\n",
              "      box-shadow: 0px 1px 3px 1px rgba(0, 0, 0, 0.15);\n",
              "      filter: drop-shadow(0px 1px 2px rgba(0, 0, 0, 0.3));\n",
              "      fill: #FFFFFF;\n",
              "    }\n",
              "  </style>\n",
              "\n",
              "      <script>\n",
              "        const buttonEl =\n",
              "          document.querySelector('#df-d104fcae-737c-4d9f-8b6c-a54459b7f679 button.colab-df-convert');\n",
              "        buttonEl.style.display =\n",
              "          google.colab.kernel.accessAllowed ? 'block' : 'none';\n",
              "\n",
              "        async function convertToInteractive(key) {\n",
              "          const element = document.querySelector('#df-d104fcae-737c-4d9f-8b6c-a54459b7f679');\n",
              "          const dataTable =\n",
              "            await google.colab.kernel.invokeFunction('convertToInteractive',\n",
              "                                                     [key], {});\n",
              "          if (!dataTable) return;\n",
              "\n",
              "          const docLinkHtml = 'Like what you see? Visit the ' +\n",
              "            '<a target=\"_blank\" href=https://colab.research.google.com/notebooks/data_table.ipynb>data table notebook</a>'\n",
              "            + ' to learn more about interactive tables.';\n",
              "          element.innerHTML = '';\n",
              "          dataTable['output_type'] = 'display_data';\n",
              "          await google.colab.output.renderOutput(dataTable, element);\n",
              "          const docLink = document.createElement('div');\n",
              "          docLink.innerHTML = docLinkHtml;\n",
              "          element.appendChild(docLink);\n",
              "        }\n",
              "      </script>\n",
              "    </div>\n",
              "  </div>\n",
              "  "
            ]
          },
          "metadata": {},
          "execution_count": 133
        }
      ]
    },
    {
      "cell_type": "code",
      "source": [
        "# 전체 단어에 대한 소문자 변환\n",
        "processed_news_df['document'] = processed_news_df['document'].str.lower()\n",
        "processed_news_df"
      ],
      "metadata": {
        "colab": {
          "base_uri": "https://localhost:8080/",
          "height": 423
        },
        "id": "7IiyM0YTioWh",
        "outputId": "173b0327-9f90-445e-85fa-a2df4e576203"
      },
      "execution_count": null,
      "outputs": [
        {
          "output_type": "execute_result",
          "data": {
            "text/plain": [
              "                                               document\n",
              "0     okay trying install ncsa telnet couple okay wh...\n",
              "1     everyone recently posted about how received ba...\n",
              "2     one should ever rely just magazine determine w...\n",
              "3     rick anderson replied letter with article elp ...\n",
              "4     description external tank option for ssf redes...\n",
              "...                                                 ...\n",
              "8194  loved dan kelly was usa when first got hooked ...\n",
              "8195  have minivas and want record abekas have most ...\n",
              "8196  videonics title maker system about monthes old...\n",
              "8197  anas course the yahud needed blood for the mat...\n",
              "8198  from push media mit edu pushpinder singh subje...\n",
              "\n",
              "[8199 rows x 1 columns]"
            ],
            "text/html": [
              "\n",
              "  <div id=\"df-24743808-5103-420d-834f-fc8b3457ef6a\">\n",
              "    <div class=\"colab-df-container\">\n",
              "      <div>\n",
              "<style scoped>\n",
              "    .dataframe tbody tr th:only-of-type {\n",
              "        vertical-align: middle;\n",
              "    }\n",
              "\n",
              "    .dataframe tbody tr th {\n",
              "        vertical-align: top;\n",
              "    }\n",
              "\n",
              "    .dataframe thead th {\n",
              "        text-align: right;\n",
              "    }\n",
              "</style>\n",
              "<table border=\"1\" class=\"dataframe\">\n",
              "  <thead>\n",
              "    <tr style=\"text-align: right;\">\n",
              "      <th></th>\n",
              "      <th>document</th>\n",
              "    </tr>\n",
              "  </thead>\n",
              "  <tbody>\n",
              "    <tr>\n",
              "      <th>0</th>\n",
              "      <td>okay trying install ncsa telnet couple okay wh...</td>\n",
              "    </tr>\n",
              "    <tr>\n",
              "      <th>1</th>\n",
              "      <td>everyone recently posted about how received ba...</td>\n",
              "    </tr>\n",
              "    <tr>\n",
              "      <th>2</th>\n",
              "      <td>one should ever rely just magazine determine w...</td>\n",
              "    </tr>\n",
              "    <tr>\n",
              "      <th>3</th>\n",
              "      <td>rick anderson replied letter with article elp ...</td>\n",
              "    </tr>\n",
              "    <tr>\n",
              "      <th>4</th>\n",
              "      <td>description external tank option for ssf redes...</td>\n",
              "    </tr>\n",
              "    <tr>\n",
              "      <th>...</th>\n",
              "      <td>...</td>\n",
              "    </tr>\n",
              "    <tr>\n",
              "      <th>8194</th>\n",
              "      <td>loved dan kelly was usa when first got hooked ...</td>\n",
              "    </tr>\n",
              "    <tr>\n",
              "      <th>8195</th>\n",
              "      <td>have minivas and want record abekas have most ...</td>\n",
              "    </tr>\n",
              "    <tr>\n",
              "      <th>8196</th>\n",
              "      <td>videonics title maker system about monthes old...</td>\n",
              "    </tr>\n",
              "    <tr>\n",
              "      <th>8197</th>\n",
              "      <td>anas course the yahud needed blood for the mat...</td>\n",
              "    </tr>\n",
              "    <tr>\n",
              "      <th>8198</th>\n",
              "      <td>from push media mit edu pushpinder singh subje...</td>\n",
              "    </tr>\n",
              "  </tbody>\n",
              "</table>\n",
              "<p>8199 rows × 1 columns</p>\n",
              "</div>\n",
              "      <button class=\"colab-df-convert\" onclick=\"convertToInteractive('df-24743808-5103-420d-834f-fc8b3457ef6a')\"\n",
              "              title=\"Convert this dataframe to an interactive table.\"\n",
              "              style=\"display:none;\">\n",
              "        \n",
              "  <svg xmlns=\"http://www.w3.org/2000/svg\" height=\"24px\"viewBox=\"0 0 24 24\"\n",
              "       width=\"24px\">\n",
              "    <path d=\"M0 0h24v24H0V0z\" fill=\"none\"/>\n",
              "    <path d=\"M18.56 5.44l.94 2.06.94-2.06 2.06-.94-2.06-.94-.94-2.06-.94 2.06-2.06.94zm-11 1L8.5 8.5l.94-2.06 2.06-.94-2.06-.94L8.5 2.5l-.94 2.06-2.06.94zm10 10l.94 2.06.94-2.06 2.06-.94-2.06-.94-.94-2.06-.94 2.06-2.06.94z\"/><path d=\"M17.41 7.96l-1.37-1.37c-.4-.4-.92-.59-1.43-.59-.52 0-1.04.2-1.43.59L10.3 9.45l-7.72 7.72c-.78.78-.78 2.05 0 2.83L4 21.41c.39.39.9.59 1.41.59.51 0 1.02-.2 1.41-.59l7.78-7.78 2.81-2.81c.8-.78.8-2.07 0-2.86zM5.41 20L4 18.59l7.72-7.72 1.47 1.35L5.41 20z\"/>\n",
              "  </svg>\n",
              "      </button>\n",
              "      \n",
              "  <style>\n",
              "    .colab-df-container {\n",
              "      display:flex;\n",
              "      flex-wrap:wrap;\n",
              "      gap: 12px;\n",
              "    }\n",
              "\n",
              "    .colab-df-convert {\n",
              "      background-color: #E8F0FE;\n",
              "      border: none;\n",
              "      border-radius: 50%;\n",
              "      cursor: pointer;\n",
              "      display: none;\n",
              "      fill: #1967D2;\n",
              "      height: 32px;\n",
              "      padding: 0 0 0 0;\n",
              "      width: 32px;\n",
              "    }\n",
              "\n",
              "    .colab-df-convert:hover {\n",
              "      background-color: #E2EBFA;\n",
              "      box-shadow: 0px 1px 2px rgba(60, 64, 67, 0.3), 0px 1px 3px 1px rgba(60, 64, 67, 0.15);\n",
              "      fill: #174EA6;\n",
              "    }\n",
              "\n",
              "    [theme=dark] .colab-df-convert {\n",
              "      background-color: #3B4455;\n",
              "      fill: #D2E3FC;\n",
              "    }\n",
              "\n",
              "    [theme=dark] .colab-df-convert:hover {\n",
              "      background-color: #434B5C;\n",
              "      box-shadow: 0px 1px 3px 1px rgba(0, 0, 0, 0.15);\n",
              "      filter: drop-shadow(0px 1px 2px rgba(0, 0, 0, 0.3));\n",
              "      fill: #FFFFFF;\n",
              "    }\n",
              "  </style>\n",
              "\n",
              "      <script>\n",
              "        const buttonEl =\n",
              "          document.querySelector('#df-24743808-5103-420d-834f-fc8b3457ef6a button.colab-df-convert');\n",
              "        buttonEl.style.display =\n",
              "          google.colab.kernel.accessAllowed ? 'block' : 'none';\n",
              "\n",
              "        async function convertToInteractive(key) {\n",
              "          const element = document.querySelector('#df-24743808-5103-420d-834f-fc8b3457ef6a');\n",
              "          const dataTable =\n",
              "            await google.colab.kernel.invokeFunction('convertToInteractive',\n",
              "                                                     [key], {});\n",
              "          if (!dataTable) return;\n",
              "\n",
              "          const docLinkHtml = 'Like what you see? Visit the ' +\n",
              "            '<a target=\"_blank\" href=https://colab.research.google.com/notebooks/data_table.ipynb>data table notebook</a>'\n",
              "            + ' to learn more about interactive tables.';\n",
              "          element.innerHTML = '';\n",
              "          dataTable['output_type'] = 'display_data';\n",
              "          await google.colab.output.renderOutput(dataTable, element);\n",
              "          const docLink = document.createElement('div');\n",
              "          docLink.innerHTML = docLinkHtml;\n",
              "          element.appendChild(docLink);\n",
              "        }\n",
              "      </script>\n",
              "    </div>\n",
              "  </div>\n",
              "  "
            ]
          },
          "metadata": {},
          "execution_count": 134
        }
      ]
    },
    {
      "cell_type": "code",
      "source": [
        "import nltk\n",
        "from nltk.corpus import stopwords"
      ],
      "metadata": {
        "id": "Rng1RFINu0fa"
      },
      "execution_count": null,
      "outputs": []
    },
    {
      "cell_type": "code",
      "source": [
        "nltk.download('stopwords')"
      ],
      "metadata": {
        "colab": {
          "base_uri": "https://localhost:8080/"
        },
        "id": "flwZn95vu6S0",
        "outputId": "dd47e214-9ca7-49fb-a8d2-23ed36f1a772"
      },
      "execution_count": null,
      "outputs": [
        {
          "output_type": "stream",
          "name": "stderr",
          "text": [
            "[nltk_data] Downloading package stopwords to /root/nltk_data...\n",
            "[nltk_data]   Package stopwords is already up-to-date!\n"
          ]
        },
        {
          "output_type": "execute_result",
          "data": {
            "text/plain": [
              "True"
            ]
          },
          "metadata": {},
          "execution_count": 136
        }
      ]
    },
    {
      "cell_type": "code",
      "source": [
        "stop_words = stopwords.words('english')\n",
        "print(len(stop_words))\n",
        "print(stop_words[:10])"
      ],
      "metadata": {
        "colab": {
          "base_uri": "https://localhost:8080/"
        },
        "id": "NzyUJLp0u_GT",
        "outputId": "eb52c2fa-aaa9-46fb-9db8-57453d8fb032"
      },
      "execution_count": null,
      "outputs": [
        {
          "output_type": "stream",
          "name": "stdout",
          "text": [
            "179\n",
            "['i', 'me', 'my', 'myself', 'we', 'our', 'ours', 'ourselves', 'you', \"you're\"]\n"
          ]
        }
      ]
    },
    {
      "cell_type": "code",
      "source": [
        "# 데이터셋에 불용어를 제외하여 띄어쓰기 단위로 문장을 분리\n",
        "tokenized_doc = processed_news_df['document'].apply(lambda x: x.split())\n",
        "tokenized_doc = tokenized_doc.apply(lambda x: [s_word for s_word in x if s_word not in stop_words])\n",
        "tokenized_doc"
      ],
      "metadata": {
        "colab": {
          "base_uri": "https://localhost:8080/"
        },
        "id": "81M2dsN2vXk-",
        "outputId": "a36e8a9e-cc74-4fea-c215-b49e9206079f"
      },
      "execution_count": null,
      "outputs": [
        {
          "output_type": "execute_result",
          "data": {
            "text/plain": [
              "0       [okay, trying, install, ncsa, telnet, couple, ...\n",
              "1       [everyone, recently, posted, received, bad, vr...\n",
              "2       [one, ever, rely, magazine, determine, car, bu...\n",
              "3       [rick, anderson, replied, letter, article, elp...\n",
              "4       [description, external, tank, option, ssf, red...\n",
              "                              ...                        \n",
              "8194    [loved, dan, kelly, usa, first, got, hooked, h...\n",
              "8195    [minivas, want, record, abekas, functions, wor...\n",
              "8196    [videonics, title, maker, system, monthes, old...\n",
              "8197    [anas, course, yahud, needed, blood, matza, pa...\n",
              "8198    [push, media, mit, edu, pushpinder, singh, sub...\n",
              "Name: document, Length: 8199, dtype: object"
            ]
          },
          "metadata": {},
          "execution_count": 138
        }
      ]
    },
    {
      "cell_type": "code",
      "source": [
        "tokenized_doc = tokenized_doc.to_list()\n",
        "print(len(tokenized_doc))"
      ],
      "metadata": {
        "colab": {
          "base_uri": "https://localhost:8080/"
        },
        "id": "r3CD8bFnwxqD",
        "outputId": "cf97b113-5f61-4e5a-9049-0d26a6220a2d"
      },
      "execution_count": null,
      "outputs": [
        {
          "output_type": "stream",
          "name": "stdout",
          "text": [
            "8199\n"
          ]
        }
      ]
    },
    {
      "cell_type": "code",
      "source": [
        "from tensorflow.keras.preprocessing.text import Tokenizer"
      ],
      "metadata": {
        "id": "9JC4RSSyw8Un"
      },
      "execution_count": null,
      "outputs": []
    },
    {
      "cell_type": "code",
      "source": [
        "tokenizer = Tokenizer()"
      ],
      "metadata": {
        "id": "lKVd6odlxQKd"
      },
      "execution_count": null,
      "outputs": []
    },
    {
      "cell_type": "code",
      "source": [
        "tokenizer.fit_on_texts(tokenized_doc)"
      ],
      "metadata": {
        "id": "BRV--8VhxTxQ"
      },
      "execution_count": null,
      "outputs": []
    },
    {
      "cell_type": "code",
      "source": [
        "word2idx = tokenizer.word_index\n",
        "idx2word = {value: key for key, value in word2idx.items()}\n",
        "encoded = tokenizer.texts_to_sequences(tokenized_doc)"
      ],
      "metadata": {
        "id": "IYYSz0bTxZV2"
      },
      "execution_count": null,
      "outputs": []
    },
    {
      "cell_type": "code",
      "source": [
        "vocab_size = len(word2idx) + 1\n",
        "print(f'단어 사전의 크기: {vocab_size}')"
      ],
      "metadata": {
        "colab": {
          "base_uri": "https://localhost:8080/"
        },
        "id": "6A7upYZtxtV8",
        "outputId": "0bd3dc3e-5167-4446-c76f-2b45e3fc01de"
      },
      "execution_count": null,
      "outputs": [
        {
          "output_type": "stream",
          "name": "stdout",
          "text": [
            "단어 사전의 크기: 70992\n"
          ]
        }
      ]
    },
    {
      "cell_type": "code",
      "source": [
        "print(encoded[0])"
      ],
      "metadata": {
        "colab": {
          "base_uri": "https://localhost:8080/"
        },
        "id": "unl-X7yTyN68",
        "outputId": "c0f11c54-e9b3-43f5-e31f-e1ea2534f134"
      },
      "execution_count": null,
      "outputs": [
        {
          "output_type": "stream",
          "name": "stdout",
          "text": [
            "[1591, 194, 1431, 5766, 4027, 424, 1591, 250, 1459, 693, 107, 1073, 22061, 120, 37008, 27005, 658, 37009, 658, 14848, 1034, 411, 13, 3614, 4027, 29, 115, 7777, 458, 97, 1703, 42, 14849, 791, 4027, 7777, 5, 72, 3248, 32, 4027, 911, 50, 673, 393, 76, 137, 95, 7202, 7202, 27006, 151, 314, 11552, 18821, 1592, 111, 205]\n"
          ]
        }
      ]
    },
    {
      "cell_type": "code",
      "source": [
        "# 네거티브 샘플링을 위해 keras에서 제공하는 전처리 도구 skipgrams 사용\n",
        "from tensorflow.keras.preprocessing.sequence import skipgrams"
      ],
      "metadata": {
        "id": "0C0maE2HHC-Z"
      },
      "execution_count": null,
      "outputs": []
    },
    {
      "cell_type": "code",
      "source": [
        "skip_grams = [skipgrams(sample, vocabulary_size=vocab_size, window_size=10) for sample in encoded[:5]]\n",
        "print(f'전체 샘플 수: {len(skip_grams)}')"
      ],
      "metadata": {
        "colab": {
          "base_uri": "https://localhost:8080/"
        },
        "id": "Mr5da2sqHm2u",
        "outputId": "9bcf3c7d-8701-4d10-ea3e-192d6e593702"
      },
      "execution_count": null,
      "outputs": [
        {
          "output_type": "stream",
          "name": "stdout",
          "text": [
            "전체 샘플 수: 5\n"
          ]
        }
      ]
    },
    {
      "cell_type": "code",
      "source": [
        "# skip_grams[0]에 skipgrams로 형성된 데이터셋 확인\n",
        "pairs, labels = skip_grams[0][0], skip_grams[0][1]\n",
        "print(f'3 pairs: {pairs[:3]}')\n",
        "print(f'3 labels: {labels[:3]}')"
      ],
      "metadata": {
        "colab": {
          "base_uri": "https://localhost:8080/"
        },
        "id": "pPc8WFf8IElc",
        "outputId": "41411088-3e9e-4b03-cda8-833ec9761eb2"
      },
      "execution_count": null,
      "outputs": [
        {
          "output_type": "stream",
          "name": "stdout",
          "text": [
            "3 pairs: [[151, 18821], [7777, 42674], [50, 24395]]\n",
            "3 labels: [1, 0, 0]\n"
          ]
        }
      ]
    },
    {
      "cell_type": "code",
      "source": [
        "# 첫번째 뉴스 그룹 샘플에 대해 생긴 pairs와 labels의 개수\n",
        "print(len(pairs))\n",
        "print(len(labels))"
      ],
      "metadata": {
        "colab": {
          "base_uri": "https://localhost:8080/"
        },
        "id": "6nvvPs3HJWWR",
        "outputId": "06fa2266-531c-4998-85f6-4cb9711771d8"
      },
      "execution_count": null,
      "outputs": [
        {
          "output_type": "stream",
          "name": "stdout",
          "text": [
            "2100\n",
            "2100\n"
          ]
        }
      ]
    },
    {
      "cell_type": "code",
      "source": [
        "for i in range(5):\n",
        "    print('({:s} ({:d}), {:s} ({:d})) -> {:d}'.format(\n",
        "        idx2word[pairs[i][0]], pairs[i][0],\n",
        "        idx2word[pairs[i][1]], pairs[i][1],\n",
        "        labels[i]\n",
        "    ))"
      ],
      "metadata": {
        "colab": {
          "base_uri": "https://localhost:8080/"
        },
        "id": "YkPDtS8rJrNE",
        "outputId": "29e12957-65e9-4903-8364-5e07b64b9e3c"
      },
      "execution_count": null,
      "outputs": [
        {
          "output_type": "stream",
          "name": "stdout",
          "text": [
            "(computer (151), bowling (18821)) -> 1\n",
            "(appletalk (7777), mfx (42674)) -> 0\n",
            "(please (50), rik (24395)) -> 0\n",
            "(belive (14848), clever (5968)) -> 0\n",
            "(jeremy (7202), becuase (10479)) -> 0\n"
          ]
        }
      ]
    },
    {
      "cell_type": "code",
      "source": [
        "training_dataset = [skipgrams(sample, vocabulary_size=vocab_size, window_size=10) for sample in encoded[:5000]]"
      ],
      "metadata": {
        "id": "bd78n9GkKMKe"
      },
      "execution_count": null,
      "outputs": []
    },
    {
      "cell_type": "code",
      "source": [
        "len(training_dataset)"
      ],
      "metadata": {
        "colab": {
          "base_uri": "https://localhost:8080/"
        },
        "id": "jSu5YeTVK73F",
        "outputId": "860cc5cb-45ec-4823-fc4f-358032aa6874"
      },
      "execution_count": null,
      "outputs": [
        {
          "output_type": "execute_result",
          "data": {
            "text/plain": [
              "5000"
            ]
          },
          "metadata": {},
          "execution_count": 152
        }
      ]
    },
    {
      "cell_type": "code",
      "source": [
        "from tensorflow.keras.models import Sequential, Model\n",
        "from tensorflow.keras.layers import Embedding, Reshape, Activation, Input, Dot\n",
        "from tensorflow.keras.utils import plot_model"
      ],
      "metadata": {
        "id": "B4BrsZwVLEbz"
      },
      "execution_count": null,
      "outputs": []
    },
    {
      "cell_type": "code",
      "source": [
        "embedding_dim = 100\n",
        "\n",
        "# 중심 단어를 위한 임베딩 테이블\n",
        "w_inputs = Input(shape=(1,), dtype='int32')\n",
        "word_embedding = Embedding(vocab_size, embedding_dim)(w_inputs)\n",
        "\n",
        "c_inputs = Input(shape=(1,), dtype='int32')\n",
        "context_embedding = Embedding(vocab_size, embedding_dim)(c_inputs)"
      ],
      "metadata": {
        "id": "9nrX2ybcMmJR"
      },
      "execution_count": null,
      "outputs": []
    },
    {
      "cell_type": "code",
      "source": [
        "dot_product = Dot(axes=2)([word_embedding, context_embedding])\n",
        "dot_product = Reshape((1,), input_shape=(1, 1))(dot_product)\n",
        "output = Activation('sigmoid')(dot_product)\n",
        "\n",
        "model = Model(inputs = [w_inputs, c_inputs], outputs=output)\n",
        "model.summary()"
      ],
      "metadata": {
        "colab": {
          "base_uri": "https://localhost:8080/"
        },
        "id": "5V-9yND1NYSl",
        "outputId": "22af599c-9041-47c4-b995-63ad58a85649"
      },
      "execution_count": null,
      "outputs": [
        {
          "output_type": "stream",
          "name": "stdout",
          "text": [
            "Model: \"model_1\"\n",
            "__________________________________________________________________________________________________\n",
            " Layer (type)                   Output Shape         Param #     Connected to                     \n",
            "==================================================================================================\n",
            " input_5 (InputLayer)           [(None, 1)]          0           []                               \n",
            "                                                                                                  \n",
            " input_6 (InputLayer)           [(None, 1)]          0           []                               \n",
            "                                                                                                  \n",
            " embedding_4 (Embedding)        (None, 1, 100)       7099200     ['input_5[0][0]']                \n",
            "                                                                                                  \n",
            " embedding_5 (Embedding)        (None, 1, 100)       7099200     ['input_6[0][0]']                \n",
            "                                                                                                  \n",
            " dot_1 (Dot)                    (None, 1, 1)         0           ['embedding_4[0][0]',            \n",
            "                                                                  'embedding_5[0][0]']            \n",
            "                                                                                                  \n",
            " reshape_1 (Reshape)            (None, 1)            0           ['dot_1[0][0]']                  \n",
            "                                                                                                  \n",
            " activation_1 (Activation)      (None, 1)            0           ['reshape_1[0][0]']              \n",
            "                                                                                                  \n",
            "==================================================================================================\n",
            "Total params: 14,198,400\n",
            "Trainable params: 14,198,400\n",
            "Non-trainable params: 0\n",
            "__________________________________________________________________________________________________\n"
          ]
        }
      ]
    },
    {
      "cell_type": "code",
      "source": [
        "model.compile(loss='binary_crossentropy', optimizer='adam')"
      ],
      "metadata": {
        "id": "xKAWgEgbODX1"
      },
      "execution_count": null,
      "outputs": []
    },
    {
      "cell_type": "code",
      "source": [
        "plot_model(model, to_file='model.png', show_shapes=True, show_layer_names=True)"
      ],
      "metadata": {
        "colab": {
          "base_uri": "https://localhost:8080/",
          "height": 533
        },
        "id": "A40597lEOacX",
        "outputId": "41419466-ce47-4e52-f698-d6cbb1ad4bfd"
      },
      "execution_count": null,
      "outputs": [
        {
          "output_type": "execute_result",
          "data": {
            "image/png": "[encoded data removed]",
            "text/plain": [
              "<IPython.core.display.Image object>"
            ]
          },
          "metadata": {},
          "execution_count": 157
        }
      ]
    },
    {
      "cell_type": "code",
      "source": [
        "# for _, elem in enumerate(skip_grams):\n",
        "#     # print(elem)\n",
        "#     first_elem = np.array(list(zip(*elem[0]))[0], dtype='int32')\n",
        "#     second_elem = np.array(list(zip(*elem[0]))[1], dtype='int32')\n",
        "#     print(first_elem)\n",
        "#     print()\n",
        "#     print(second_elem)"
      ],
      "metadata": {
        "id": "5U5yzQv8Ss_-"
      },
      "execution_count": null,
      "outputs": []
    },
    {
      "cell_type": "code",
      "source": [
        "for epoch in range(100):\n",
        "    loss = 0\n",
        "    for _, elem in enumerate(skip_grams):\n",
        "        first_elem = np.array(list(zip(*elem[0]))[0], dtype='int32')\n",
        "        second_elem = np.array(list(zip(*elem[0]))[1], dtype='int32')\n",
        "        labels = np.array(elem[1], dtype='int32')\n",
        "        X = [first_elem, second_elem]\n",
        "        Y = labels\n",
        "        loss += model.train_on_batch(X, Y)\n",
        "    print('Epoch: ', epoch+1, 'Loss: ', loss)"
      ],
      "metadata": {
        "colab": {
          "base_uri": "https://localhost:8080/"
        },
        "id": "ebuK_xcEPClK",
        "outputId": "41de2790-aca5-4209-c1e6-11a22683c7d4"
      },
      "execution_count": null,
      "outputs": [
        {
          "output_type": "stream",
          "name": "stdout",
          "text": [
            "Epoch:  1 Loss:  3.46570360660553\n",
            "Epoch:  2 Loss:  3.4585976004600525\n",
            "Epoch:  3 Loss:  3.4514755606651306\n",
            "Epoch:  4 Loss:  3.4436960220336914\n",
            "Epoch:  5 Loss:  3.4349659085273743\n",
            "Epoch:  6 Loss:  3.4249982833862305\n",
            "Epoch:  7 Loss:  3.4135131239891052\n",
            "Epoch:  8 Loss:  3.400240421295166\n",
            "Epoch:  9 Loss:  3.3849217891693115\n",
            "Epoch:  10 Loss:  3.3673125505447388\n",
            "Epoch:  11 Loss:  3.3471837043762207\n",
            "Epoch:  12 Loss:  3.3243255615234375\n",
            "Epoch:  13 Loss:  3.298550069332123\n",
            "Epoch:  14 Loss:  3.269695460796356\n",
            "Epoch:  15 Loss:  3.2376282811164856\n",
            "Epoch:  16 Loss:  3.202246308326721\n",
            "Epoch:  17 Loss:  3.1634808778762817\n",
            "Epoch:  18 Loss:  3.1212993264198303\n",
            "Epoch:  19 Loss:  3.0757055282592773\n",
            "Epoch:  20 Loss:  3.026739716529846\n",
            "Epoch:  21 Loss:  2.974479377269745\n",
            "Epoch:  22 Loss:  2.9190369248390198\n",
            "Epoch:  23 Loss:  2.860559821128845\n",
            "Epoch:  24 Loss:  2.7992271780967712\n",
            "Epoch:  25 Loss:  2.7352490425109863\n",
            "Epoch:  26 Loss:  2.668862462043762\n",
            "Epoch:  27 Loss:  2.600328177213669\n",
            "Epoch:  28 Loss:  2.5299273133277893\n",
            "Epoch:  29 Loss:  2.4579565823078156\n",
            "Epoch:  30 Loss:  2.3847242295742035\n",
            "Epoch:  31 Loss:  2.3105452060699463\n",
            "Epoch:  32 Loss:  2.235736668109894\n",
            "Epoch:  33 Loss:  2.1606134474277496\n",
            "Epoch:  34 Loss:  2.085483491420746\n",
            "Epoch:  35 Loss:  2.0106442868709564\n",
            "Epoch:  36 Loss:  1.9363784790039062\n",
            "Epoch:  37 Loss:  1.8629515767097473\n",
            "Epoch:  38 Loss:  1.7906084656715393\n",
            "Epoch:  39 Loss:  1.7195722460746765\n",
            "Epoch:  40 Loss:  1.6500415205955505\n",
            "Epoch:  41 Loss:  1.5821905732154846\n",
            "Epoch:  42 Loss:  1.5161681771278381\n",
            "Epoch:  43 Loss:  1.4520981907844543\n",
            "Epoch:  44 Loss:  1.3900801092386246\n",
            "Epoch:  45 Loss:  1.3301895260810852\n",
            "Epoch:  46 Loss:  1.2724802792072296\n",
            "Epoch:  47 Loss:  1.216985508799553\n",
            "Epoch:  48 Loss:  1.1637192368507385\n",
            "Epoch:  49 Loss:  1.112678900361061\n",
            "Epoch:  50 Loss:  1.0638469010591507\n",
            "Epoch:  51 Loss:  1.0171924829483032\n",
            "Epoch:  52 Loss:  0.972673699259758\n",
            "Epoch:  53 Loss:  0.9302394986152649\n",
            "Epoch:  54 Loss:  0.8898312151432037\n",
            "Epoch:  55 Loss:  0.8513840734958649\n",
            "Epoch:  56 Loss:  0.8148288428783417\n",
            "Epoch:  57 Loss:  0.7800930589437485\n",
            "Epoch:  58 Loss:  0.747102178633213\n",
            "Epoch:  59 Loss:  0.7157805040478706\n",
            "Epoch:  60 Loss:  0.6860521584749222\n",
            "Epoch:  61 Loss:  0.6578417345881462\n",
            "Epoch:  62 Loss:  0.6310748681426048\n",
            "Epoch:  63 Loss:  0.6056788265705109\n",
            "Epoch:  64 Loss:  0.5815828517079353\n",
            "Epoch:  65 Loss:  0.5587183833122253\n",
            "Epoch:  66 Loss:  0.5370193421840668\n",
            "Epoch:  67 Loss:  0.5164224207401276\n",
            "Epoch:  68 Loss:  0.4968668147921562\n",
            "Epoch:  69 Loss:  0.4782947599887848\n",
            "Epoch:  70 Loss:  0.4606511741876602\n",
            "Epoch:  71 Loss:  0.4438837841153145\n",
            "Epoch:  72 Loss:  0.42794303596019745\n",
            "Epoch:  73 Loss:  0.41278210282325745\n",
            "Epoch:  74 Loss:  0.39835675060749054\n",
            "Epoch:  75 Loss:  0.38462522253394127\n",
            "Epoch:  76 Loss:  0.3715481646358967\n",
            "Epoch:  77 Loss:  0.359088521450758\n",
            "Epoch:  78 Loss:  0.34721145033836365\n",
            "Epoch:  79 Loss:  0.3358842469751835\n",
            "Epoch:  80 Loss:  0.32507605850696564\n",
            "Epoch:  81 Loss:  0.31475792452692986\n",
            "Epoch:  82 Loss:  0.30490273237228394\n",
            "Epoch:  83 Loss:  0.2954849377274513\n",
            "Epoch:  84 Loss:  0.2864805907011032\n",
            "Epoch:  85 Loss:  0.2778671719133854\n",
            "Epoch:  86 Loss:  0.26962362229824066\n",
            "Epoch:  87 Loss:  0.26173005253076553\n",
            "Epoch:  88 Loss:  0.254167877137661\n",
            "Epoch:  89 Loss:  0.24691960215568542\n",
            "Epoch:  90 Loss:  0.23996876925230026\n",
            "Epoch:  91 Loss:  0.23329998552799225\n",
            "Epoch:  92 Loss:  0.22689871862530708\n",
            "Epoch:  93 Loss:  0.2207513116300106\n",
            "Epoch:  94 Loss:  0.2148449532687664\n",
            "Epoch:  95 Loss:  0.20916756615042686\n",
            "Epoch:  96 Loss:  0.20370778627693653\n",
            "Epoch:  97 Loss:  0.19845491461455822\n",
            "Epoch:  98 Loss:  0.19339887239038944\n",
            "Epoch:  99 Loss:  0.18853017501533031\n",
            "Epoch:  100 Loss:  0.18383985199034214\n"
          ]
        }
      ]
    },
    {
      "cell_type": "code",
      "source": [
        "import gensim"
      ],
      "metadata": {
        "id": "fx7XVpRJTJbD"
      },
      "execution_count": null,
      "outputs": []
    },
    {
      "cell_type": "code",
      "source": [
        "f = open('vectors.txt', 'w')\n",
        "f.write('{} {}\\n'.format(vocab_size-1, embedding_dim))\n",
        "vectors = model.get_weights()[0]\n",
        "# print(vectors)\n",
        "for word, i in tokenizer.word_index.items():\n",
        "    f.write('{} {}\\n'.format(word, ' '.join(map(str, list(vectors[i, :])))))\n",
        "f.close()"
      ],
      "metadata": {
        "id": "5o69Vfi4U4jX"
      },
      "execution_count": null,
      "outputs": []
    },
    {
      "cell_type": "code",
      "source": [
        "w2v = gensim.models.KeyedVectors.load_word2vec_format('./vectors.txt', binary=False)"
      ],
      "metadata": {
        "id": "ii5OTtGuVg9I"
      },
      "execution_count": null,
      "outputs": []
    },
    {
      "cell_type": "code",
      "source": [
        "w2v.most_similar(positive=['apple'])"
      ],
      "metadata": {
        "colab": {
          "base_uri": "https://localhost:8080/"
        },
        "id": "VyxHPnCGWG7N",
        "outputId": "d3e6ad6f-3eec-49fd-ae23-4dec5dacfb29"
      },
      "execution_count": null,
      "outputs": [
        {
          "output_type": "execute_result",
          "data": {
            "text/plain": [
              "[('dog', 0.41124171018600464),\n",
              " ('xdswm', 0.40492895245552063),\n",
              " ('ellet', 0.3998315930366516),\n",
              " ('mkjznkjz', 0.3914651572704315),\n",
              " ('enlargement', 0.38903042674064636),\n",
              " ('gallagher', 0.3722364008426666),\n",
              " ('luh', 0.3720100224018097),\n",
              " ('xtgetactionkeysym', 0.36217817664146423),\n",
              " ('cipher', 0.35908055305480957),\n",
              " ('reaped', 0.34794992208480835)]"
            ]
          },
          "metadata": {},
          "execution_count": 163
        }
      ]
    },
    {
      "cell_type": "code",
      "source": [
        "w2v.most_similar(positive=['doctor'])"
      ],
      "metadata": {
        "colab": {
          "base_uri": "https://localhost:8080/"
        },
        "id": "UEeeauAIWb0m",
        "outputId": "2de54717-ec25-43cf-e44d-6d29b7f886d2"
      },
      "execution_count": null,
      "outputs": [
        {
          "output_type": "execute_result",
          "data": {
            "text/plain": [
              "[('disch', 0.3957732319831848),\n",
              " ('ney', 0.3906957507133484),\n",
              " ('veos', 0.3820001184940338),\n",
              " ('hierarchy', 0.37917840480804443),\n",
              " ('ponder', 0.3765055537223816),\n",
              " ('offshoot', 0.3741574287414551),\n",
              " ('vakiflar', 0.35961341857910156),\n",
              " ('raytracing', 0.35934603214263916),\n",
              " ('volumetric', 0.3586407005786896),\n",
              " ('anstettj', 0.35818198323249817)]"
            ]
          },
          "metadata": {},
          "execution_count": 164
        }
      ]
    },
    {
      "cell_type": "code",
      "source": [
        "w2v.most_similar(positive=['engine'])"
      ],
      "metadata": {
        "colab": {
          "base_uri": "https://localhost:8080/"
        },
        "id": "mCXwZ9JVWfGZ",
        "outputId": "8dec2aa3-9ac9-4703-dfe4-d1411e4a2d1b"
      },
      "execution_count": null,
      "outputs": [
        {
          "output_type": "execute_result",
          "data": {
            "text/plain": [
              "[('itz', 0.4009971022605896),\n",
              " ('hqy', 0.3782673478126526),\n",
              " ('subtle', 0.3769959509372711),\n",
              " ('informal', 0.3588967025279999),\n",
              " ('degauss', 0.357398122549057),\n",
              " ('bqodk', 0.35615307092666626),\n",
              " ('infoline', 0.3544870913028717),\n",
              " ('batse', 0.3540104031562805),\n",
              " ('hold', 0.353756308555603),\n",
              " ('zam', 0.34748825430870056)]"
            ]
          },
          "metadata": {},
          "execution_count": 165
        }
      ]
    },
    {
      "cell_type": "markdown",
      "source": [
        "### 과제\n",
        "[AI Hub](https://www.aihub.or.kr/)에 공개되어 있는 한국어 도서 요약 데이터셋을 활용하여 한국어 워드 임베딩 구축"
      ],
      "metadata": {
        "id": "AFOPeItMWjMM"
      }
    },
    {
      "cell_type": "code",
      "source": [],
      "metadata": {
        "id": "Jke1UoyGXo7c"
      },
      "execution_count": null,
      "outputs": []
    }
  ]
}